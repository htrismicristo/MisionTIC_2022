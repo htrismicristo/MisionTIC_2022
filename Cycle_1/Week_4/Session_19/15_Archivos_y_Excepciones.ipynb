{
  "nbformat": 4,
  "nbformat_minor": 0,
  "metadata": {
    "kernelspec": {
      "display_name": "Python 3",
      "language": "python",
      "name": "python3"
    },
    "language_info": {
      "codemirror_mode": {
        "name": "ipython",
        "version": 3
      },
      "file_extension": ".py",
      "mimetype": "text/x-python",
      "name": "python",
      "nbconvert_exporter": "python",
      "pygments_lexer": "ipython3",
      "version": "3.7.3"
    },
    "colab": {
      "name": "15-Archivos y Excepciones.ipynb",
      "provenance": []
    }
  },
  "cells": [
    {
      "cell_type": "markdown",
      "metadata": {
        "id": "d59GRl_YAZSo"
      },
      "source": [
        "# Manejo de archivos en python"
      ]
    },
    {
      "cell_type": "markdown",
      "metadata": {
        "id": "EGqtGNR3AZSs"
      },
      "source": [
        "## Archivos binarios y de texto en python\n",
        "\n",
        "La mayoría de archivos que se utilizan en un computador son binarios. Entre ellos:\n",
        "\n",
        "- archivos de documentos .doc, .pdf, xls\n",
        "- imágenes en formatos .jpg, .png, .bmp, .gif\n",
        "- archivos de bases de datos .mdb, .sqlite\n",
        "\n",
        "Para poder leer estos archivos, se requiere un software específico.\n",
        "\n",
        "Un archivo de texto se puede abrir con cualquier editor. Estos archivos están organizados por líneas. Los archivos de texto tienen un caracter que identifica el final de cada línea. En python están notados por ```\\n```.  "
      ]
    },
    {
      "cell_type": "markdown",
      "metadata": {
        "id": "rIdIp3qFAZSv"
      },
      "source": [
        "Hasta ahora hemos leído por teclado las entradas de los programas. Ahora se leerán y se escribirán principalmente \n",
        "archivos de texto. En python no se requiere importar ningún módulo especial para un manejo básico de archivos."
      ]
    },
    {
      "cell_type": "markdown",
      "metadata": {
        "id": "rl78O7d3AZSw"
      },
      "source": [
        "## Direccionamiento absoluto y relativo\n",
        "\n",
        "Es posible trabajar con direccionamiento absoluto o relativo en python. En los ejemplos anteriores se realizó direccionamiento relativo a partir de la carpeta donde se descargó este notebook. En esta carpeta hay una carpeta llamada files y allí se encuentra el archivo 'data.txt'.\n",
        "\n",
        "Para dar soporte a los diferentes sistemas operativos como windows y trabajar con direccionamiento absoluto se tienen las siguientes opciones:\n",
        "\n",
        "\n",
        "- ```\"C:\\\\ThisFolder\\\\workData.txt\"```\n",
        "- ```\"C:/ThisFolder/workData.txt\"```"
      ]
    },
    {
      "cell_type": "markdown",
      "metadata": {
        "id": "2cHk--e8AZSx"
      },
      "source": [
        "![](https://raw.githubusercontent.com/arleserp/MinTIC2022/master/images/carpetas.png \"Aquí se puede seleccionar jupyter o spyder\")"
      ]
    },
    {
      "cell_type": "markdown",
      "metadata": {
        "id": "UNNUXNOFAZSy"
      },
      "source": [
        "Así luce el archivo data.txt\n",
        "\n",
        "![](https://raw.githubusercontent.com/arleserp/MinTIC2022/master/images/datatxt.png \"Aquí se puede seleccionar jupyter o spyder\")"
      ]
    },
    {
      "cell_type": "markdown",
      "metadata": {
        "id": "IfFkhqJpAZS0"
      },
      "source": [
        "## Leer  un archivo\n",
        "\n",
        "```open()``` toma un nombre de archivo y modo como argumentos. ```r``` abre el archivo en modo de lectura (read).  `with` asegura un uso propio y liberación de recursos. Aquí vamos a trabajar con archivos de texto ubicados en el computador. En el siguiente ejemplo se abrirán archivos ubicados en la carpeta files. Así luce la carpeta files en el computador:\n"
      ]
    },
    {
      "cell_type": "code",
      "metadata": {
        "id": "mCUS5e5sAZS1",
        "outputId": "ccdf8065-df71-4961-c434-07a853d19f2d"
      },
      "source": [
        "with open('files/data.txt', 'r') as f:\n",
        "    data = f.read()\n",
        "    print(data)"
      ],
      "execution_count": null,
      "outputs": [
        {
          "output_type": "stream",
          "text": [
            "Hola amigos!!!\n"
          ],
          "name": "stdout"
        }
      ]
    },
    {
      "cell_type": "markdown",
      "metadata": {
        "id": "Sf8D7_ceAZTC"
      },
      "source": [
        "Las celdas de este notebook pueden ser ejecutadas desde el notebook o desde archivos en python en visual studio code como se muestra a continuación:"
      ]
    },
    {
      "cell_type": "markdown",
      "metadata": {
        "id": "6ZhtQBx2AZTE"
      },
      "source": [
        "![](https://raw.githubusercontent.com/arleserp/MinTIC2022/master/images/archivosvscode.png \"Aquí se puede seleccionar jupyter o spyder\")"
      ]
    },
    {
      "cell_type": "markdown",
      "metadata": {
        "id": "m4a2AF7jAZTF"
      },
      "source": [
        "Es posible abrir un notebook desde visual studio code:"
      ]
    },
    {
      "cell_type": "markdown",
      "metadata": {
        "id": "phET-lUTAZTH"
      },
      "source": [
        "![](https://raw.githubusercontent.com/arleserp/MinTIC2022/master/images/notebookvscode.png \"Aquí se puede seleccionar jupyter o spyder\")"
      ]
    },
    {
      "cell_type": "markdown",
      "metadata": {
        "id": "7kiz8oEoAZTJ"
      },
      "source": [
        "## Escribir en un archivo\n",
        "\n",
        "Para escribir información en un archivo se para el argumento ```w``` (write):"
      ]
    },
    {
      "cell_type": "code",
      "metadata": {
        "id": "tWaOiNgSAZTN"
      },
      "source": [
        "with open('files/wdata.txt', 'w') as f:\n",
        "    data = 'estamos escribiendo en el archivo 123\\n'\n",
        "    f.write(data)\n",
        "    f.write(data)\n",
        "    f.write(data)"
      ],
      "execution_count": null,
      "outputs": []
    },
    {
      "cell_type": "markdown",
      "metadata": {
        "id": "TJRxmY96AZTT"
      },
      "source": [
        "Así se ve el archivo:"
      ]
    },
    {
      "cell_type": "markdown",
      "metadata": {
        "id": "wedBxvIFAZTU"
      },
      "source": [
        "![](https://raw.githubusercontent.com/arleserp/MinTIC2022/master/images/escribirarchivo.png \"Aquí se puede seleccionar jupyter o spyder\")"
      ]
    },
    {
      "cell_type": "markdown",
      "metadata": {
        "id": "RdNUEXNxAZTV"
      },
      "source": [
        "## Agregar contenido al final de un archivo (append)"
      ]
    },
    {
      "cell_type": "code",
      "metadata": {
        "id": "eW5jmySFAZTW"
      },
      "source": [
        "with open('files/wdata.txt', 'a', encoding='utf-8') as f:\n",
        "    data = 'más cosas\\n'\n",
        "    f.write(data)\n",
        "    f.write(data)\n",
        "    f.write(data)"
      ],
      "execution_count": null,
      "outputs": []
    },
    {
      "cell_type": "markdown",
      "metadata": {
        "id": "o0jpiG_xAZTi"
      },
      "source": [
        "## Otros modos de apertura de archivos \n",
        "\n",
        "Otros modos de abrir archivos en python son:\n",
        "\n",
        "- 'r+' – (read/write): Este modo es usado cuando se desean hacer cambios al archivo y a la vez leer información. El puntero del archivo se ubica al principio del archivo.\n",
        "- 'a+' – (append and Read): Se abre el archivo para escribir y leer del archivo. El puntero del archivo se ubica al final del archivo.\n",
        "- x (exclusive creation): usado exclusivamente para crear un archivo. Si existe un archivo con el mismo nombre la función fallará.\n",
        "\n",
        "Para leer archivos binarios se agrega la letra b al final del modificador. Por ejemplo para escribir ```wb``` y los otros serían ```rb```, ```ab```, ```r+b``` y ```a+b```."
      ]
    },
    {
      "cell_type": "markdown",
      "metadata": {
        "id": "4EEHeQ64AZTl"
      },
      "source": [
        "## Lectura de un archivo \n",
        "\n",
        "Para leer el contenido de un archivo se puede usar ```read()```. Sin parámetros leerá el archivo entero y almacenará el contenido la salida como un string si es un archivo de texto o como objetos en bytes si se trata de un archivo binario. \n",
        "\n",
        "Si se trata de leer un archivo más grande que la memoria disponible no se podrá leer todo el archivo de una vez. En este caso se puede leer el archivo por bytes.\n",
        "\n",
        "Si se tiene el siguiente archivo llamado ```datos1.txt``` con el siguiente contenido:\n",
        "\n",
        "```\n",
        "    Esta es la línea 1: abcabcabc\n",
        "    Esta es la línea 2: abcabcabc\n",
        "    Esta es la línea 3: abcabcabc\n",
        "```"
      ]
    },
    {
      "cell_type": "code",
      "metadata": {
        "id": "tjStoWAdAZTn",
        "outputId": "05590f97-04c8-427d-a24f-c5eaf0bc4822"
      },
      "source": [
        "with open('files/data1.txt', 'r') as f:\n",
        "    print(f.read())"
      ],
      "execution_count": null,
      "outputs": [
        {
          "output_type": "stream",
          "text": [
            "Esta es la lÃ­nea 1: abcabcabc\n",
            "Esta es la lÃ­nea 2: abcabcabc\n",
            "Esta es la lÃ­nea 3: abcabcabc\n"
          ],
          "name": "stdout"
        }
      ]
    },
    {
      "cell_type": "markdown",
      "metadata": {
        "id": "VZjSE30EAZT5"
      },
      "source": [
        "## Leer archivos con tíldes\n",
        "\n",
        "Para no tener problemas de codificación se puede agregar el siguiente parámetro:"
      ]
    },
    {
      "cell_type": "code",
      "metadata": {
        "id": "Wo_GZYO_AZUC",
        "outputId": "7bace5e9-a265-4c7c-80ad-fe8125358323"
      },
      "source": [
        "with open('files/data1.txt', 'r', encoding=\"utf-8\") as f:\n",
        "    print(f.read())"
      ],
      "execution_count": null,
      "outputs": [
        {
          "output_type": "stream",
          "text": [
            "Esta es la línea 1: abcabcabc\n",
            "Esta es la línea 2: abcabcabc\n",
            "Esta es la línea 3: abcabcabc\n"
          ],
          "name": "stdout"
        }
      ]
    },
    {
      "cell_type": "markdown",
      "metadata": {
        "id": "BMU-7QYFAZUN"
      },
      "source": [
        "## Leer byte a byte\n",
        "\n",
        "Ahora si se desean leer solamente los primeros 6 bytes:"
      ]
    },
    {
      "cell_type": "code",
      "metadata": {
        "id": "RePW0v5_AZUR",
        "outputId": "e8a21475-e0fe-43e1-d40e-c7d87b012da0"
      },
      "source": [
        "with open('files/data1.txt', 'r', encoding=\"utf-8\") as f:\n",
        "    line = f.read(6)\n",
        "    line2 = f.read(6)\n",
        "\n",
        "print(line)\n",
        "print(line2)"
      ],
      "execution_count": null,
      "outputs": [
        {
          "output_type": "stream",
          "text": [
            "Esta e\n",
            "s la l\n"
          ],
          "name": "stdout"
        }
      ]
    },
    {
      "cell_type": "markdown",
      "metadata": {
        "id": "pGC4wOezAZUb"
      },
      "source": [
        "## Leer archivo línea por línea:\n",
        "\n",
        "Es posible leer un archivo línea por línea utilizando ```readline()```"
      ]
    },
    {
      "cell_type": "code",
      "metadata": {
        "id": "bDbKPRDXAZUd",
        "outputId": "9ca9889b-5b70-4a49-b425-84e6403c4eff"
      },
      "source": [
        "with open('files/data1.txt', 'r', encoding=\"utf-8\") as f:\n",
        "    line = f.readline()\n",
        "    line2 = f.readline()\n",
        "print(line, end='')\n"
      ],
      "execution_count": null,
      "outputs": [
        {
          "output_type": "stream",
          "text": [
            "Esta es la línea 1: abcabcabc\n"
          ],
          "name": "stdout"
        }
      ]
    },
    {
      "cell_type": "code",
      "metadata": {
        "id": "_zgNxJdMAZUp",
        "outputId": "92d6bb82-e963-4663-bf02-074228eb0bac"
      },
      "source": [
        "with open(\"files/data1.txt\", \"r\", encoding='utf-8') as f:\n",
        "     print(\"Nombre del archivo: \", f.name)\n",
        "     line = f.readline()\n",
        "     print(line)"
      ],
      "execution_count": null,
      "outputs": [
        {
          "output_type": "stream",
          "text": [
            "Nombre del archivo:  files/data1.txt\n",
            "Esta es la línea 1: abcabcabc\n",
            "\n"
          ],
          "name": "stdout"
        }
      ]
    },
    {
      "cell_type": "markdown",
      "metadata": {
        "id": "l_JZu88ZAZVF"
      },
      "source": [
        "## Cargar las líneas de un archivo como una lista\n",
        "\n",
        "Es posible cargar todas las lineas del archivo como una lista si se utiliza:"
      ]
    },
    {
      "cell_type": "code",
      "metadata": {
        "id": "7wJVSHk4AZVH",
        "outputId": "c8dd4c05-208a-4eb2-bc0f-4cd6371c258a"
      },
      "source": [
        "with open(\"files/data1.txt\", \"r\", encoding='utf-8') as f:\n",
        "     print(\"Nombre del archivo: \", f.name)\n",
        "     lista = f.readlines()\n",
        "print(lista)"
      ],
      "execution_count": null,
      "outputs": [
        {
          "output_type": "stream",
          "text": [
            "Nombre del archivo:  files/data1.txt\n",
            "['Esta es la línea 1: abcabcabc\\n', 'Esta es la línea 2: abcabcabc\\n', 'Esta es la línea 3: abcabcabc']\n"
          ],
          "name": "stdout"
        }
      ]
    },
    {
      "cell_type": "markdown",
      "metadata": {
        "id": "g_GTWqhWAZVm"
      },
      "source": [
        "## La forma más eficiente de procesar un archivo\n",
        "\n",
        "La forma más sencilla y eficiente de abrir y procesar un archivo de texto es: "
      ]
    },
    {
      "cell_type": "code",
      "metadata": {
        "id": "bSkWISKlAZVo",
        "outputId": "e325b2f1-d4d1-407d-975c-b6b83b334a4a"
      },
      "source": [
        "with open(\"files/data1.txt\", \"r\", encoding='utf-8') as work_data:\n",
        "    for line in work_data:\n",
        "        print(line, end='')"
      ],
      "execution_count": null,
      "outputs": [
        {
          "output_type": "stream",
          "text": [
            "Esta es la línea 1: abcabcabc\n",
            "Esta es la línea 2: abcabcabc\n",
            "Esta es la línea 3: abcabcabc"
          ],
          "name": "stdout"
        }
      ]
    },
    {
      "cell_type": "markdown",
      "metadata": {
        "id": "35wZ9_1BAZVz"
      },
      "source": [
        "La anterior es la mejor forma de procesar archivos. Pues nunca carga el contenido del archivo completo si no por partes. "
      ]
    },
    {
      "cell_type": "markdown",
      "metadata": {
        "id": "96ioyXWBAZV3"
      },
      "source": [
        "## Ejercicio 1\n",
        "\n",
        "Dado el archivo de texto ```files/SalesJan2009.csv```, procese el archivo para obtener las compras realizadas en un país dado:\n"
      ]
    },
    {
      "cell_type": "code",
      "metadata": {
        "id": "JN4ghbapAZV7",
        "outputId": "75bbbd8d-c850-45df-b8e9-971206027fab"
      },
      "source": [
        ""
      ],
      "execution_count": null,
      "outputs": [
        {
          "output_type": "stream",
          "text": [
            "Transaction_date,Product,Price,Payment_Type,Name,City,State,Country,Account_Created,Last_Login,Latitude,Longitude\n",
            "\n",
            "1/2/2009 6:17,Product1,1200,Mastercard,carolina,Basildon,England,United Kingdom,1/2/2009 6:00,1/2/2009 6:08,51.5,-1.1166667\n",
            "\n"
          ],
          "name": "stdout"
        }
      ]
    },
    {
      "cell_type": "markdown",
      "metadata": {
        "id": "h6EONsigAZWG"
      },
      "source": [
        "<table>\n",
        "    <tr>\n",
        "        <td>Input</td><td>Output</td>\n",
        "    </tr>\n",
        "    <tr>\n",
        "        <td>United Kingdom</td><td>100</td>\n",
        "    </tr>\n",
        " </table>"
      ]
    },
    {
      "cell_type": "markdown",
      "metadata": {
        "id": "P-NZQ0mTAZWI"
      },
      "source": [
        "##  Ejercicio 2\n",
        "\n",
        "Dado el archivo de texto files/SalesJan2009.csv, procese el archivo para obtener las compras realizadas con un medio de pago dado:\n",
        "\n",
        "<table>\n",
        "    <tr>\n",
        "        <td>Input</td><td>Output</td>\n",
        "    </tr>\n",
        "    <tr>\n",
        "        <td>Visa</td><td>521</td>\n",
        "    </tr>\n",
        " </table>"
      ]
    },
    {
      "cell_type": "markdown",
      "metadata": {
        "id": "V3xarD3ZAZWK"
      },
      "source": [
        "## Escritura de archivos\n",
        "\n",
        "A menudo se prefiere utilizar ```a+``` como el modo de apertura para escribir un archivo porque permite añadir datos al final del mismo. Utilizar ```w+``` borrará cualquier dato que existe en el archivo y pues producirá un archivo en límpio para trabajar.\n",
        "\n",
        "El método por defecto para añadir datos en un archivo es ```write```:\n"
      ]
    },
    {
      "cell_type": "code",
      "metadata": {
        "id": "Igb-I-PvAZWL"
      },
      "source": [
        "with open(\"files/data2.txt\", \"a+\", encoding='utf-8') as work_data:\n",
        "    work_data.write(\"\\nEsta es la línea 4: abcabcabc\")"
      ],
      "execution_count": null,
      "outputs": []
    },
    {
      "cell_type": "code",
      "metadata": {
        "id": "02DMPRZHAZWS",
        "outputId": "7f4c1b33-eb21-4f96-a14d-e50b16b60f70"
      },
      "source": [
        "with open(\"files/data2.txt\", \"r\", encoding='utf-8') as work_data:\n",
        "    for line in work_data:\n",
        "        print(line, end='')"
      ],
      "execution_count": null,
      "outputs": [
        {
          "output_type": "stream",
          "text": [
            "Esta es la línea 1: abcabcabc\n",
            "Esta es la línea 2: abcabcabc\n",
            "Esta es la línea 3: abcabcabc\n",
            "\n",
            "Esta es la línea 4: abcabcabc\n",
            "Esta es la línea 4: abcabcabc\n",
            "Esta es la línea 4: abcabcabc\n",
            "Esta es la línea 4: abcabcabc"
          ],
          "name": "stdout"
        }
      ]
    },
    {
      "cell_type": "markdown",
      "metadata": {
        "id": "g7uXFbZ4AZWd"
      },
      "source": [
        "## Escribir datos que no son de texto en un archivo\n",
        "\n",
        "Si se desean escribir datos que no son cadenas de texto en un archivo es necesario convertir cada dato a string."
      ]
    },
    {
      "cell_type": "code",
      "metadata": {
        "id": "Xi7djy6iAZWg"
      },
      "source": [
        "values = [1234, 5678, 9012]\n",
        "\n",
        "with open(\"files/data3.txt\", \"w+\") as work_data:\n",
        "    for value in values:\n",
        "        str_value = str(value)\n",
        "        work_data.write(str_value)\n",
        "        work_data.write(\"\\n\")"
      ],
      "execution_count": null,
      "outputs": []
    },
    {
      "cell_type": "code",
      "metadata": {
        "id": "a-hIMemhAZWq",
        "outputId": "9f4ef053-3267-4cbe-ed30-6796bfb2fa84"
      },
      "source": [
        "with open(\"files/data3.txt\", \"r\", encoding='utf-8') as work_data:\n",
        "    for line in work_data:\n",
        "        print(line, end='')"
      ],
      "execution_count": null,
      "outputs": [
        {
          "output_type": "stream",
          "text": [
            "1234\n",
            "5678\n",
            "9012\n"
          ],
          "name": "stdout"
        }
      ]
    },
    {
      "cell_type": "markdown",
      "metadata": {
        "id": "UghS9HqPAZXB"
      },
      "source": [
        "## Seek: moviendo el puntero de lectura y escritura\n",
        " \n",
        "A veces es necesario moverse al principio del archivo o a alguna posición específica en un archivo dado. La forma más fácil de hacerlo es es utilizar ```fileobject.seek(offset, from_what)```.\n",
        "\n",
        "```offset``` es el número de caracteres desde la posición ```from_what```.\n",
        "\n",
        "Hay algunos valores por defecto para la posición ```from_what```:\n",
        "\n",
        "* 0 – Al principio del archivo\n",
        "* 1 – posición actual\n",
        "* 2 – al final del archivo\n",
        "\n",
        "Con archivos de texto 0 ó seek(0, 2), lo llevarán al final del archivo."
      ]
    },
    {
      "cell_type": "code",
      "metadata": {
        "id": "NIHWS_4aAZXC",
        "outputId": "72bd14df-8a4b-4e1e-9980-bb8195141d46"
      },
      "source": [
        "with open(\"files/data4.txt\", \"r\", encoding='utf-8') as work_data:\n",
        "    work_data.seek(11,0)\n",
        "    for line in work_data:\n",
        "        print(line, end='')"
      ],
      "execution_count": null,
      "outputs": [
        {
          "output_type": "stream",
          "text": [
            "letras\n",
            "1234\n",
            "5678\n"
          ],
          "name": "stdout"
        }
      ]
    },
    {
      "cell_type": "markdown",
      "metadata": {
        "id": "gYV7f80fAZXO"
      },
      "source": [
        "## Determinar tamaño de un archivo en bytes \n",
        "\n",
        "Para obtener la longitud de un archivo o la posición en donde se encuentra en un archivo se puede usar ```fileobject.tell()```. Para determinar el tamaño de un archivo en bytes se puede utilizar:"
      ]
    },
    {
      "cell_type": "code",
      "metadata": {
        "scrolled": true,
        "id": "GZd4tE1-AZXP",
        "outputId": "e347f145-6df2-4c08-c053-95c553a085f3"
      },
      "source": [
        "with open(\"files/data4.txt\", \"a+\") as work_data:\n",
        "    print(work_data.tell())"
      ],
      "execution_count": null,
      "outputs": [
        {
          "output_type": "stream",
          "text": [
            "31\n"
          ],
          "name": "stdout"
        }
      ]
    },
    {
      "cell_type": "markdown",
      "metadata": {
        "id": "Vs4yqsOsAZXY"
      },
      "source": [
        "## Editando un archivo de python\n",
        "\n",
        "La forma más facil de editar un archivo dado es guardar el archivo entero en una lista y utilizar list.insert(i, x) para insertar los datos nuevos. Una vez creada la lista se puede unir (join) de nuevo y escribir esto en el archivo."
      ]
    },
    {
      "cell_type": "code",
      "metadata": {
        "id": "bWXy6MxqAZXa"
      },
      "source": [
        "# Open the file as read-only\n",
        "with open(\"files/data5.txt\", \"r\", encoding='utf-8') as f:\n",
        "    list_content = f.readlines()\n",
        "\n",
        "#print(list_content)\n",
        "    \n",
        "list_content.insert(1, \"Esta es la línea 1.5 jajajaj\\n\")\n",
        "\n",
        "# Re-open in write-only format to overwrite old file\n",
        "with open(\"files/data5.txt\", \"w\", encoding='utf-8') as f:\n",
        "    contenido = \"\".join(list_content)\n",
        "    f.write(contenido)"
      ],
      "execution_count": null,
      "outputs": []
    },
    {
      "cell_type": "code",
      "metadata": {
        "id": "UVVzuWDVAZXv",
        "outputId": "2c1d8f70-8382-4a7f-b7d5-90c2fbfac46b"
      },
      "source": [
        "with open(\"files/data5.txt\", \"r\", encoding='utf-8') as work_data:\n",
        "    for line in work_data:\n",
        "        print(line)"
      ],
      "execution_count": null,
      "outputs": [
        {
          "output_type": "stream",
          "text": [
            "Esta es la línea 1: abcabcabc\n",
            "\n",
            "Esta es la línea 1.5 jajajaj\n",
            "\n",
            "Esta es la línea 1.5 jajajaj\n",
            "\n",
            "Esta es la línea 1.5 jajajaj\n",
            "\n",
            "Esta es la línea 2: abcabcabc\n",
            "\n",
            "Esta es la línea 3: abcabcabc\n",
            "\n"
          ],
          "name": "stdout"
        }
      ]
    },
    {
      "cell_type": "markdown",
      "metadata": {
        "id": "ZbW6hkrpAZYM"
      },
      "source": [
        "## Listando archivos y directorios:\n",
        "\n",
        "En las versiones modernas de python una alternativa a ```os.listdir()``` es utilizar ```os.scandir()``` (desde python 3.5) y ```pathlib.Path()```. \n"
      ]
    },
    {
      "cell_type": "code",
      "metadata": {
        "scrolled": true,
        "id": "DmEZE118AZYN",
        "outputId": "8c8561a7-8431-4824-f104-ca39125ecf59"
      },
      "source": [
        "import os\n",
        "entries = os.scandir('files/')\n",
        "\n",
        "for entry in entries:\n",
        "    print(entry.name + ', es directorio: ' + str(entry.is_dir()) + ', size: ' + str(entry.stat().st_size)\n",
        "         + ' bytes.')"
      ],
      "execution_count": null,
      "outputs": [
        {
          "output_type": "stream",
          "text": [
            "alternancia.txt, es directorio: False, size: 12549 bytes.\n",
            "data.txt, es directorio: False, size: 14 bytes.\n",
            "data1.txt, es directorio: False, size: 94 bytes.\n",
            "data2.txt, es directorio: False, size: 224 bytes.\n",
            "data3.txt, es directorio: False, size: 18 bytes.\n",
            "data4.txt, es directorio: False, size: 31 bytes.\n",
            "data5.txt, es directorio: False, size: 189 bytes.\n",
            "names.txt, es directorio: False, size: 220 bytes.\n",
            "programming_powers.pkl, es directorio: False, size: 154 bytes.\n",
            "python_es.txt, es directorio: False, size: 33754 bytes.\n",
            "SalesJan2009.csv, es directorio: False, size: 130480 bytes.\n",
            "testdir, es directorio: True, size: 0 bytes.\n",
            "wdata.txt, es directorio: False, size: 153 bytes.\n"
          ],
          "name": "stdout"
        }
      ]
    },
    {
      "cell_type": "markdown",
      "metadata": {
        "id": "ov1391xrAZYV"
      },
      "source": [
        "## Guardar Estructuras de Datos en archivos: Pickling\n",
        "\n",
        "A veces se desea almacenar información compleja tales como la información que contiene un diccionario ó una lista. Aquí es donde podemos utilizar el módulo ```pickle``` de python para serializar objetos."
      ]
    },
    {
      "cell_type": "code",
      "metadata": {
        "id": "eaqj5GK2AZYW"
      },
      "source": [
        "import pickle\n",
        "\n",
        "name = [\"mohit\",\"bhaskar\", \"manish\"]\n",
        "skill = [\"Python\", \"Python\", \"Java\"]\n",
        "dict1 = dict([(k,v) for k,v in zip(name, skill)])\n",
        "\n",
        "with open(\"files/programming_powers.pkl\", \"wb\") as pickle_file:\n",
        "    pickle.dump(name, pickle_file)\n",
        "    pickle.dump(skill,pickle_file)\n",
        "    pickle.dump(dict1,pickle_file)"
      ],
      "execution_count": null,
      "outputs": []
    },
    {
      "cell_type": "markdown",
      "metadata": {
        "id": "4E1DshIoAZYg"
      },
      "source": [
        "## Cargar una estructura de datos de un archivo: Unpickling\n",
        "\n",
        "Para obtener los datos de vuelta es posible hacer lo siguiente:"
      ]
    },
    {
      "cell_type": "code",
      "metadata": {
        "id": "OCHG-xMTAZYi",
        "outputId": "b2504104-9263-495a-8c30-8d26adf96324"
      },
      "source": [
        "import pickle\n",
        "\n",
        "with open(\"files/programming_powers.pkl\", \"rb\") as pickle_file:\n",
        "    list1 = pickle.load(pickle_file)\n",
        "    list2 = pickle.load(pickle_file)\n",
        "    dict1 = pickle.load(pickle_file)\n",
        "print(list1)\n",
        "print(list2)\n",
        "print(dict1)"
      ],
      "execution_count": null,
      "outputs": [
        {
          "output_type": "stream",
          "text": [
            "['mohit', 'bhaskar', 'manish']\n",
            "['Python', 'Python', 'Java']\n",
            "{'mohit': 'Python', 'bhaskar': 'Python', 'manish': 'Java'}\n"
          ],
          "name": "stdout"
        }
      ]
    },
    {
      "cell_type": "markdown",
      "metadata": {
        "id": "iyRZcsRKAZYs"
      },
      "source": [
        "Pickle obtiene los datos de forma secuencial. "
      ]
    },
    {
      "cell_type": "markdown",
      "metadata": {
        "id": "HNFPSj6nAZYu"
      },
      "source": [
        "## Copiar una imagen\n",
        "\n",
        "Una imagen de tipo jpg es un archivo de tipo binario. Con cierto procesamiento es posible crear una copia del archivo:"
      ]
    },
    {
      "cell_type": "code",
      "metadata": {
        "id": "Px84lCHxAZYx"
      },
      "source": [
        "with open(\"files/discurso.jpg\", \"rb\") as imagen:\n",
        "    data = imagen.read()\n",
        "\n",
        "#print(data)\n",
        "    \n",
        "with open(\"files/copy.jpg\", \"wb\") as f:\n",
        "    f.write(data)"
      ],
      "execution_count": null,
      "outputs": []
    },
    {
      "cell_type": "markdown",
      "metadata": {
        "id": "dmdqwY6KAZY4"
      },
      "source": [
        "## 12. Manejo de excepciones en python\n",
        "\n",
        "Programar el decirle al computador que haga lo que uno necesita que éste haga. Para esto se utilizan librerías y operaciones preexistentes o se escribe código nuevo.\n",
        "\n",
        "Dependiendo del problema pueden presentarse situaciones excepcionales que incluyen valores de entrada no válidos o situaciones que afectan el flujo ideal del programa interrumpiendo su ejecución.\n",
        "\n",
        "Es posible detectar esos errores en tiempo de ejecución y tratarlos mediante el manejo de excepciones.\n",
        "\n",
        "Se tiene el siguiente código que divide dos números enteros:"
      ]
    },
    {
      "cell_type": "code",
      "metadata": {
        "id": "oU3NbxLWAZY5",
        "outputId": "edd0b2a2-259d-414e-e7c8-429edf34b5f2"
      },
      "source": [
        "def division(a, b):\n",
        "    coc = a//b\n",
        "    res = a % b\n",
        "    return (coc, res)\n",
        "\n",
        "division(4,5)\n",
        "\n",
        "print(division(10, 0))\n",
        "print(division(1024,10))"
      ],
      "execution_count": null,
      "outputs": [
        {
          "output_type": "error",
          "ename": "ZeroDivisionError",
          "evalue": "integer division or modulo by zero",
          "traceback": [
            "\u001b[1;31m---------------------------------------------------------------------------\u001b[0m",
            "\u001b[1;31mZeroDivisionError\u001b[0m                         Traceback (most recent call last)",
            "\u001b[1;32m<ipython-input-24-af58c2d4968e>\u001b[0m in \u001b[0;36m<module>\u001b[1;34m\u001b[0m\n\u001b[0;32m      6\u001b[0m \u001b[0mdivision\u001b[0m\u001b[1;33m(\u001b[0m\u001b[1;36m4\u001b[0m\u001b[1;33m,\u001b[0m\u001b[1;36m5\u001b[0m\u001b[1;33m)\u001b[0m\u001b[1;33m\u001b[0m\u001b[1;33m\u001b[0m\u001b[0m\n\u001b[0;32m      7\u001b[0m \u001b[1;33m\u001b[0m\u001b[0m\n\u001b[1;32m----> 8\u001b[1;33m \u001b[0mprint\u001b[0m\u001b[1;33m(\u001b[0m\u001b[0mdivision\u001b[0m\u001b[1;33m(\u001b[0m\u001b[1;36m10\u001b[0m\u001b[1;33m,\u001b[0m \u001b[1;36m0\u001b[0m\u001b[1;33m)\u001b[0m\u001b[1;33m)\u001b[0m\u001b[1;33m\u001b[0m\u001b[1;33m\u001b[0m\u001b[0m\n\u001b[0m\u001b[0;32m      9\u001b[0m \u001b[0mprint\u001b[0m\u001b[1;33m(\u001b[0m\u001b[0mdivision\u001b[0m\u001b[1;33m(\u001b[0m\u001b[1;36m1024\u001b[0m\u001b[1;33m,\u001b[0m\u001b[1;36m10\u001b[0m\u001b[1;33m)\u001b[0m\u001b[1;33m)\u001b[0m\u001b[1;33m\u001b[0m\u001b[1;33m\u001b[0m\u001b[0m\n",
            "\u001b[1;32m<ipython-input-24-af58c2d4968e>\u001b[0m in \u001b[0;36mdivision\u001b[1;34m(a, b)\u001b[0m\n\u001b[0;32m      1\u001b[0m \u001b[1;32mdef\u001b[0m \u001b[0mdivision\u001b[0m\u001b[1;33m(\u001b[0m\u001b[0ma\u001b[0m\u001b[1;33m,\u001b[0m \u001b[0mb\u001b[0m\u001b[1;33m)\u001b[0m\u001b[1;33m:\u001b[0m\u001b[1;33m\u001b[0m\u001b[1;33m\u001b[0m\u001b[0m\n\u001b[1;32m----> 2\u001b[1;33m     \u001b[0mcoc\u001b[0m \u001b[1;33m=\u001b[0m \u001b[0ma\u001b[0m\u001b[1;33m//\u001b[0m\u001b[0mb\u001b[0m\u001b[1;33m\u001b[0m\u001b[1;33m\u001b[0m\u001b[0m\n\u001b[0m\u001b[0;32m      3\u001b[0m     \u001b[0mres\u001b[0m \u001b[1;33m=\u001b[0m \u001b[0ma\u001b[0m \u001b[1;33m%\u001b[0m \u001b[0mb\u001b[0m\u001b[1;33m\u001b[0m\u001b[1;33m\u001b[0m\u001b[0m\n\u001b[0;32m      4\u001b[0m     \u001b[1;32mreturn\u001b[0m \u001b[1;33m(\u001b[0m\u001b[0mcoc\u001b[0m\u001b[1;33m,\u001b[0m \u001b[0mres\u001b[0m\u001b[1;33m)\u001b[0m\u001b[1;33m\u001b[0m\u001b[1;33m\u001b[0m\u001b[0m\n\u001b[0;32m      5\u001b[0m \u001b[1;33m\u001b[0m\u001b[0m\n",
            "\u001b[1;31mZeroDivisionError\u001b[0m: integer division or modulo by zero"
          ]
        }
      ]
    },
    {
      "cell_type": "markdown",
      "metadata": {
        "id": "ZuoAlCMQAZZD"
      },
      "source": [
        "Este error puede ser tratado como se muestra a continuación:\n"
      ]
    },
    {
      "cell_type": "code",
      "metadata": {
        "id": "N598RUqJAZZF"
      },
      "source": [
        "def division(a, b):\n",
        "    try:\n",
        "        coc = a//b\n",
        "        res = a % b\n",
        "        return (coc, res)\n",
        "    except:\n",
        "        print(f'Error en la división de {a} entre {b}')\n",
        "        return ''"
      ],
      "execution_count": null,
      "outputs": []
    },
    {
      "cell_type": "markdown",
      "metadata": {
        "id": "SzMPhhfJAZZQ"
      },
      "source": [
        "Una situación alterna no esperada puede ser la siguiente:"
      ]
    },
    {
      "cell_type": "code",
      "metadata": {
        "id": "TrqSXPz9AZZR",
        "outputId": "d574d479-c391-41c4-f6f1-cf11228fc7c7"
      },
      "source": [
        "print(division(10, 0))\n"
      ],
      "execution_count": null,
      "outputs": [
        {
          "output_type": "stream",
          "text": [
            "Error en la división de 10 entre 0\n",
            "\n"
          ],
          "name": "stdout"
        }
      ]
    },
    {
      "cell_type": "code",
      "metadata": {
        "id": "aONW8gyeAZZd",
        "outputId": "16ce1ceb-a1da-4aa8-c2a4-74d3d165cae1"
      },
      "source": [
        "print(division(1024,10))"
      ],
      "execution_count": null,
      "outputs": [
        {
          "output_type": "stream",
          "text": [
            "(102, 4)\n"
          ],
          "name": "stdout"
        }
      ]
    },
    {
      "cell_type": "markdown",
      "metadata": {
        "id": "BFmKIYWvAZZm"
      },
      "source": [
        "## Sintaxis de las excepciones\n",
        "\n",
        "Una sintaxis más completa es la siguiente:\n",
        "\n",
        "```\n",
        "   try:\n",
        "       aquí van las operaciones\n",
        "   except Exception_name:\n",
        "       aquí se ejecuta esa suite si sucedió la excepción Exception_name\n",
        "   except Exception_name2:\n",
        "       aquí se ejecuta esa suite si sucedió la excepción 2\n",
        "   else:\n",
        "       si no hay excepción se ejecuta esta suite\n",
        "```\n",
        "       "
      ]
    },
    {
      "cell_type": "markdown",
      "metadata": {
        "id": "7hKTeNcVAZZo"
      },
      "source": [
        "## Excepciones cuando se digita texto en vez de un número\n",
        "\n",
        "Otra situación que puede ocurrir con la división pueden digitar texto en vez de numeros"
      ]
    },
    {
      "cell_type": "code",
      "metadata": {
        "id": "SdIVGFl3AZZp",
        "outputId": "4791e789-d8c5-4089-9c39-a6506b30ea84"
      },
      "source": [
        "def division(a, b):\n",
        "    try:\n",
        "        coc = a//b\n",
        "        res = a % b\n",
        "        return (coc, res)\n",
        "    except:\n",
        "        print('Error en la división de {} entre {}'.format(a, b))\n",
        "\n",
        "\n",
        "def main():\n",
        "    num = int(input('digite el dividendo: '))\n",
        "    div = int(input('digite el divisor: '))\n",
        "    print(division(num, div))\n",
        "\n",
        "main() #posibles errores incluyen digitar texto en num o div, o definir div = 0\n"
      ],
      "execution_count": null,
      "outputs": [
        {
          "output_type": "stream",
          "text": [
            "digite el dividendo: hola\n"
          ],
          "name": "stdout"
        },
        {
          "output_type": "error",
          "ename": "ValueError",
          "evalue": "invalid literal for int() with base 10: 'hola'",
          "traceback": [
            "\u001b[1;31m---------------------------------------------------------------------------\u001b[0m",
            "\u001b[1;31mValueError\u001b[0m                                Traceback (most recent call last)",
            "\u001b[1;32m<ipython-input-33-e4c231c802f0>\u001b[0m in \u001b[0;36m<module>\u001b[1;34m\u001b[0m\n\u001b[0;32m     13\u001b[0m     \u001b[0mprint\u001b[0m\u001b[1;33m(\u001b[0m\u001b[0mdivision\u001b[0m\u001b[1;33m(\u001b[0m\u001b[0mnum\u001b[0m\u001b[1;33m,\u001b[0m \u001b[0mdiv\u001b[0m\u001b[1;33m)\u001b[0m\u001b[1;33m)\u001b[0m\u001b[1;33m\u001b[0m\u001b[1;33m\u001b[0m\u001b[0m\n\u001b[0;32m     14\u001b[0m \u001b[1;33m\u001b[0m\u001b[0m\n\u001b[1;32m---> 15\u001b[1;33m \u001b[0mmain\u001b[0m\u001b[1;33m(\u001b[0m\u001b[1;33m)\u001b[0m \u001b[1;31m#posibles errores incluyen digitar texto en num o div, o definir div = 0\u001b[0m\u001b[1;33m\u001b[0m\u001b[1;33m\u001b[0m\u001b[0m\n\u001b[0m",
            "\u001b[1;32m<ipython-input-33-e4c231c802f0>\u001b[0m in \u001b[0;36mmain\u001b[1;34m()\u001b[0m\n\u001b[0;32m      9\u001b[0m \u001b[1;33m\u001b[0m\u001b[0m\n\u001b[0;32m     10\u001b[0m \u001b[1;32mdef\u001b[0m \u001b[0mmain\u001b[0m\u001b[1;33m(\u001b[0m\u001b[1;33m)\u001b[0m\u001b[1;33m:\u001b[0m\u001b[1;33m\u001b[0m\u001b[1;33m\u001b[0m\u001b[0m\n\u001b[1;32m---> 11\u001b[1;33m     \u001b[0mnum\u001b[0m \u001b[1;33m=\u001b[0m \u001b[0mint\u001b[0m\u001b[1;33m(\u001b[0m\u001b[0minput\u001b[0m\u001b[1;33m(\u001b[0m\u001b[1;34m'digite el dividendo: '\u001b[0m\u001b[1;33m)\u001b[0m\u001b[1;33m)\u001b[0m\u001b[1;33m\u001b[0m\u001b[1;33m\u001b[0m\u001b[0m\n\u001b[0m\u001b[0;32m     12\u001b[0m     \u001b[0mdiv\u001b[0m \u001b[1;33m=\u001b[0m \u001b[0mint\u001b[0m\u001b[1;33m(\u001b[0m\u001b[0minput\u001b[0m\u001b[1;33m(\u001b[0m\u001b[1;34m'digite el divisor: '\u001b[0m\u001b[1;33m)\u001b[0m\u001b[1;33m)\u001b[0m\u001b[1;33m\u001b[0m\u001b[1;33m\u001b[0m\u001b[0m\n\u001b[0;32m     13\u001b[0m     \u001b[0mprint\u001b[0m\u001b[1;33m(\u001b[0m\u001b[0mdivision\u001b[0m\u001b[1;33m(\u001b[0m\u001b[0mnum\u001b[0m\u001b[1;33m,\u001b[0m \u001b[0mdiv\u001b[0m\u001b[1;33m)\u001b[0m\u001b[1;33m)\u001b[0m\u001b[1;33m\u001b[0m\u001b[1;33m\u001b[0m\u001b[0m\n",
            "\u001b[1;31mValueError\u001b[0m: invalid literal for int() with base 10: 'hola'"
          ]
        }
      ]
    },
    {
      "cell_type": "markdown",
      "metadata": {
        "id": "cwdILMnyAZZ1"
      },
      "source": [
        "Esto se puede tratar capturando la excepción `ValueError`"
      ]
    },
    {
      "cell_type": "code",
      "metadata": {
        "id": "EsuC4nYfAZZ3",
        "outputId": "563caee9-e55b-471b-9954-ba9183505dd2"
      },
      "source": [
        "def division(a, b):\n",
        "    try:\n",
        "        coc = a//b\n",
        "        res = a % b\n",
        "        return (coc, res)\n",
        "    except ZeroDivisionError:\n",
        "        print('La división por cero no está definida.')\n",
        "        return ''\n",
        "\n",
        "\n",
        "def main():\n",
        "    try:\n",
        "        num = int(input('digite el dividendo: '))\n",
        "        div = int(input('digite el divisor: '))\n",
        "        print(division(num, div))\n",
        "    except ValueError:\n",
        "        print('El valor digitado no es entero.')\n",
        "\n",
        "main()"
      ],
      "execution_count": null,
      "outputs": [
        {
          "output_type": "stream",
          "text": [
            "digite el dividendo: diez\n",
            "El valor digitado no es entero.\n"
          ],
          "name": "stdout"
        }
      ]
    },
    {
      "cell_type": "markdown",
      "metadata": {
        "id": "gRoRkLH6AZaE"
      },
      "source": [
        "## El bloque finally\n",
        "\n",
        "Se especifica el bloque Finally para determinar acciones que se deben ejecutar sin importar si se produce una excepción o no\n",
        "\n",
        "```\n",
        "try:\n",
        "    #run this action first\n",
        "except:\n",
        "    # Run if exception occurs\n",
        "Finally :\n",
        "    #Always run this code\n",
        "```\n",
        "\n",
        "El orden de ejecución de las excepciones es el siguiente:\n",
        "\n",
        "```try -> except -> else -> finally```\n",
        "\n"
      ]
    },
    {
      "cell_type": "markdown",
      "metadata": {
        "id": "jYRLqXC1AZaH"
      },
      "source": [
        "## Ejemplo"
      ]
    },
    {
      "cell_type": "code",
      "metadata": {
        "id": "fgyWxkmqAZaI",
        "outputId": "7daed985-ed40-4c87-c154-d0db874fdaa8"
      },
      "source": [
        "## Finally\n",
        "\n",
        "try:\n",
        "    num = int(input(\"Enter the number \"))\n",
        "    re = 100/num\n",
        "except:\n",
        "    print(\"Something is wrong\")\n",
        "else:\n",
        "    print (\"result is \",re)\n",
        "finally :\n",
        "    print (\"finally program ends\")\n"
      ],
      "execution_count": null,
      "outputs": [
        {
          "output_type": "stream",
          "text": [
            "Enter the number dfbg\n",
            "Something is wrong\n",
            "finally program ends\n"
          ],
          "name": "stdout"
        }
      ]
    },
    {
      "cell_type": "markdown",
      "metadata": {
        "id": "f4Kwh-k0AZaW"
      },
      "source": [
        "## Capturar excepciones de varios tipos\n",
        "\n",
        "Como es tedioso determinar el tipo de excepción se puede utilizar una sóla línea de código:"
      ]
    },
    {
      "cell_type": "code",
      "metadata": {
        "id": "QNL3kr0oAZaY",
        "outputId": "349e819b-0cae-46f2-a9c1-59e6b66fa27e"
      },
      "source": [
        "try:\n",
        "    num = int(input(\"Enter the number \"))\n",
        "    re = 100/num\n",
        "    print(re)\n",
        "except Exception as e:\n",
        "    print(e, type(e))\n"
      ],
      "execution_count": null,
      "outputs": [
        {
          "output_type": "stream",
          "text": [
            "Enter the number hola\n",
            "invalid literal for int() with base 10: 'hola' <class 'ValueError'>\n"
          ],
          "name": "stdout"
        }
      ]
    },
    {
      "cell_type": "markdown",
      "metadata": {
        "id": "fqbWpWyWAZal"
      },
      "source": [
        "## Lanzar excepciones \n",
        "Es posible lanzar excepciones utilizando ```raise```:"
      ]
    },
    {
      "cell_type": "code",
      "metadata": {
        "id": "XasxPR_SAZao",
        "outputId": "b3d4fe19-0a8c-4bf0-f2eb-9b3532820c7d"
      },
      "source": [
        "raise ValueError('error de división por cero')"
      ],
      "execution_count": null,
      "outputs": [
        {
          "output_type": "error",
          "ename": "ValueError",
          "evalue": "error de división por cero",
          "traceback": [
            "\u001b[1;31m---------------------------------------------------------------------------\u001b[0m",
            "\u001b[1;31mValueError\u001b[0m                                Traceback (most recent call last)",
            "\u001b[1;32m<ipython-input-40-496f78253296>\u001b[0m in \u001b[0;36m<module>\u001b[1;34m\u001b[0m\n\u001b[1;32m----> 1\u001b[1;33m \u001b[1;32mraise\u001b[0m \u001b[0mValueError\u001b[0m\u001b[1;33m(\u001b[0m\u001b[1;34m'error de división por cero'\u001b[0m\u001b[1;33m)\u001b[0m\u001b[1;33m\u001b[0m\u001b[1;33m\u001b[0m\u001b[0m\n\u001b[0m",
            "\u001b[1;31mValueError\u001b[0m: error de división por cero"
          ]
        }
      ]
    },
    {
      "cell_type": "markdown",
      "metadata": {
        "id": "zl3zklEpAZbM"
      },
      "source": [
        "## Definiendo mis propias excepciones:\n",
        "\n",
        "Para definir nuestras propias excepciones es necesario crear una clase que hereda de la clase Exception. Por ahora puede verse el ejemplo siguiente como una plantilla pues no se han visto clases:\n"
      ]
    },
    {
      "cell_type": "code",
      "metadata": {
        "id": "neHHn9zNAZbN",
        "outputId": "197e0fef-8ac0-49d5-b537-6ffb8d2f4778"
      },
      "source": [
        "class NoPuedeDigitarDosException(Exception):\n",
        "    def __init__(self, value):\n",
        "        self.value = value\n",
        "        \n",
        "    def __str__(self):\n",
        "        return self.value\n",
        "\n",
        "def main():\n",
        "    try:\n",
        "        num = int(input())\n",
        "        if num == 2:\n",
        "            raise NoPuedeDigitarDosException('El usuario digitó 2 y no se puede!')\n",
        "        else:\n",
        "            print('all is well it is not 2')\n",
        "    except Exception as e:\n",
        "        print(e, type(e))\n",
        "\n",
        "main()\n"
      ],
      "execution_count": null,
      "outputs": [
        {
          "output_type": "stream",
          "text": [
            "2\n",
            "El usuario digitó 2 y no se puede! <class '__main__.NoPuedeDigitarDosException'>\n"
          ],
          "name": "stdout"
        }
      ]
    },
    {
      "cell_type": "markdown",
      "metadata": {
        "id": "RDyhmWJiAZba"
      },
      "source": [
        "\n",
        "## Ejercicio 1\n",
        "\n",
        "Dada la siguiente lista capture la excepción que evita que el usuario acceda a posiciones que no se encuentran definidas en la lista y muestre el mensaje ```Intenta acceder una posición que no está en el arreglo```:"
      ]
    },
    {
      "cell_type": "code",
      "metadata": {
        "id": "x2zuxLP-AZbb",
        "outputId": "ab5b3b37-b2ec-44ed-d19b-7786a839e396"
      },
      "source": [
        "lista = [1, 2, 3, 4]\n",
        "lista[5]"
      ],
      "execution_count": null,
      "outputs": [
        {
          "output_type": "error",
          "ename": "IndexError",
          "evalue": "list index out of range",
          "traceback": [
            "\u001b[1;31m---------------------------------------------------------------------------\u001b[0m",
            "\u001b[1;31mIndexError\u001b[0m                                Traceback (most recent call last)",
            "\u001b[1;32m<ipython-input-42-64245f71fd49>\u001b[0m in \u001b[0;36m<module>\u001b[1;34m\u001b[0m\n\u001b[0;32m      1\u001b[0m \u001b[0mlista\u001b[0m \u001b[1;33m=\u001b[0m \u001b[1;33m[\u001b[0m\u001b[1;36m1\u001b[0m\u001b[1;33m,\u001b[0m \u001b[1;36m2\u001b[0m\u001b[1;33m,\u001b[0m \u001b[1;36m3\u001b[0m\u001b[1;33m,\u001b[0m \u001b[1;36m4\u001b[0m\u001b[1;33m]\u001b[0m\u001b[1;33m\u001b[0m\u001b[1;33m\u001b[0m\u001b[0m\n\u001b[1;32m----> 2\u001b[1;33m \u001b[0mlista\u001b[0m\u001b[1;33m[\u001b[0m\u001b[1;36m5\u001b[0m\u001b[1;33m]\u001b[0m\u001b[1;33m\u001b[0m\u001b[1;33m\u001b[0m\u001b[0m\n\u001b[0m",
            "\u001b[1;31mIndexError\u001b[0m: list index out of range"
          ]
        }
      ]
    },
    {
      "cell_type": "markdown",
      "metadata": {
        "id": "wZ73-KdWAZbt"
      },
      "source": [
        "## Ejercicio 2\n",
        "\n",
        "En el siguiente programa capture la excepción para evitar que un programador sume una cadena de texto a un número y muestre el mensaje ```Los tipos de datos no cuadran para hacer la operación```: "
      ]
    },
    {
      "cell_type": "code",
      "metadata": {
        "id": "F3lFW0GDAZbw",
        "outputId": "9164d3c7-d896-400e-bd6a-8899167e87cb"
      },
      "source": [
        "def operar(a, b):\n",
        "    return a+b\n",
        "\n",
        "def main():\n",
        "    a = int(input())\n",
        "    b = 'hola'\n",
        "    operar(a, b)\n",
        "\n",
        "main()"
      ],
      "execution_count": null,
      "outputs": [
        {
          "output_type": "stream",
          "text": [
            "3\n"
          ],
          "name": "stdout"
        },
        {
          "output_type": "error",
          "ename": "TypeError",
          "evalue": "unsupported operand type(s) for +: 'int' and 'str'",
          "traceback": [
            "\u001b[1;31m---------------------------------------------------------------------------\u001b[0m",
            "\u001b[1;31mTypeError\u001b[0m                                 Traceback (most recent call last)",
            "\u001b[1;32m<ipython-input-43-63f2edb5e1e0>\u001b[0m in \u001b[0;36m<module>\u001b[1;34m\u001b[0m\n\u001b[0;32m      7\u001b[0m     \u001b[0moperar\u001b[0m\u001b[1;33m(\u001b[0m\u001b[0ma\u001b[0m\u001b[1;33m,\u001b[0m \u001b[0mb\u001b[0m\u001b[1;33m)\u001b[0m\u001b[1;33m\u001b[0m\u001b[1;33m\u001b[0m\u001b[0m\n\u001b[0;32m      8\u001b[0m \u001b[1;33m\u001b[0m\u001b[0m\n\u001b[1;32m----> 9\u001b[1;33m \u001b[0mmain\u001b[0m\u001b[1;33m(\u001b[0m\u001b[1;33m)\u001b[0m\u001b[1;33m\u001b[0m\u001b[1;33m\u001b[0m\u001b[0m\n\u001b[0m",
            "\u001b[1;32m<ipython-input-43-63f2edb5e1e0>\u001b[0m in \u001b[0;36mmain\u001b[1;34m()\u001b[0m\n\u001b[0;32m      5\u001b[0m     \u001b[0ma\u001b[0m \u001b[1;33m=\u001b[0m \u001b[0mint\u001b[0m\u001b[1;33m(\u001b[0m\u001b[0minput\u001b[0m\u001b[1;33m(\u001b[0m\u001b[1;33m)\u001b[0m\u001b[1;33m)\u001b[0m\u001b[1;33m\u001b[0m\u001b[1;33m\u001b[0m\u001b[0m\n\u001b[0;32m      6\u001b[0m     \u001b[0mb\u001b[0m \u001b[1;33m=\u001b[0m \u001b[1;34m'hola'\u001b[0m\u001b[1;33m\u001b[0m\u001b[1;33m\u001b[0m\u001b[0m\n\u001b[1;32m----> 7\u001b[1;33m     \u001b[0moperar\u001b[0m\u001b[1;33m(\u001b[0m\u001b[0ma\u001b[0m\u001b[1;33m,\u001b[0m \u001b[0mb\u001b[0m\u001b[1;33m)\u001b[0m\u001b[1;33m\u001b[0m\u001b[1;33m\u001b[0m\u001b[0m\n\u001b[0m\u001b[0;32m      8\u001b[0m \u001b[1;33m\u001b[0m\u001b[0m\n\u001b[0;32m      9\u001b[0m \u001b[0mmain\u001b[0m\u001b[1;33m(\u001b[0m\u001b[1;33m)\u001b[0m\u001b[1;33m\u001b[0m\u001b[1;33m\u001b[0m\u001b[0m\n",
            "\u001b[1;32m<ipython-input-43-63f2edb5e1e0>\u001b[0m in \u001b[0;36moperar\u001b[1;34m(a, b)\u001b[0m\n\u001b[0;32m      1\u001b[0m \u001b[1;32mdef\u001b[0m \u001b[0moperar\u001b[0m\u001b[1;33m(\u001b[0m\u001b[0ma\u001b[0m\u001b[1;33m,\u001b[0m \u001b[0mb\u001b[0m\u001b[1;33m)\u001b[0m\u001b[1;33m:\u001b[0m\u001b[1;33m\u001b[0m\u001b[1;33m\u001b[0m\u001b[0m\n\u001b[1;32m----> 2\u001b[1;33m     \u001b[1;32mreturn\u001b[0m \u001b[0ma\u001b[0m\u001b[1;33m+\u001b[0m\u001b[0mb\u001b[0m\u001b[1;33m\u001b[0m\u001b[1;33m\u001b[0m\u001b[0m\n\u001b[0m\u001b[0;32m      3\u001b[0m \u001b[1;33m\u001b[0m\u001b[0m\n\u001b[0;32m      4\u001b[0m \u001b[1;32mdef\u001b[0m \u001b[0mmain\u001b[0m\u001b[1;33m(\u001b[0m\u001b[1;33m)\u001b[0m\u001b[1;33m:\u001b[0m\u001b[1;33m\u001b[0m\u001b[1;33m\u001b[0m\u001b[0m\n\u001b[0;32m      5\u001b[0m     \u001b[0ma\u001b[0m \u001b[1;33m=\u001b[0m \u001b[0mint\u001b[0m\u001b[1;33m(\u001b[0m\u001b[0minput\u001b[0m\u001b[1;33m(\u001b[0m\u001b[1;33m)\u001b[0m\u001b[1;33m)\u001b[0m\u001b[1;33m\u001b[0m\u001b[1;33m\u001b[0m\u001b[0m\n",
            "\u001b[1;31mTypeError\u001b[0m: unsupported operand type(s) for +: 'int' and 'str'"
          ]
        }
      ]
    },
    {
      "cell_type": "markdown",
      "metadata": {
        "id": "9HdLXj7LAZcE"
      },
      "source": [
        "## Ejercicio 3\n",
        "\n",
        "Capture la excepción que valide cuando se trata de obtener una llave que no se encuentra en un diccionario  y muestre el mensaje ```Intenta acceder una llave que no se encuentra en el diccionario```:\n",
        "\n"
      ]
    },
    {
      "cell_type": "code",
      "metadata": {
        "id": "xAV_pal1AZcG",
        "outputId": "49e74974-10dc-4365-8fea-065205df0b12"
      },
      "source": [
        "\n",
        "def main():\n",
        "    dict = {'James': 'Java', 'Dennis' : 'C', 'Das':'Python'}\n",
        "    print(dict['Ada'])\n",
        "    \n",
        "main()"
      ],
      "execution_count": null,
      "outputs": [
        {
          "output_type": "error",
          "ename": "KeyError",
          "evalue": "'Ada'",
          "traceback": [
            "\u001b[1;31m---------------------------------------------------------------------------\u001b[0m",
            "\u001b[1;31mKeyError\u001b[0m                                  Traceback (most recent call last)",
            "\u001b[1;32m<ipython-input-45-174134c9fede>\u001b[0m in \u001b[0;36m<module>\u001b[1;34m\u001b[0m\n\u001b[0;32m      3\u001b[0m     \u001b[0mprint\u001b[0m\u001b[1;33m(\u001b[0m\u001b[0mdict\u001b[0m\u001b[1;33m[\u001b[0m\u001b[1;34m'Ada'\u001b[0m\u001b[1;33m]\u001b[0m\u001b[1;33m)\u001b[0m\u001b[1;33m\u001b[0m\u001b[1;33m\u001b[0m\u001b[0m\n\u001b[0;32m      4\u001b[0m \u001b[1;33m\u001b[0m\u001b[0m\n\u001b[1;32m----> 5\u001b[1;33m \u001b[0mmain\u001b[0m\u001b[1;33m(\u001b[0m\u001b[1;33m)\u001b[0m\u001b[1;33m\u001b[0m\u001b[1;33m\u001b[0m\u001b[0m\n\u001b[0m",
            "\u001b[1;32m<ipython-input-45-174134c9fede>\u001b[0m in \u001b[0;36mmain\u001b[1;34m()\u001b[0m\n\u001b[0;32m      1\u001b[0m \u001b[1;32mdef\u001b[0m \u001b[0mmain\u001b[0m\u001b[1;33m(\u001b[0m\u001b[1;33m)\u001b[0m\u001b[1;33m:\u001b[0m\u001b[1;33m\u001b[0m\u001b[1;33m\u001b[0m\u001b[0m\n\u001b[0;32m      2\u001b[0m     \u001b[0mdict\u001b[0m \u001b[1;33m=\u001b[0m \u001b[1;33m{\u001b[0m\u001b[1;34m'James'\u001b[0m\u001b[1;33m:\u001b[0m \u001b[1;34m'Java'\u001b[0m\u001b[1;33m,\u001b[0m \u001b[1;34m'Dennis'\u001b[0m \u001b[1;33m:\u001b[0m \u001b[1;34m'C'\u001b[0m\u001b[1;33m,\u001b[0m \u001b[1;34m'Das'\u001b[0m\u001b[1;33m:\u001b[0m\u001b[1;34m'Python'\u001b[0m\u001b[1;33m}\u001b[0m\u001b[1;33m\u001b[0m\u001b[1;33m\u001b[0m\u001b[0m\n\u001b[1;32m----> 3\u001b[1;33m     \u001b[0mprint\u001b[0m\u001b[1;33m(\u001b[0m\u001b[0mdict\u001b[0m\u001b[1;33m[\u001b[0m\u001b[1;34m'Ada'\u001b[0m\u001b[1;33m]\u001b[0m\u001b[1;33m)\u001b[0m\u001b[1;33m\u001b[0m\u001b[1;33m\u001b[0m\u001b[0m\n\u001b[0m\u001b[0;32m      4\u001b[0m \u001b[1;33m\u001b[0m\u001b[0m\n\u001b[0;32m      5\u001b[0m \u001b[0mmain\u001b[0m\u001b[1;33m(\u001b[0m\u001b[1;33m)\u001b[0m\u001b[1;33m\u001b[0m\u001b[1;33m\u001b[0m\u001b[0m\n",
            "\u001b[1;31mKeyError\u001b[0m: 'Ada'"
          ]
        }
      ]
    },
    {
      "cell_type": "markdown",
      "metadata": {
        "id": "m1szoxz8AZcS"
      },
      "source": [
        "## Ejercicio 4\n",
        "\n",
        "Defina una excepción para impedir que un usuario digite más de 20 caracteres cómo número de teléfono. Adicionalmente identifique flujos excepcionales en el programa y capture las excepciones que pueden ocurrir."
      ]
    },
    {
      "cell_type": "code",
      "metadata": {
        "id": "FRopCPArAZcU",
        "outputId": "3b2ea8c3-dd47-4069-86fd-ecb3c2783955"
      },
      "source": [
        "agenda = {}\n",
        "\n",
        "def process_numbers(person, number):\n",
        "    agenda[person] = number\n",
        "\n",
        "def main():\n",
        "    n = int(input('Digite el número de contactos:'))\n",
        "    print('Agregando ' + str(n) + ' personas...')\n",
        "    for i in range(n):\n",
        "        nombre = input('Digite el nombre del contacto {}:'.format(i+1))\n",
        "        numero = int(input('Digite el número de contacto {}:'.format(i+1)))\n",
        "        process_numbers(nombre, numero)\n",
        "    print('Así va la agenda:' + str(agenda))\n",
        "\n",
        "main()\n",
        "\n",
        "\n",
        "    "
      ],
      "execution_count": null,
      "outputs": [
        {
          "output_type": "stream",
          "text": [
            "Digite el número de contactos:346363\n",
            "Agregando 346363 personas...\n",
            "Digite el nombre del contacto 1:56949'497947'04590754'749074'\n",
            "Digite el número de contacto 1:54ryerye'06y7434\n"
          ],
          "name": "stdout"
        },
        {
          "output_type": "error",
          "ename": "ValueError",
          "evalue": "invalid literal for int() with base 10: \"54ryerye'06y7434\"",
          "traceback": [
            "\u001b[1;31m---------------------------------------------------------------------------\u001b[0m",
            "\u001b[1;31mValueError\u001b[0m                                Traceback (most recent call last)",
            "\u001b[1;32m<ipython-input-46-02e76483592a>\u001b[0m in \u001b[0;36m<module>\u001b[1;34m\u001b[0m\n\u001b[0;32m     13\u001b[0m     \u001b[0mprint\u001b[0m\u001b[1;33m(\u001b[0m\u001b[1;34m'Así va la agenda:'\u001b[0m \u001b[1;33m+\u001b[0m \u001b[0mstr\u001b[0m\u001b[1;33m(\u001b[0m\u001b[0magenda\u001b[0m\u001b[1;33m)\u001b[0m\u001b[1;33m)\u001b[0m\u001b[1;33m\u001b[0m\u001b[1;33m\u001b[0m\u001b[0m\n\u001b[0;32m     14\u001b[0m \u001b[1;33m\u001b[0m\u001b[0m\n\u001b[1;32m---> 15\u001b[1;33m \u001b[0mmain\u001b[0m\u001b[1;33m(\u001b[0m\u001b[1;33m)\u001b[0m\u001b[1;33m\u001b[0m\u001b[1;33m\u001b[0m\u001b[0m\n\u001b[0m\u001b[0;32m     16\u001b[0m \u001b[1;33m\u001b[0m\u001b[0m\n\u001b[0;32m     17\u001b[0m \u001b[1;33m\u001b[0m\u001b[0m\n",
            "\u001b[1;32m<ipython-input-46-02e76483592a>\u001b[0m in \u001b[0;36mmain\u001b[1;34m()\u001b[0m\n\u001b[0;32m      9\u001b[0m     \u001b[1;32mfor\u001b[0m \u001b[0mi\u001b[0m \u001b[1;32min\u001b[0m \u001b[0mrange\u001b[0m\u001b[1;33m(\u001b[0m\u001b[0mn\u001b[0m\u001b[1;33m)\u001b[0m\u001b[1;33m:\u001b[0m\u001b[1;33m\u001b[0m\u001b[1;33m\u001b[0m\u001b[0m\n\u001b[0;32m     10\u001b[0m         \u001b[0mnombre\u001b[0m \u001b[1;33m=\u001b[0m \u001b[0minput\u001b[0m\u001b[1;33m(\u001b[0m\u001b[1;34m'Digite el nombre del contacto {}:'\u001b[0m\u001b[1;33m.\u001b[0m\u001b[0mformat\u001b[0m\u001b[1;33m(\u001b[0m\u001b[0mi\u001b[0m\u001b[1;33m+\u001b[0m\u001b[1;36m1\u001b[0m\u001b[1;33m)\u001b[0m\u001b[1;33m)\u001b[0m\u001b[1;33m\u001b[0m\u001b[1;33m\u001b[0m\u001b[0m\n\u001b[1;32m---> 11\u001b[1;33m         \u001b[0mnumero\u001b[0m \u001b[1;33m=\u001b[0m \u001b[0mint\u001b[0m\u001b[1;33m(\u001b[0m\u001b[0minput\u001b[0m\u001b[1;33m(\u001b[0m\u001b[1;34m'Digite el número de contacto {}:'\u001b[0m\u001b[1;33m.\u001b[0m\u001b[0mformat\u001b[0m\u001b[1;33m(\u001b[0m\u001b[0mi\u001b[0m\u001b[1;33m+\u001b[0m\u001b[1;36m1\u001b[0m\u001b[1;33m)\u001b[0m\u001b[1;33m)\u001b[0m\u001b[1;33m)\u001b[0m\u001b[1;33m\u001b[0m\u001b[1;33m\u001b[0m\u001b[0m\n\u001b[0m\u001b[0;32m     12\u001b[0m         \u001b[0mprocess_numbers\u001b[0m\u001b[1;33m(\u001b[0m\u001b[0mnombre\u001b[0m\u001b[1;33m,\u001b[0m \u001b[0mnumero\u001b[0m\u001b[1;33m)\u001b[0m\u001b[1;33m\u001b[0m\u001b[1;33m\u001b[0m\u001b[0m\n\u001b[0;32m     13\u001b[0m     \u001b[0mprint\u001b[0m\u001b[1;33m(\u001b[0m\u001b[1;34m'Así va la agenda:'\u001b[0m \u001b[1;33m+\u001b[0m \u001b[0mstr\u001b[0m\u001b[1;33m(\u001b[0m\u001b[0magenda\u001b[0m\u001b[1;33m)\u001b[0m\u001b[1;33m)\u001b[0m\u001b[1;33m\u001b[0m\u001b[1;33m\u001b[0m\u001b[0m\n",
            "\u001b[1;31mValueError\u001b[0m: invalid literal for int() with base 10: \"54ryerye'06y7434\""
          ]
        }
      ]
    },
    {
      "cell_type": "markdown",
      "metadata": {
        "id": "hkMuP8cPAZce"
      },
      "source": [
        "## Referencias\n",
        "\n",
        "- Das, B. N. (2017). Learn Python in 7 Days. Packt Publishing Ltd.\n",
        "- https://support.spatialkey.com/spatialkey-sample-csv-data/\n",
        "- https://www.geeksforgeeks.org/with-statement-in-python/\n",
        "- https://stackoverflow.com/questions/40918503/how-to-read-a-utf-8-encoded-text-file-using-python/40918636\n",
        "- https://dbader.org/blog/python-file-io\n",
        "- https://docs.hektorprofe.net/python/errores-y-excepciones/ejercicios/"
      ]
    },
    {
      "cell_type": "code",
      "metadata": {
        "id": "mu8as94_AZcg"
      },
      "source": [
        ""
      ],
      "execution_count": null,
      "outputs": []
    }
  ]
}