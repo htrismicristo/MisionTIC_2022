{
  "nbformat": 4,
  "nbformat_minor": 0,
  "metadata": {
    "kernelspec": {
      "display_name": "Python 3",
      "language": "python",
      "name": "python3"
    },
    "language_info": {
      "codemirror_mode": {
        "name": "ipython",
        "version": 3
      },
      "file_extension": ".py",
      "mimetype": "text/x-python",
      "name": "python",
      "nbconvert_exporter": "python",
      "pygments_lexer": "ipython3",
      "version": "3.7.3"
    },
    "colab": {
      "name": "13-Diccionarios y Conjuntos.ipynb",
      "provenance": []
    }
  },
  "cells": [
    {
      "cell_type": "markdown",
      "metadata": {
        "id": "vmyIE94A_gdH"
      },
      "source": [
        "# Diccionarios\n",
        "\n",
        "Así como en una lista los valores están indexados por su posición, en un diccionario los valores van a estar indexados por sus llaves. La sintaxis de un diccionario es:\n",
        "\n",
        "```nombre_dict = { key1: value1, key2: value2}```:"
      ]
    },
    {
      "cell_type": "code",
      "metadata": {
        "id": "uYtAdwOE_gdJ",
        "outputId": "859ade28-629b-4355-ca09-c327e32e5938"
      },
      "source": [
        "datos = {\"edad\": 40, \"genero\": 'Masculino', \"nombre\": 'JuanSalvador', \"apellido\": 'Gaviota'}\n",
        "print(datos)"
      ],
      "execution_count": null,
      "outputs": [
        {
          "output_type": "stream",
          "text": [
            "{'edad': 40, 'genero': 'Masculino', 'nombre': 'JuanSalvador', 'apellido': 'Gaviota'}\n"
          ],
          "name": "stdout"
        }
      ]
    },
    {
      "cell_type": "code",
      "metadata": {
        "id": "-Ocwpoo0_gdT",
        "outputId": "982587fd-1da4-4bb1-bdea-8082ce90192a"
      },
      "source": [
        "puertos = { 22: 'SSH', 23: 'Telnet', 80: 'HTTP', 3306: 'MySQL'}\n",
        "print(puertos)"
      ],
      "execution_count": null,
      "outputs": [
        {
          "output_type": "stream",
          "text": [
            "{22: 'SSH', 23: 'Telnet', 80: 'HTTP', 3306: 'MySQL'}\n"
          ],
          "name": "stdout"
        }
      ]
    },
    {
      "cell_type": "markdown",
      "metadata": {
        "id": "omZ5z2Ow_gdd"
      },
      "source": [
        "Cada pareja llave valor es considerada un ítem. La llave y el valor están separados por ```:```, cada ítem está separado por comas ```,``` y los items están rodeados por llaves ```{``` ```}```. Un diccionario vacío puede crearse así: ```{}```. Las características clave de un diccionario son:\n",
        "\n",
        "- La llave de un ítem no puede ser cambiada\n",
        "- Un string, int, o float puede ser usado como llave.\n",
        "- Una tupla que no contenga listas puede ser usada como llave.\n",
        "- Las llaves son únicas.\n",
        "- Los valores pueden ser cualquier tipo de dato.\n",
        "- Los valores pueden estar repetidos.\n",
        "- Los valores pueden ser cambiados.\n",
        "- Un diccionario es una colección desordenada (el orden en el que se ingresen los datos es independiente de la forma en la que se almacenan en la estructura de datos).\n"
      ]
    },
    {
      "cell_type": "markdown",
      "metadata": {
        "id": "HGlRfRIq_gdg"
      },
      "source": [
        "## Unir diccionarios\n",
        "\n",
        "Es posible añadir las llaves de un diccionario en otro diccionario con ```update```:\n",
        "\n"
      ]
    },
    {
      "cell_type": "code",
      "metadata": {
        "id": "qN3kzfIS_gdh"
      },
      "source": [
        "dict_ports1 = {22: \"SSH\", 23: \"telnet\", 80: \"Http\"}\n",
        "dict_ports2 = {53 :\"DNS\", 443 : \"https\"}\n",
        "dict_ports1.update(dict_ports2)\n",
        "print(dict_ports1)"
      ],
      "execution_count": null,
      "outputs": []
    },
    {
      "cell_type": "markdown",
      "metadata": {
        "id": "nofZG5zS_gdo"
      },
      "source": [
        "## Comparar\n",
        "\n",
        "Se usa los operadores convencionales `==`y `!=` para comparar diccionarios. Se mira si los diccionarios tienen los mismos ítems. Para el programa "
      ]
    },
    {
      "cell_type": "code",
      "metadata": {
        "id": "vYxbt33v_gdp",
        "outputId": "46f34607-8496-40d2-db2e-3a316e3f1771"
      },
      "source": [
        "a = {123:'Rojas', 87:'Rosas'} == {87:'Rosas', 123:\"Rojas\"}\n",
        "print(a)\n",
        "print({'Rosas':123} != {'rosas':123} )\n",
        "b =  {123:'Rosas', 87:'rojas'} == {'Rosas':123, 87:'rojas'}\n",
        "print(b)"
      ],
      "execution_count": null,
      "outputs": [
        {
          "output_type": "stream",
          "text": [
            "True\n",
            "True\n",
            "False\n"
          ],
          "name": "stdout"
        }
      ]
    },
    {
      "cell_type": "markdown",
      "metadata": {
        "id": "Mm1JtDuY_gdv"
      },
      "source": [
        "## Comparar (is)\n",
        "\n",
        "Se puede usar el operador `is` para determinar si dos diccionarios son elmismo (referencian al mismo objeto). "
      ]
    },
    {
      "cell_type": "code",
      "metadata": {
        "id": "NTFS2p14_gdx",
        "outputId": "65303cdb-44d1-4db2-e6ec-6d4540d9d40b"
      },
      "source": [
        "a = {123:'Rojas', 87:'rosas'}\n",
        "b = {87:'rosas', 123:'Rojas'}\n",
        "c = a\n",
        "print( a == b )\n",
        "print( a is b )\n",
        "print( a == c )\n",
        "print( a is c )"
      ],
      "execution_count": null,
      "outputs": [
        {
          "output_type": "stream",
          "text": [
            "True\n",
            "False\n",
            "True\n",
            "True\n"
          ],
          "name": "stdout"
        }
      ]
    },
    {
      "cell_type": "markdown",
      "metadata": {
        "id": "mInhdn1O_gd4"
      },
      "source": [
        "## Accediendo a  a un valor\n",
        "\n",
        "Para acceder a un valor en un diccionario es necesario tener la llave."
      ]
    },
    {
      "cell_type": "code",
      "metadata": {
        "id": "BGYjghcj_gd5"
      },
      "source": [
        "puertos = { 22: 'SSH', 23: 'Telnet', 80: 'HTTP', 3306: 'MySQL'}"
      ],
      "execution_count": null,
      "outputs": []
    },
    {
      "cell_type": "markdown",
      "metadata": {
        "id": "C8s4dcjH_gd-"
      },
      "source": [
        "Para obtener el nombre del protocolo correspondiente al puerto 22 se puede hacer lo siguiente:"
      ]
    },
    {
      "cell_type": "code",
      "metadata": {
        "id": "SqTimf43_geC",
        "outputId": "58407560-e6c2-4249-90a5-c489aa632da3"
      },
      "source": [
        "protocol = puertos[22]\n",
        "print(protocol)"
      ],
      "execution_count": null,
      "outputs": [
        {
          "output_type": "stream",
          "text": [
            "SSH\n"
          ],
          "name": "stdout"
        }
      ]
    },
    {
      "cell_type": "code",
      "metadata": {
        "id": "6K2q9X5P_geG",
        "outputId": "9b161eec-f018-4df7-9390-66e7c3be7eb4"
      },
      "source": [
        "puertos[3306]"
      ],
      "execution_count": null,
      "outputs": [
        {
          "output_type": "execute_result",
          "data": {
            "text/plain": [
              "'MySQL'"
            ]
          },
          "metadata": {
            "tags": []
          },
          "execution_count": 4
        }
      ]
    },
    {
      "cell_type": "markdown",
      "metadata": {
        "id": "Uko3Pw8m_geN"
      },
      "source": [
        "Si la llave no está se produce un ```KeyError```:"
      ]
    },
    {
      "cell_type": "code",
      "metadata": {
        "id": "0p1VSXGe_geO",
        "outputId": "a4ea4602-8393-4361-e83d-307e64aa2efd"
      },
      "source": [
        "puertos[443]"
      ],
      "execution_count": null,
      "outputs": [
        {
          "output_type": "error",
          "ename": "KeyError",
          "evalue": "443",
          "traceback": [
            "\u001b[1;31m---------------------------------------------------------------------------\u001b[0m",
            "\u001b[1;31mKeyError\u001b[0m                                  Traceback (most recent call last)",
            "\u001b[1;32m<ipython-input-5-b7ffcde03a52>\u001b[0m in \u001b[0;36m<module>\u001b[1;34m\u001b[0m\n\u001b[1;32m----> 1\u001b[1;33m \u001b[0mpuertos\u001b[0m\u001b[1;33m[\u001b[0m\u001b[1;36m443\u001b[0m\u001b[1;33m]\u001b[0m\u001b[1;33m\u001b[0m\u001b[1;33m\u001b[0m\u001b[0m\n\u001b[0m",
            "\u001b[1;31mKeyError\u001b[0m: 443"
          ]
        }
      ]
    },
    {
      "cell_type": "markdown",
      "metadata": {
        "id": "CuDEDXjm_geS"
      },
      "source": [
        "## Actualización de valores en un diccionario\n",
        "\n",
        "Para actualizar valores en un diccionario basta con realizar la siguiente asignación:\n",
        "\n",
        "```dict[key] = new_val```\n"
      ]
    },
    {
      "cell_type": "code",
      "metadata": {
        "id": "oPFDtYHo_geT"
      },
      "source": [
        "puertos = {80: \"HTTP\", 23 : \"SMTP\", 443 : \"HTTPS\"}\n",
        "print(puertos)\n",
        "puertos[23] = 'Telnet'\n",
        "print(puertos)"
      ],
      "execution_count": null,
      "outputs": []
    },
    {
      "cell_type": "markdown",
      "metadata": {
        "id": "bmGmm50W_geX"
      },
      "source": [
        "Para añadir un valor se realiza la asignación:\n",
        "\n",
        "```dict[new_key] = new_val```"
      ]
    },
    {
      "cell_type": "code",
      "metadata": {
        "id": "bJEVP19T_geY"
      },
      "source": [
        "puertos = {80: \"HTTP\", 23 : \"SMTP\", 443 : \"HTTPS\"}\n",
        "print(puertos)\n",
        "puertos[110] = 'POP'\n",
        "print(puertos)"
      ],
      "execution_count": null,
      "outputs": []
    },
    {
      "cell_type": "markdown",
      "metadata": {
        "id": "97osxgRU_gef"
      },
      "source": [
        "## Eliminación de ítems"
      ]
    },
    {
      "cell_type": "markdown",
      "metadata": {
        "id": "pZQfUiQx_gef"
      },
      "source": [
        "Con ```del``` es posible eliminar el diccionario entero o los ítems de un diccionario. Si se desea eliminar un ítem se puede utilizar la siguiente sintaxis:\n",
        "\n",
        "```del dict[key]```"
      ]
    },
    {
      "cell_type": "code",
      "metadata": {
        "id": "0n_2aTan_geg"
      },
      "source": [
        "puertos = { 22: 'SSH', 23: 'Telnet', 80: 'HTTP', 3306: 'MySQL'}\n",
        "print(puertos)\n",
        "del puertos[23]\n",
        "print(puertos)"
      ],
      "execution_count": null,
      "outputs": []
    },
    {
      "cell_type": "markdown",
      "metadata": {
        "id": "hVi6zBi6_gel"
      },
      "source": [
        "## Consultando un diccionario \n",
        "\n",
        "Para validar la existencia de la llave en un diccionario se puede utilizar el operador ```in```"
      ]
    },
    {
      "cell_type": "code",
      "metadata": {
        "id": "S3GMX70o_gem"
      },
      "source": [
        "print(80 in d_port)\n",
        "print(222 in d_port)"
      ],
      "execution_count": null,
      "outputs": []
    },
    {
      "cell_type": "markdown",
      "metadata": {
        "id": "UMriTxHD_ges"
      },
      "source": [
        "## Iterando un diccionario\n",
        "\n",
        "Es posible usae el ciclo for y el método items() para obtener los items deun diccionario. "
      ]
    },
    {
      "cell_type": "code",
      "metadata": {
        "id": "gy-mgJRN_get",
        "outputId": "925d94be-e91b-476c-85e1-373dfa4da3e0"
      },
      "source": [
        "dict_ports = {22: \"SSH\", 23: \"telnet\", 80: \"Http\"}\n",
        "for k,v in dict_ports.items():\n",
        "    print(k,'->',v)"
      ],
      "execution_count": null,
      "outputs": [
        {
          "output_type": "stream",
          "text": [
            "22 -> SSH\n",
            "23 -> telnet\n",
            "80 -> Http\n"
          ],
          "name": "stdout"
        }
      ]
    },
    {
      "cell_type": "markdown",
      "metadata": {
        "id": "SEe3jCYD_gex"
      },
      "source": [
        "Es posible iterar un diccionario usando el ciclo for para obtener las claves."
      ]
    },
    {
      "cell_type": "code",
      "metadata": {
        "id": "f_CeTF27_gey",
        "outputId": "8e41cc60-e100-406e-c7c8-b2e577e96bd2"
      },
      "source": [
        "dict_ports = {22: \"SSH\", 23: \"telnet\", 80: \"Http\"}\n",
        "for key in dict_ports:\n",
        "    print(key)"
      ],
      "execution_count": null,
      "outputs": [
        {
          "output_type": "stream",
          "text": [
            "22\n",
            "23\n",
            "80\n"
          ],
          "name": "stdout"
        }
      ]
    },
    {
      "cell_type": "markdown",
      "metadata": {
        "id": "eUxlJe4M_ge3"
      },
      "source": [
        "## Longitud (len)\n",
        "\n",
        "Determina el número de ítems en un diccionario. "
      ]
    },
    {
      "cell_type": "markdown",
      "metadata": {
        "id": "zqsPXf61_ge3"
      },
      "source": [
        "Obtener la cantidad de ítems:"
      ]
    },
    {
      "cell_type": "code",
      "metadata": {
        "id": "aWHeSfJt_ge4",
        "outputId": "057b4c5d-bd04-4295-e7ab-3c28d4b5a9de"
      },
      "source": [
        "puertos = {80: \"HTTP\", 23 : \"SMTP\", 443 : \"HTTPS\"}\n",
        "len(puertos)"
      ],
      "execution_count": null,
      "outputs": [
        {
          "output_type": "execute_result",
          "data": {
            "text/plain": [
              "3"
            ]
          },
          "metadata": {
            "tags": []
          },
          "execution_count": 15
        }
      ]
    },
    {
      "cell_type": "markdown",
      "metadata": {
        "id": "pMLM7df3_ge_"
      },
      "source": [
        "## Obteniendo valores\n",
        "\n",
        "Para obtener el valor correspondiente a una llave también se puede utilizar ```get```. \n",
        "\n",
        "```dict.get(key, default=None)```"
      ]
    },
    {
      "cell_type": "code",
      "metadata": {
        "id": "fbxfTP41_gfA"
      },
      "source": [
        "dict1 = {'a':1, 'b':2, 'c':3}\n",
        "dict1.get('a')"
      ],
      "execution_count": null,
      "outputs": []
    },
    {
      "cell_type": "code",
      "metadata": {
        "id": "9GdDCKt8_gfD"
      },
      "source": [
        "dict1.get('d', 'llave no encontrada.')"
      ],
      "execution_count": null,
      "outputs": []
    },
    {
      "cell_type": "markdown",
      "metadata": {
        "id": "LUb5Bbh-_gfH"
      },
      "source": [
        "Transformar diccionario en string:"
      ]
    },
    {
      "cell_type": "code",
      "metadata": {
        "id": "gRYVwIPS_gfI"
      },
      "source": [
        "str(puertos)"
      ],
      "execution_count": null,
      "outputs": []
    },
    {
      "cell_type": "markdown",
      "metadata": {
        "id": "ZmGpwR-r_gfO"
      },
      "source": [
        "## Máximo y mínimo\n",
        "\n",
        "Obtener la llave con el valor máximo ó mínimo:\n"
      ]
    },
    {
      "cell_type": "code",
      "metadata": {
        "id": "jIcwQsuV_gfP",
        "outputId": "8da0bcd2-dcd1-431f-f0d7-1367f9306c67"
      },
      "source": [
        "puertos = {80: \"HTTP\", 23 : \"SMTP\", 443 : \"HTTPS\"}\n",
        "max(puertos)"
      ],
      "execution_count": null,
      "outputs": [
        {
          "output_type": "execute_result",
          "data": {
            "text/plain": [
              "443"
            ]
          },
          "metadata": {
            "tags": []
          },
          "execution_count": 16
        }
      ]
    },
    {
      "cell_type": "code",
      "metadata": {
        "id": "wznx2Vtp_gfT",
        "outputId": "79bf7114-842e-4b7c-f29b-8881f6a0138e"
      },
      "source": [
        "min(puertos)"
      ],
      "execution_count": null,
      "outputs": [
        {
          "output_type": "execute_result",
          "data": {
            "text/plain": [
              "23"
            ]
          },
          "metadata": {
            "tags": []
          },
          "execution_count": 17
        }
      ]
    },
    {
      "cell_type": "markdown",
      "metadata": {
        "id": "wKIRC8pj_gfY"
      },
      "source": [
        "## Obtener una lista de llaves\n",
        "\n",
        "Para obtener una lista de las llaves se puede hacer lo siguiente:"
      ]
    },
    {
      "cell_type": "code",
      "metadata": {
        "id": "-kCwx2pT_gfY"
      },
      "source": [
        "dict1 = {'a':1, 'b':2, 'c':3}\n",
        "print(list(dict1.keys()))"
      ],
      "execution_count": null,
      "outputs": []
    },
    {
      "cell_type": "markdown",
      "metadata": {
        "id": "-Kr5yroE_gfg"
      },
      "source": [
        "## Obtener una lista de valores\n",
        "\n",
        "Para obtener una lista de los valores:"
      ]
    },
    {
      "cell_type": "code",
      "metadata": {
        "id": "mTYGap___gfh"
      },
      "source": [
        "dict1 = {'a':1, 'b':2, 'c':3}\n",
        "print(list(dict1.values()))"
      ],
      "execution_count": null,
      "outputs": []
    },
    {
      "cell_type": "markdown",
      "metadata": {
        "id": "2JLbNTt2_gfn"
      },
      "source": [
        "## Conversion de listas de listas y listas de tuplas a diccionario\n",
        "\n",
        "Es posible convertir una lista de listas o una lista de tuplas en un diccionario usando ```dict```."
      ]
    },
    {
      "cell_type": "code",
      "metadata": {
        "id": "ZhoKv9NZ_gfn"
      },
      "source": [
        "puertos = [[80,\"http\"],[20,\"ftp\"],[23,\"telnet\"],[443,\"https\"],[53,\"DNS\"]]\n",
        "d_port = dict(puertos)\n",
        "print(d_port)"
      ],
      "execution_count": null,
      "outputs": []
    },
    {
      "cell_type": "code",
      "metadata": {
        "id": "ymIwBVWT_gfs"
      },
      "source": [
        "puertos = [(80,\"http\"),(20,\"ftp\"),(23,\"telnet\"),(443,\"https\"),(53,\"DNS\")]\n",
        "d_port = dict(puertos)\n",
        "print(d_port)"
      ],
      "execution_count": null,
      "outputs": []
    },
    {
      "cell_type": "markdown",
      "metadata": {
        "id": "1fT-SOx9_gfy"
      },
      "source": [
        "## Eliminar entradas de un diccionario\n",
        "\n",
        "Para eliminar todas las entradas de un diccionario se utiliza ```clear()```:"
      ]
    },
    {
      "cell_type": "code",
      "metadata": {
        "id": "_E5rTm-v_gfy"
      },
      "source": [
        "dict_ports = {22: \"SSH\", 23: \"telnet\", 80: \"Http\"}\n",
        "print(dict_ports)\n",
        "dict_ports.clear()\n",
        "print(dict_ports)"
      ],
      "execution_count": null,
      "outputs": []
    },
    {
      "cell_type": "markdown",
      "metadata": {
        "id": "Ts6YwW3U_gf4"
      },
      "source": [
        "## Copiando un diccionario\n",
        "\n",
        "Para obtener la copia de un diccionario se puede utilzar ```dict.copy()```"
      ]
    },
    {
      "cell_type": "code",
      "metadata": {
        "id": "1YRaEyzZ_gf4"
      },
      "source": [
        "port = {80: \"HTTP\", 23 : \"SMTP\", 443 : \"HTTPS\"}\n",
        "copy_port = port.copy()\n",
        "false_copy = port"
      ],
      "execution_count": null,
      "outputs": []
    },
    {
      "cell_type": "code",
      "metadata": {
        "id": "cGPgWvpT_gf-"
      },
      "source": [
        "false_copy is port"
      ],
      "execution_count": null,
      "outputs": []
    },
    {
      "cell_type": "code",
      "metadata": {
        "id": "KjQ1vuzG_ggC"
      },
      "source": [
        "copy_port is port"
      ],
      "execution_count": null,
      "outputs": []
    },
    {
      "cell_type": "code",
      "metadata": {
        "id": "te1hcfgK_ggG"
      },
      "source": [
        "print(copy_port)"
      ],
      "execution_count": null,
      "outputs": []
    },
    {
      "cell_type": "markdown",
      "metadata": {
        "id": "uqRayaiS_ggP"
      },
      "source": [
        "## Obtener una lista de tuplas de un diccionario\n",
        "\n",
        "Para obtener una lista de tuplas correspondiente al diccionario se utiliza ```items```:"
      ]
    },
    {
      "cell_type": "code",
      "metadata": {
        "id": "WJcU5N5e_ggQ"
      },
      "source": [
        "dict_ports1 = {22: \"SSH\", 23: \"telnet\", 80: \"Http\"}\n",
        "print(list(dict_ports1.items()))"
      ],
      "execution_count": null,
      "outputs": []
    },
    {
      "cell_type": "markdown",
      "metadata": {
        "id": "FzIMAyco_ggV"
      },
      "source": [
        "## Mostrar las llaves de un diccionario\n",
        "\n",
        "Una forma de mostrar las llaves es la siguiente:"
      ]
    },
    {
      "cell_type": "code",
      "metadata": {
        "id": "E4jzu_yY_ggV"
      },
      "source": [
        "dict_ports = {22: \"SSH\", 23: \"telnet\", 80: \"Http\"}\n",
        "for key in dict_ports:\n",
        "    print(key)"
      ],
      "execution_count": null,
      "outputs": []
    },
    {
      "cell_type": "code",
      "metadata": {
        "id": "W8S6WTmT_ggZ"
      },
      "source": [
        ""
      ],
      "execution_count": null,
      "outputs": []
    },
    {
      "cell_type": "markdown",
      "metadata": {
        "id": "EZ68OcGp_ggc"
      },
      "source": [
        "\n",
        "    "
      ]
    },
    {
      "cell_type": "markdown",
      "metadata": {
        "id": "by4SZ8PJ_gge"
      },
      "source": [
        "### Ejercicio 1\n",
        "\n",
        "Utilizando el diccionario de puertos ```port1 = {21: \"FTP\", 22:\"SSH\", 23: \"telnet\", 80:\n",
        "\"http\"}``` cree un nuevo diccionario donde las llaves se vuelvan valores y los valores llaves: así: ```port2 = {\"FTP\":21, \"SSH\":22, \"telnet\":23, \"http\": 80}```\n",
        "\n"
      ]
    },
    {
      "cell_type": "code",
      "metadata": {
        "id": "nLfgKTpi_ggf"
      },
      "source": [
        "port1 = {21: \"FTP\", 22:\"SSH\", 23: \"telnet\", 80: \"http\"}\n"
      ],
      "execution_count": null,
      "outputs": []
    },
    {
      "cell_type": "markdown",
      "metadata": {
        "id": "frc0Stum_ggj"
      },
      "source": [
        "### Ejercicio 2: Yendo al mercado\n",
        "\n",
        "Dory quiere ir al mercado a comprar frutas y vegetales. Como es un poco olvidadiza suele ir al mercado varias veces para ir a comprar diferentes frutas y verduras.\n",
        "\n",
        "Entrada:\n",
        "La entrada de este problema contiene un entero N que es la cantidad de viajes que hace al mercado. En cada viaje se define un número M correspondiente a la cantidad de productos disponibles en el mercado. Después se tienen M productos con sus precios respectivos por kg. La siguiente entrada contiene un entero P que indica la cantidad de productos que Dory quiere comprar. Las siguientes líneas contienen el nombre del producto y la cantidad de kilos que Dory quiere comprar.\n",
        "\n",
        "Salida:\n",
        "Muestre el dinero gastado por Dory en cada viaje al mercado con dos cifras de precisión decimal.\n",
        "\n",
        "<table>\n",
        "    <tr>\n",
        "        <td>Input</td><td>Ouput</td>\n",
        "    </tr>\n",
        "    <tr>\n",
        "        <td>1<br>\n",
        "            5<br>\n",
        "            uva 2.50<br>\n",
        "            banano 4.00<br>\n",
        "            pera 2.10<br>\n",
        "            granadilla 6.00<br>\n",
        "            naranja 5.00<br>\n",
        "            5<br>\n",
        "            uva 10<br>\n",
        "            banano 10<br>\n",
        "            pera 15<br>\n",
        "            granadilla 12<br>\n",
        "            naranja 18<br>\n",
        "        </td><td>$258.50</td>\n",
        "        </tr>\n",
        "</table>\n",
        "   \n"
      ]
    },
    {
      "cell_type": "code",
      "metadata": {
        "id": "YnKZuDiy_ggj"
      },
      "source": [
        ""
      ],
      "execution_count": null,
      "outputs": []
    },
    {
      "cell_type": "markdown",
      "metadata": {
        "id": "tU0cPz_m_ggq"
      },
      "source": [
        "# Combinando estructuras de datos:\n",
        "\n",
        "### Ejercicio: \n",
        "\n",
        "¿Cómo representaría la siguiente tabla de datos utilizando un diccionario de diccionarios, donde la llave es el primer nombre de la mascota?\n",
        "\n",
        "![](https://github.com/arleserp/MinTIC2022/blob/master/images/tablita.png?raw=1)"
      ]
    },
    {
      "cell_type": "code",
      "metadata": {
        "id": "KbpmaxUG_ggs"
      },
      "source": [
        "Sam = {'Nombre': 'Sam Smith', 'Genero': 'M', 'Ocupación': 'Gato', 'Ciudad': 'Bogotá'}\n",
        "Lobo = {'Nombre': 'Lobo W', 'Genero': 'F', 'Ocupación': 'Perro', 'Ciudad': 'Bogotá'}\n",
        "Marvin = {'Nombre': 'Marvin', 'Genero': 'M', 'Ocupación': 'Loro', 'Ciudad': 'Cali'}\n",
        "Hussain = {'Nombre': 'Hussain', 'Genero': 'F', 'Ocupación': 'Hamster', 'Ciudad': 'Bogotá'}     \n",
        "\n",
        "mascotas = {\"Sam\":Sam, \"Lobo\":Lobo, \"Marvin\":Marvin, \"Hussain\":Hussain}\n"
      ],
      "execution_count": null,
      "outputs": []
    },
    {
      "cell_type": "code",
      "metadata": {
        "id": "AKlHw2yt_gg0"
      },
      "source": [
        "print(mascotas)"
      ],
      "execution_count": null,
      "outputs": []
    },
    {
      "cell_type": "code",
      "metadata": {
        "id": "bYKegHGH_gg9"
      },
      "source": [
        "from pprint import pprint \n",
        "\n",
        "pprint(mascotas)"
      ],
      "execution_count": null,
      "outputs": []
    },
    {
      "cell_type": "markdown",
      "metadata": {
        "id": "DOWKlPvQ_ghC"
      },
      "source": [
        "## Ejercicio operaciones:"
      ]
    },
    {
      "cell_type": "markdown",
      "metadata": {
        "id": "2L30NPK7_ghD"
      },
      "source": [
        "Imprimir la ocupación de Sam:"
      ]
    },
    {
      "cell_type": "code",
      "metadata": {
        "id": "jqFytWrq_ghD"
      },
      "source": [
        "mascotas['Sam']['Ocupación']"
      ],
      "execution_count": null,
      "outputs": []
    },
    {
      "cell_type": "markdown",
      "metadata": {
        "id": "3XD5uQj9_ghJ"
      },
      "source": [
        "De donde es marvin?"
      ]
    },
    {
      "cell_type": "code",
      "metadata": {
        "id": "-F6R1pua_ghJ"
      },
      "source": [
        ""
      ],
      "execution_count": null,
      "outputs": []
    },
    {
      "cell_type": "markdown",
      "metadata": {
        "id": "8rqDzNV8_ghO"
      },
      "source": [
        "A qué se dedica Hussain?"
      ]
    },
    {
      "cell_type": "code",
      "metadata": {
        "id": "XEeAX3Sb_ghO"
      },
      "source": [
        ""
      ],
      "execution_count": null,
      "outputs": []
    },
    {
      "cell_type": "markdown",
      "metadata": {
        "id": "NxeRMmsG_ghV"
      },
      "source": [
        "Liste las mascotas de Bogotá:"
      ]
    },
    {
      "cell_type": "code",
      "metadata": {
        "id": "MVQddBkd_ghV"
      },
      "source": [
        ""
      ],
      "execution_count": null,
      "outputs": []
    },
    {
      "cell_type": "markdown",
      "metadata": {
        "id": "hE3jqDyu_ghZ"
      },
      "source": [
        "Liste las mascotas de Género M:"
      ]
    },
    {
      "cell_type": "code",
      "metadata": {
        "id": "zNd1aIEU_ghb"
      },
      "source": [
        ""
      ],
      "execution_count": null,
      "outputs": []
    },
    {
      "cell_type": "markdown",
      "metadata": {
        "id": "c3zumPXx_ghf"
      },
      "source": [
        "# Conjuntos \n",
        "\n",
        "Los conjuntos en python pueden ser muy útiles para eliminar datos duplicados. Si se tiene una lista de nombres que puede estar duplicada, basta con convertirla en conjunto para eliminar los datos duplicados. Esta estructura también está optimizada para buscar datos pues las listas realizan una búsqueda secuencial. "
      ]
    },
    {
      "cell_type": "markdown",
      "metadata": {
        "id": "xJPAE5hN_ghg"
      },
      "source": [
        "## Definir un conjunto\n",
        "\n",
        "Para definir el conjunto de las vocales:"
      ]
    },
    {
      "cell_type": "code",
      "metadata": {
        "id": "tg8mnJzj_ghh"
      },
      "source": [
        "vocales = {'a', 'e', 'i', 'o', 'u', 'a', 'a', 'o', 'e'}\n",
        "print(vocales)"
      ],
      "execution_count": null,
      "outputs": []
    },
    {
      "cell_type": "markdown",
      "metadata": {
        "id": "UzDczaLq_ghl"
      },
      "source": [
        "Los datos no se almacenan necesariamente en orden. A diferencia de un diccionario se tienen datos no ítems de la forma ```llave:valor```.\n",
        "\n",
        "Es posible ordenar un conjunto así:"
      ]
    },
    {
      "cell_type": "code",
      "metadata": {
        "id": "XdhlumWC_ghl"
      },
      "source": [
        "sorted(vocales)"
      ],
      "execution_count": null,
      "outputs": []
    },
    {
      "cell_type": "markdown",
      "metadata": {
        "id": "pIGJxL77_ghq"
      },
      "source": [
        "## Creación de un conjunto a partir de strings, listas o tuplas\n",
        "\n",
        "Se pueden crear conjuntos a partir de strings, listas o tuplas:"
      ]
    },
    {
      "cell_type": "code",
      "metadata": {
        "id": "6EB1sPUG_ghr"
      },
      "source": [
        "str_vocales = 'aaaeeeeioooouooooi'\n",
        "vocals = set(str_vocales)\n",
        "print(vocals)\n",
        "\n",
        "l_vocals = ['a', 'e', 'i', 'o', 'u', 'i']\n",
        "vocalsl = set(l_vocals)\n",
        "print(vocalsl)\n",
        "\n",
        "t_vocals = ('a', 'e', 'i', 'o', 'u', 'i')\n",
        "vocalst = set(t_vocals)\n",
        "print(vocalsl)\n"
      ],
      "execution_count": null,
      "outputs": []
    },
    {
      "cell_type": "markdown",
      "metadata": {
        "id": "lAdSoW9n_gh3"
      },
      "source": [
        "## Determinar si un elemento pertenece a un conjunto\n",
        "\n",
        "Es posible utilizar el operador ```in``` para saber si un elemento se encuentra en el conjunto:"
      ]
    },
    {
      "cell_type": "code",
      "metadata": {
        "id": "B-xQGyXI_gh4"
      },
      "source": [
        "print('a' in vocales)"
      ],
      "execution_count": null,
      "outputs": []
    },
    {
      "cell_type": "code",
      "metadata": {
        "id": "gYKOnYh9_gh8"
      },
      "source": [
        "print('b' in vocales)"
      ],
      "execution_count": null,
      "outputs": []
    },
    {
      "cell_type": "markdown",
      "metadata": {
        "id": "kbVFdejc_giC"
      },
      "source": [
        "## Unión de conjuntos\n",
        "\n",
        "Es posible unir dos conjuntos:\n"
      ]
    },
    {
      "cell_type": "code",
      "metadata": {
        "id": "58jr6_Yv_giD"
      },
      "source": [
        "seta = set('murcielago')\n",
        "setb = set('externocleidomastoideo')\n",
        "setc = seta.union(setb)\n",
        "print(setc)\n",
        "\n",
        "setc = seta | setb\n",
        "print(setc)"
      ],
      "execution_count": null,
      "outputs": []
    },
    {
      "cell_type": "markdown",
      "metadata": {
        "id": "H69ZmGtA_giI"
      },
      "source": [
        "## Diferencia de conjuntos\n",
        "\n",
        "Permite examinar los datos que están en un conjunto de palabras que no están en otro:"
      ]
    },
    {
      "cell_type": "code",
      "metadata": {
        "id": "GyXtCFq__giJ"
      },
      "source": [
        "stop_wordsA = {'el', 'un', 'la', 'los'}\n",
        "stop_wordsB = {'un', 'una', 'unos', 'el'}"
      ],
      "execution_count": null,
      "outputs": []
    },
    {
      "cell_type": "markdown",
      "metadata": {
        "id": "EuHqxqne_giP"
      },
      "source": [
        "Para determinar los elementos que están en stop_wordsA que no están en stop_wordsB basta con:"
      ]
    },
    {
      "cell_type": "code",
      "metadata": {
        "id": "isK_lL-__giR"
      },
      "source": [
        "print(stop_wordsA - stop_wordsB)\n",
        "print(stop_wordsA.difference(stop_wordsB))"
      ],
      "execution_count": null,
      "outputs": []
    },
    {
      "cell_type": "markdown",
      "metadata": {
        "id": "gPMrf11G_giY"
      },
      "source": [
        "Para determinar los elementos que están en stop_wordsB que no están en stop_wordsA basta con:"
      ]
    },
    {
      "cell_type": "code",
      "metadata": {
        "id": "O7zevnwk_giZ"
      },
      "source": [
        "print(stop_wordsB - stop_wordsA)\n",
        "print(stop_wordsB.difference(stop_wordsA))"
      ],
      "execution_count": null,
      "outputs": []
    },
    {
      "cell_type": "markdown",
      "metadata": {
        "id": "DR5uByfB_gii"
      },
      "source": [
        "## Intersección de conjuntos\n",
        "\n",
        "Para determinar los elementos que tienen en común los conjuntos de stop_words:"
      ]
    },
    {
      "cell_type": "code",
      "metadata": {
        "id": "Aud_M7W0_gik"
      },
      "source": [
        "print(stop_wordsB.intersection(stop_wordsA))\n",
        "print(stop_wordsB & stop_wordsA)"
      ],
      "execution_count": null,
      "outputs": []
    },
    {
      "cell_type": "markdown",
      "metadata": {
        "id": "SLoxYCCf_gis"
      },
      "source": [
        "## Diferencia simétrica\n",
        "\n",
        "La diferencia simétrica consiste en encontrar elementos que están en la unión de dos conjuntos pero no en la intersección"
      ]
    },
    {
      "cell_type": "code",
      "metadata": {
        "id": "IR9lClyc_giu"
      },
      "source": [
        "stop_wordsB ^ stop_wordsA"
      ],
      "execution_count": null,
      "outputs": []
    },
    {
      "cell_type": "markdown",
      "metadata": {
        "id": "rjo--A57_giy"
      },
      "source": [
        "## Leer datos y convertirlos a un tipo de dato dado\n",
        "Para leer enteros separados por espacio y convertirlos a set:"
      ]
    },
    {
      "cell_type": "code",
      "metadata": {
        "id": "2gMsGzWW_giy"
      },
      "source": [
        "t = set(map(int, input().split(' ')))\n",
        "print(t) #digite por ejemplo 1 2 3"
      ],
      "execution_count": null,
      "outputs": []
    },
    {
      "cell_type": "markdown",
      "metadata": {
        "id": "PwYprGei_gi4"
      },
      "source": [
        "## Ejercicio: Intersección de n Conjuntos:\n",
        "\n",
        "Se tienen n conjuntos. Se desea calcular la intersección de dichos conjuntos. \n",
        "\n",
        "### Entrada:\n",
        "La entrada consta de un número n > 1 de conjuntos seguido por los elementos separados por espacio.\n",
        "\n",
        "### Salida:\n",
        "Muestre la intersección de los n conjuntos ó ```empty set``` si la intersección es un conjunto vacío.\n",
        "\n",
        "### Ejemplo 1\n",
        "\n",
        "<table>\n",
        "    <tr>\n",
        "        <td>Input</td><td>Output</td>\n",
        "    </tr>\n",
        "    <tr>\n",
        "        <td>3<br>\n",
        "            1 2 2 3 4<br>\n",
        "            2 2 3 5 6<br>\n",
        "            1 3 2 2 6<br>\n",
        "        </td><td>2 3\n",
        "    </tr>\n",
        "</table>\n",
        "\n",
        "\n",
        "### Ejemplo 2\n",
        "\n",
        "<table>\n",
        "    <tr>\n",
        "        <td>Input</td><td>Output</td>\n",
        "    </tr>\n",
        "    <tr>\n",
        "        <td>3<br>\n",
        "            1 1<br>\n",
        "            2 2<br>\n",
        "            3 3<br>\n",
        "        </td><td>empty set\n",
        "    </tr>\n",
        "</table>"
      ]
    },
    {
      "cell_type": "markdown",
      "metadata": {
        "id": "5ofUYC1z_gi4"
      },
      "source": [
        "### Referencias:\n",
        "\n",
        "Barry, P. (2016). Head First Python: A Brain-Friendly Guide. \" O'Reilly Media, Inc.\".\n",
        "\n",
        "Das, B. N. (2017). Learn Python in 7 Days. Packt Publishing Ltd.\n",
        "\n",
        "https://codeforces.com/\n",
        "\n",
        "Rodríguez, A (2020). Curso de Programación en Python. https://github.com/arleserp/cursopython"
      ]
    },
    {
      "cell_type": "code",
      "metadata": {
        "id": "BZIpbxYr_gi5"
      },
      "source": [
        ""
      ],
      "execution_count": null,
      "outputs": []
    }
  ]
}