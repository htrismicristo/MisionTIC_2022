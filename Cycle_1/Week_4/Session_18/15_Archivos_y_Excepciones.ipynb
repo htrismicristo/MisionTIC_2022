{
  "nbformat": 4,
  "nbformat_minor": 0,
  "metadata": {
    "kernelspec": {
      "display_name": "Python 3",
      "language": "python",
      "name": "python3"
    },
    "language_info": {
      "codemirror_mode": {
        "name": "ipython",
        "version": 3
      },
      "file_extension": ".py",
      "mimetype": "text/x-python",
      "name": "python",
      "nbconvert_exporter": "python",
      "pygments_lexer": "ipython3",
      "version": "3.7.3"
    },
    "colab": {
      "name": "15-Archivos y Excepciones.ipynb",
      "provenance": []
    }
  },
  "cells": [
    {
      "cell_type": "markdown",
      "metadata": {
        "id": "URkOcho6_vxt"
      },
      "source": [
        "# Manejo de archivos en python"
      ]
    },
    {
      "cell_type": "markdown",
      "metadata": {
        "id": "o6XfzjWK_vxx"
      },
      "source": [
        "## Archivos binarios y de texto en python\n",
        "\n",
        "La mayoría de archivos que se utilizan en un computador son binarios. Entre ellos:\n",
        "\n",
        "- archivos de documentos .doc, .pdf, xls\n",
        "- imágenes en formatos .jpg, .png, .bmp, .gif\n",
        "- archivos de bases de datos .mdb, .sqlite\n",
        "\n",
        "Para poder leer estos archivos, se requiere un software específico.\n",
        "\n",
        "Un archivo de texto se puede abrir con cualquier editor. Estos archivos están organizados por líneas. Los archivos de texto tienen un caracter que identifica el final de cada línea. En python están notados por ```\\n```.  "
      ]
    },
    {
      "cell_type": "markdown",
      "metadata": {
        "id": "_2_HxH3i_vxz"
      },
      "source": [
        "Hasta ahora hemos leído por teclado las entradas de los programas. Ahora se leerán y se escribirán principalmente \n",
        "archivos de texto. En python no se requiere importar ningún módulo especial para un manejo básico de archivos."
      ]
    },
    {
      "cell_type": "markdown",
      "metadata": {
        "id": "doYUzpWO_vx0"
      },
      "source": [
        "## Direccionamiento absoluto y relativo\n",
        "\n",
        "Es posible trabajar con direccionamiento absoluto o relativo en python. En los ejemplos anteriores se realizó direccionamiento relativo a partir de la carpeta donde se descargó este notebook. En esta carpeta hay una carpeta llamada files y allí se encuentra el archivo 'data.txt'.\n",
        "\n",
        "Para dar soporte a los diferentes sistemas operativos como windows y trabajar con direccionamiento absoluto se tienen las siguientes opciones:\n",
        "\n",
        "\n",
        "- ```\"C:\\\\ThisFolder\\\\workData.txt\"```\n",
        "- ```\"C:/ThisFolder/workData.txt\"```"
      ]
    },
    {
      "cell_type": "markdown",
      "metadata": {
        "id": "Nm4B4Qxh_vx1"
      },
      "source": [
        "![](https://raw.githubusercontent.com/arleserp/MinTIC2022/master/images/carpetas.png \"Aquí se puede seleccionar jupyter o spyder\")"
      ]
    },
    {
      "cell_type": "markdown",
      "metadata": {
        "id": "hbetDM-F_vx3"
      },
      "source": [
        "Así luce el archivo data.txt\n",
        "\n",
        "![](https://raw.githubusercontent.com/arleserp/MinTIC2022/master/images/datatxt.png \"Aquí se puede seleccionar jupyter o spyder\")"
      ]
    },
    {
      "cell_type": "markdown",
      "metadata": {
        "id": "1QEsRkad_vx4"
      },
      "source": [
        "## Leer  un archivo\n",
        "\n",
        "```open()``` toma un nombre de archivo y modo como argumentos. ```r``` abre el archivo en modo de lectura (read).  `with` asegura un uso propio y liberación de recursos. Aquí vamos a trabajar con archivos de texto ubicados en el computador. En el siguiente ejemplo se abrirán archivos ubicados en la carpeta files. Así luce la carpeta files en el computador:\n"
      ]
    },
    {
      "cell_type": "code",
      "metadata": {
        "id": "l1l6yLHp_vx5",
        "outputId": "b5a845d1-1ab5-48f2-e6f3-ae4686d3fa61"
      },
      "source": [
        "with open('files/data.txt', 'r') as f:\n",
        "    data = f.read()\n",
        "    print(data)"
      ],
      "execution_count": null,
      "outputs": [
        {
          "output_type": "stream",
          "text": [
            "Hola amigos!!!\n"
          ],
          "name": "stdout"
        }
      ]
    },
    {
      "cell_type": "markdown",
      "metadata": {
        "id": "rT6FmOzQ_vyK"
      },
      "source": [
        "Las celdas de este notebook pueden ser ejecutadas desde el notebook o desde archivos en python en visual studio code como se muestra a continuación:"
      ]
    },
    {
      "cell_type": "markdown",
      "metadata": {
        "id": "Ox44-d-4_vyM"
      },
      "source": [
        "![](https://raw.githubusercontent.com/arleserp/MinTIC2022/master/images/archivosvscode.png \"Aquí se puede seleccionar jupyter o spyder\")"
      ]
    },
    {
      "cell_type": "markdown",
      "metadata": {
        "id": "8AjZzZDi_vyN"
      },
      "source": [
        "Es posible abrir un notebook desde visual studio code:"
      ]
    },
    {
      "cell_type": "markdown",
      "metadata": {
        "id": "iG4N90ch_vyO"
      },
      "source": [
        "![](https://raw.githubusercontent.com/arleserp/MinTIC2022/master/images/notebookvscode.png \"Aquí se puede seleccionar jupyter o spyder\")"
      ]
    },
    {
      "cell_type": "markdown",
      "metadata": {
        "id": "ReLz-uBA_vyS"
      },
      "source": [
        "## Escribir en un archivo\n",
        "\n",
        "Para escribir información en un archivo se para el argumento ```w``` (write):"
      ]
    },
    {
      "cell_type": "code",
      "metadata": {
        "id": "putyljWc_vyU"
      },
      "source": [
        "with open('files/wdata.txt', 'w') as f:\n",
        "    data = 'estamos escribiendo en el archivo 123\\n'\n",
        "    f.write(data)\n",
        "    f.write(data)\n",
        "    f.write(data)"
      ],
      "execution_count": null,
      "outputs": []
    },
    {
      "cell_type": "markdown",
      "metadata": {
        "id": "KHyX9gFN_vyd"
      },
      "source": [
        "Así se ve el archivo:"
      ]
    },
    {
      "cell_type": "markdown",
      "metadata": {
        "id": "b07TJqNg_vye"
      },
      "source": [
        "![](https://raw.githubusercontent.com/arleserp/MinTIC2022/master/images/escribirarchivo.png \"Aquí se puede seleccionar jupyter o spyder\")"
      ]
    },
    {
      "cell_type": "markdown",
      "metadata": {
        "id": "W6kVShoT_vyf"
      },
      "source": [
        "## Agregar contenido al final de un archivo (append)"
      ]
    },
    {
      "cell_type": "code",
      "metadata": {
        "id": "NOxtrR2x_vyj"
      },
      "source": [
        "with open('files/wdata.txt', 'a', encoding='utf-8') as f:\n",
        "    data = 'más cosas\\n'\n",
        "    f.write(data)\n",
        "    f.write(data)\n",
        "    f.write(data)"
      ],
      "execution_count": null,
      "outputs": []
    },
    {
      "cell_type": "markdown",
      "metadata": {
        "id": "gbDTyKWr_vyo"
      },
      "source": [
        "## Otros modos de apertura de archivos \n",
        "\n",
        "Otros modos de abrir archivos en python son:\n",
        "\n",
        "- 'r+' – (read/write): Este modo es usado cuando se desean hacer cambios al archivo y a la vez leer información. El puntero del archivo se ubica al principio del archivo.\n",
        "- 'a+' – (append and Read): Se abre el archivo para escribir y leer del archivo. El puntero del archivo se ubica al final del archivo.\n",
        "- x (exclusive creation): usado exclusivamente para crear un archivo. Si existe un archivo con el mismo nombre la función fallará.\n",
        "\n",
        "Para leer archivos binarios se agrega la letra b al final del modificador. Por ejemplo para escribir ```wb``` y los otros serían ```rb```, ```ab```, ```r+b``` y ```a+b```."
      ]
    },
    {
      "cell_type": "markdown",
      "metadata": {
        "id": "aWIrf21f_vyp"
      },
      "source": [
        "## Lectura de un archivo \n",
        "\n",
        "Para leer el contenido de un archivo se puede usar ```read()```. Sin parámetros leerá el archivo entero y almacenará el contenido la salida como un string si es un archivo de texto o como objetos en bytes si se trata de un archivo binario. \n",
        "\n",
        "Si se trata de leer un archivo más grande que la memoria disponible no se podrá leer todo el archivo de una vez. En este caso se puede leer el archivo por bytes.\n",
        "\n",
        "Si se tiene el siguiente archivo llamado ```datos1.txt``` con el siguiente contenido:\n",
        "\n",
        "```\n",
        "    Esta es la línea 1: abcabcabc\n",
        "    Esta es la línea 2: abcabcabc\n",
        "    Esta es la línea 3: abcabcabc\n",
        "```"
      ]
    },
    {
      "cell_type": "code",
      "metadata": {
        "id": "E-0Pn4cH_vyq",
        "outputId": "4bb86137-3e40-46d5-e5a2-e5650a68e1bd"
      },
      "source": [
        "with open('files/data1.txt', 'r') as f:\n",
        "    print(f.read())"
      ],
      "execution_count": null,
      "outputs": [
        {
          "output_type": "stream",
          "text": [
            "Esta es la lÃ­nea 1: abcabcabc\n",
            "Esta es la lÃ­nea 2: abcabcabc\n",
            "Esta es la lÃ­nea 3: abcabcabc\n"
          ],
          "name": "stdout"
        }
      ]
    },
    {
      "cell_type": "markdown",
      "metadata": {
        "id": "_-EKtQaa_vyw"
      },
      "source": [
        "## Leer archivos con tíldes\n",
        "\n",
        "Para no tener problemas de codificación se puede agregar el siguiente parámetro:"
      ]
    },
    {
      "cell_type": "code",
      "metadata": {
        "id": "87g4Q7An_vy0",
        "outputId": "ebfbeffc-5b6c-4f72-ecf0-cfcbd0964d08"
      },
      "source": [
        "with open('files/data1.txt', 'r', encoding=\"utf-8\") as f:\n",
        "    print(f.read())"
      ],
      "execution_count": null,
      "outputs": [
        {
          "output_type": "stream",
          "text": [
            "Esta es la línea 1: abcabcabc\n",
            "Esta es la línea 2: abcabcabc\n",
            "Esta es la línea 3: abcabcabc\n"
          ],
          "name": "stdout"
        }
      ]
    },
    {
      "cell_type": "markdown",
      "metadata": {
        "id": "h1Mtih02_vy5"
      },
      "source": [
        "## Leer byte a byte\n",
        "\n",
        "Ahora si se desean leer solamente los primeros 6 bytes:"
      ]
    },
    {
      "cell_type": "code",
      "metadata": {
        "id": "NnagN7-P_vy6",
        "outputId": "420e589f-9945-4bac-91c2-b3375ce61119"
      },
      "source": [
        "with open('files/data1.txt', 'r', encoding=\"utf-8\") as f:\n",
        "    line = f.read(6)\n",
        "    line2 = f.read(6)\n",
        "\n",
        "print(line)\n",
        "print(line2)"
      ],
      "execution_count": null,
      "outputs": [
        {
          "output_type": "stream",
          "text": [
            "Esta e\n",
            "s la l\n"
          ],
          "name": "stdout"
        }
      ]
    },
    {
      "cell_type": "markdown",
      "metadata": {
        "id": "Df3BbjDd_vy_"
      },
      "source": [
        "## Leer archivo línea por línea:\n",
        "\n",
        "Es posible leer un archivo línea por línea utilizando ```readline()```"
      ]
    },
    {
      "cell_type": "code",
      "metadata": {
        "id": "jEPdt3xx_vzA",
        "outputId": "bc588645-c853-4181-ba7f-1366dcb62a72"
      },
      "source": [
        "with open('files/data1.txt', 'r', encoding=\"utf-8\") as f:\n",
        "    line = f.readline()\n",
        "    line2 = f.readline()\n",
        "print(line, end='')\n"
      ],
      "execution_count": null,
      "outputs": [
        {
          "output_type": "stream",
          "text": [
            "Esta es la línea 1: abcabcabc\n"
          ],
          "name": "stdout"
        }
      ]
    },
    {
      "cell_type": "code",
      "metadata": {
        "id": "8lkIGB_Q_vzJ",
        "outputId": "d6d431e2-ac2f-43a5-fdf2-3faa599c48d7"
      },
      "source": [
        "with open(\"files/data1.txt\", \"r\", encoding='utf-8') as f:\n",
        "     print(\"Nombre del archivo: \", f.name)\n",
        "     line = f.readline()\n",
        "     print(line)"
      ],
      "execution_count": null,
      "outputs": [
        {
          "output_type": "stream",
          "text": [
            "Nombre del archivo:  files/data1.txt\n",
            "Esta es la línea 1: abcabcabc\n",
            "\n"
          ],
          "name": "stdout"
        }
      ]
    },
    {
      "cell_type": "markdown",
      "metadata": {
        "id": "tGoJ52L0_vzQ"
      },
      "source": [
        "## Cargar las líneas de un archivo como una lista\n",
        "\n",
        "Es posible cargar todas las lineas del archivo como una lista si se utiliza:"
      ]
    },
    {
      "cell_type": "code",
      "metadata": {
        "id": "7nvvGBfO_vzS",
        "outputId": "eb5425d6-9efc-43af-aaae-7879364fce69"
      },
      "source": [
        "with open(\"files/data1.txt\", \"r\", encoding='utf-8') as f:\n",
        "     print(\"Nombre del archivo: \", f.name)\n",
        "     lista = f.readlines()\n",
        "print(lista)"
      ],
      "execution_count": null,
      "outputs": [
        {
          "output_type": "stream",
          "text": [
            "Nombre del archivo:  files/data1.txt\n",
            "['Esta es la línea 1: abcabcabc\\n', 'Esta es la línea 2: abcabcabc\\n', 'Esta es la línea 3: abcabcabc']\n"
          ],
          "name": "stdout"
        }
      ]
    },
    {
      "cell_type": "markdown",
      "metadata": {
        "id": "q5F0-mv5_vzo"
      },
      "source": [
        "## La forma más eficiente de procesar un archivo\n",
        "\n",
        "La forma más sencilla y eficiente de abrir y procesar un archivo de texto es: "
      ]
    },
    {
      "cell_type": "code",
      "metadata": {
        "id": "8dWUzx5S_vzp",
        "outputId": "2b657150-7f35-4e0f-a934-b5306d430f92"
      },
      "source": [
        "with open(\"files/data1.txt\", \"r\", encoding='utf-8') as work_data:\n",
        "    for line in work_data:\n",
        "        print(line, end='')"
      ],
      "execution_count": null,
      "outputs": [
        {
          "output_type": "stream",
          "text": [
            "Esta es la línea 1: abcabcabc\n",
            "Esta es la línea 2: abcabcabc\n",
            "Esta es la línea 3: abcabcabc"
          ],
          "name": "stdout"
        }
      ]
    },
    {
      "cell_type": "markdown",
      "metadata": {
        "id": "P2DIPpYc_vzt"
      },
      "source": [
        "La anterior es la mejor forma de procesar archivos. Pues nunca carga el contenido del archivo completo si no por partes. "
      ]
    },
    {
      "cell_type": "markdown",
      "metadata": {
        "id": "TUlovDnh_vzu"
      },
      "source": [
        "## Ejercicio 1\n",
        "\n",
        "Dado el archivo de texto ```files/SalesJan2009.csv```, procese el archivo para obtener las compras realizadas en un país dado:\n"
      ]
    },
    {
      "cell_type": "code",
      "metadata": {
        "id": "L9Wt_dlH_vzv",
        "outputId": "5d9dee63-f08b-4698-bae0-f2cef9531792"
      },
      "source": [
        ""
      ],
      "execution_count": null,
      "outputs": [
        {
          "output_type": "stream",
          "text": [
            "Transaction_date,Product,Price,Payment_Type,Name,City,State,Country,Account_Created,Last_Login,Latitude,Longitude\n",
            "\n",
            "1/2/2009 6:17,Product1,1200,Mastercard,carolina,Basildon,England,United Kingdom,1/2/2009 6:00,1/2/2009 6:08,51.5,-1.1166667\n",
            "\n"
          ],
          "name": "stdout"
        }
      ]
    },
    {
      "cell_type": "markdown",
      "metadata": {
        "id": "PZ7shBOM_vz2"
      },
      "source": [
        "<table>\n",
        "    <tr>\n",
        "        <td>Input</td><td>Output</td>\n",
        "    </tr>\n",
        "    <tr>\n",
        "        <td>United Kingdom</td><td>100</td>\n",
        "    </tr>\n",
        " </table>"
      ]
    },
    {
      "cell_type": "markdown",
      "metadata": {
        "id": "kqakkKBR_vz4"
      },
      "source": [
        "##  Ejercicio 2\n",
        "\n",
        "Dado el archivo de texto files/SalesJan2009.csv, procese el archivo para obtener las compras realizadas con un medio de pago dado:\n",
        "\n",
        "<table>\n",
        "    <tr>\n",
        "        <td>Input</td><td>Output</td>\n",
        "    </tr>\n",
        "    <tr>\n",
        "        <td>Visa</td><td>521</td>\n",
        "    </tr>\n",
        " </table>"
      ]
    },
    {
      "cell_type": "markdown",
      "metadata": {
        "id": "VCFzLCO8_vz5"
      },
      "source": [
        "## Escritura de archivos\n",
        "\n",
        "A menudo se prefiere utilizar ```a+``` como el modo de apertura para escribir un archivo porque permite añadir datos al final del mismo. Utilizar ```w+``` borrará cualquier dato que existe en el archivo y pues producirá un archivo en límpio para trabajar.\n",
        "\n",
        "El método por defecto para añadir datos en un archivo es ```write```:\n"
      ]
    },
    {
      "cell_type": "code",
      "metadata": {
        "id": "6aIDFYCc_vz7"
      },
      "source": [
        "with open(\"files/data2.txt\", \"a+\", encoding='utf-8') as work_data:\n",
        "    work_data.write(\"\\nEsta es la línea 4: abcabcabc\")"
      ],
      "execution_count": null,
      "outputs": []
    },
    {
      "cell_type": "code",
      "metadata": {
        "id": "vT4ufLPb_v0A",
        "outputId": "cc90759f-af90-40bd-8a02-0c3490b113a1"
      },
      "source": [
        "with open(\"files/data2.txt\", \"r\", encoding='utf-8') as work_data:\n",
        "    for line in work_data:\n",
        "        print(line, end='')"
      ],
      "execution_count": null,
      "outputs": [
        {
          "output_type": "stream",
          "text": [
            "Esta es la línea 1: abcabcabc\n",
            "Esta es la línea 2: abcabcabc\n",
            "Esta es la línea 3: abcabcabc\n",
            "\n",
            "Esta es la línea 4: abcabcabc\n",
            "Esta es la línea 4: abcabcabc\n",
            "Esta es la línea 4: abcabcabc\n",
            "Esta es la línea 4: abcabcabc"
          ],
          "name": "stdout"
        }
      ]
    },
    {
      "cell_type": "markdown",
      "metadata": {
        "id": "PF6CFqIn_v0K"
      },
      "source": [
        "## Escribir datos que no son de texto en un archivo\n",
        "\n",
        "Si se desean escribir datos que no son cadenas de texto en un archivo es necesario convertir cada dato a string."
      ]
    },
    {
      "cell_type": "code",
      "metadata": {
        "id": "_VsjpoaM_v0M"
      },
      "source": [
        "values = [1234, 5678, 9012]\n",
        "\n",
        "with open(\"files/data3.txt\", \"w+\") as work_data:\n",
        "    for value in values:\n",
        "        str_value = str(value)\n",
        "        work_data.write(str_value)\n",
        "        work_data.write(\"\\n\")"
      ],
      "execution_count": null,
      "outputs": []
    },
    {
      "cell_type": "code",
      "metadata": {
        "id": "1p9nFfcz_v0S",
        "outputId": "15017b66-2b2b-4565-9a28-a256b11ca399"
      },
      "source": [
        "with open(\"files/data3.txt\", \"r\", encoding='utf-8') as work_data:\n",
        "    for line in work_data:\n",
        "        print(line, end='')"
      ],
      "execution_count": null,
      "outputs": [
        {
          "output_type": "stream",
          "text": [
            "1234\n",
            "5678\n",
            "9012\n"
          ],
          "name": "stdout"
        }
      ]
    },
    {
      "cell_type": "markdown",
      "metadata": {
        "id": "vYTaIPnJ_v0a"
      },
      "source": [
        "## Seek: moviendo el puntero de lectura y escritura\n",
        " \n",
        "A veces es necesario moverse al principio del archivo o a alguna posición específica en un archivo dado. La forma más fácil de hacerlo es es utilizar ```fileobject.seek(offset, from_what)```.\n",
        "\n",
        "```offset``` es el número de caracteres desde la posición ```from_what```.\n",
        "\n",
        "Hay algunos valores por defecto para la posición ```from_what```:\n",
        "\n",
        "* 0 – Al principio del archivo\n",
        "* 1 – posición actual\n",
        "* 2 – al final del archivo\n",
        "\n",
        "Con archivos de texto 0 ó seek(0, 2), lo llevarán al final del archivo."
      ]
    },
    {
      "cell_type": "code",
      "metadata": {
        "id": "robjl9r-_v0b",
        "outputId": "bf3d31e5-db1d-425e-97ab-a7ea6349b99a"
      },
      "source": [
        "with open(\"files/data4.txt\", \"r\", encoding='utf-8') as work_data:\n",
        "    work_data.seek(11,0)\n",
        "    for line in work_data:\n",
        "        print(line, end='')"
      ],
      "execution_count": null,
      "outputs": [
        {
          "output_type": "stream",
          "text": [
            "letras\n",
            "1234\n",
            "5678\n"
          ],
          "name": "stdout"
        }
      ]
    },
    {
      "cell_type": "markdown",
      "metadata": {
        "id": "tVLlZ2Aw_v0f"
      },
      "source": [
        "## Determinar tamaño de un archivo en bytes \n",
        "\n",
        "Para obtener la longitud de un archivo o la posición en donde se encuentra en un archivo se puede usar ```fileobject.tell()```. Para determinar el tamaño de un archivo en bytes se puede utilizar:"
      ]
    },
    {
      "cell_type": "code",
      "metadata": {
        "scrolled": true,
        "id": "8k5PIrjd_v0g",
        "outputId": "6a3b98be-75c1-46c6-ad0e-8e96d882a082"
      },
      "source": [
        "with open(\"files/data4.txt\", \"a+\") as work_data:\n",
        "    print(work_data.tell())"
      ],
      "execution_count": null,
      "outputs": [
        {
          "output_type": "stream",
          "text": [
            "31\n"
          ],
          "name": "stdout"
        }
      ]
    },
    {
      "cell_type": "markdown",
      "metadata": {
        "id": "LeLEjOCd_v0o"
      },
      "source": [
        "## Editando un archivo de python\n",
        "\n",
        "La forma más facil de editar un archivo dado es guardar el archivo entero en una lista y utilizar list.insert(i, x) para insertar los datos nuevos. Una vez creada la lista se puede unir (join) de nuevo y escribir esto en el archivo."
      ]
    },
    {
      "cell_type": "code",
      "metadata": {
        "id": "zyF49qc0_v0o"
      },
      "source": [
        "# Open the file as read-only\n",
        "with open(\"files/data5.txt\", \"r\", encoding='utf-8') as f:\n",
        "    list_content = f.readlines()\n",
        "\n",
        "#print(list_content)\n",
        "    \n",
        "list_content.insert(1, \"Esta es la línea 1.5 jajajaj\\n\")\n",
        "\n",
        "# Re-open in write-only format to overwrite old file\n",
        "with open(\"files/data5.txt\", \"w\", encoding='utf-8') as f:\n",
        "    contenido = \"\".join(list_content)\n",
        "    f.write(contenido)"
      ],
      "execution_count": null,
      "outputs": []
    },
    {
      "cell_type": "code",
      "metadata": {
        "id": "GJm1LigN_v0x",
        "outputId": "c01b1328-2f5b-4981-f96a-adab484d0b35"
      },
      "source": [
        "with open(\"files/data5.txt\", \"r\", encoding='utf-8') as work_data:\n",
        "    for line in work_data:\n",
        "        print(line)"
      ],
      "execution_count": null,
      "outputs": [
        {
          "output_type": "stream",
          "text": [
            "Esta es la línea 1: abcabcabc\n",
            "\n",
            "Esta es la línea 1.5 jajajaj\n",
            "\n",
            "Esta es la línea 1.5 jajajaj\n",
            "\n",
            "Esta es la línea 1.5 jajajaj\n",
            "\n",
            "Esta es la línea 2: abcabcabc\n",
            "\n",
            "Esta es la línea 3: abcabcabc\n",
            "\n"
          ],
          "name": "stdout"
        }
      ]
    },
    {
      "cell_type": "markdown",
      "metadata": {
        "id": "E4tZIkKU_v06"
      },
      "source": [
        "## Listando archivos y directorios:\n",
        "\n",
        "En las versiones modernas de python una alternativa a ```os.listdir()``` es utilizar ```os.scandir()``` (desde python 3.5) y ```pathlib.Path()```. \n"
      ]
    },
    {
      "cell_type": "code",
      "metadata": {
        "scrolled": true,
        "id": "SHW3x883_v07",
        "outputId": "15d8449c-4c15-4fef-95a6-e5867c5cb5e4"
      },
      "source": [
        "import os\n",
        "entries = os.scandir('files/')\n",
        "\n",
        "for entry in entries:\n",
        "    print(entry.name + ', es directorio: ' + str(entry.is_dir()) + ', size: ' + str(entry.stat().st_size)\n",
        "         + ' bytes.')"
      ],
      "execution_count": null,
      "outputs": [
        {
          "output_type": "stream",
          "text": [
            "alternancia.txt, es directorio: False, size: 12549 bytes.\n",
            "data.txt, es directorio: False, size: 14 bytes.\n",
            "data1.txt, es directorio: False, size: 94 bytes.\n",
            "data2.txt, es directorio: False, size: 224 bytes.\n",
            "data3.txt, es directorio: False, size: 18 bytes.\n",
            "data4.txt, es directorio: False, size: 31 bytes.\n",
            "data5.txt, es directorio: False, size: 189 bytes.\n",
            "names.txt, es directorio: False, size: 220 bytes.\n",
            "programming_powers.pkl, es directorio: False, size: 154 bytes.\n",
            "python_es.txt, es directorio: False, size: 33754 bytes.\n",
            "SalesJan2009.csv, es directorio: False, size: 130480 bytes.\n",
            "testdir, es directorio: True, size: 0 bytes.\n",
            "wdata.txt, es directorio: False, size: 153 bytes.\n"
          ],
          "name": "stdout"
        }
      ]
    },
    {
      "cell_type": "markdown",
      "metadata": {
        "id": "342gY7wB_v1C"
      },
      "source": [
        "## Guardar Estructuras de Datos en archivos: Pickling\n",
        "\n",
        "A veces se desea almacenar información compleja tales como la información que contiene un diccionario ó una lista. Aquí es donde podemos utilizar el módulo ```pickle``` de python para serializar objetos."
      ]
    },
    {
      "cell_type": "code",
      "metadata": {
        "id": "CrqwYlDe_v1D"
      },
      "source": [
        "import pickle\n",
        "\n",
        "name = [\"mohit\",\"bhaskar\", \"manish\"]\n",
        "skill = [\"Python\", \"Python\", \"Java\"]\n",
        "dict1 = dict([(k,v) for k,v in zip(name, skill)])\n",
        "\n",
        "with open(\"files/programming_powers.pkl\", \"wb\") as pickle_file:\n",
        "    pickle.dump(name, pickle_file)\n",
        "    pickle.dump(skill,pickle_file)\n",
        "    pickle.dump(dict1,pickle_file)"
      ],
      "execution_count": null,
      "outputs": []
    },
    {
      "cell_type": "markdown",
      "metadata": {
        "id": "lJL-ucVA_v1M"
      },
      "source": [
        "## Cargar una estructura de datos de un archivo: Unpickling\n",
        "\n",
        "Para obtener los datos de vuelta es posible hacer lo siguiente:"
      ]
    },
    {
      "cell_type": "code",
      "metadata": {
        "id": "xJvmEoYG_v1N",
        "outputId": "1836dbe3-11f8-4911-91ac-726d98b6b5ca"
      },
      "source": [
        "import pickle\n",
        "\n",
        "with open(\"files/programming_powers.pkl\", \"rb\") as pickle_file:\n",
        "    list1 = pickle.load(pickle_file)\n",
        "    list2 = pickle.load(pickle_file)\n",
        "    dict1 = pickle.load(pickle_file)\n",
        "print(list1)\n",
        "print(list2)\n",
        "print(dict1)"
      ],
      "execution_count": null,
      "outputs": [
        {
          "output_type": "stream",
          "text": [
            "['mohit', 'bhaskar', 'manish']\n",
            "['Python', 'Python', 'Java']\n",
            "{'mohit': 'Python', 'bhaskar': 'Python', 'manish': 'Java'}\n"
          ],
          "name": "stdout"
        }
      ]
    },
    {
      "cell_type": "markdown",
      "metadata": {
        "id": "guC37Grb_v1V"
      },
      "source": [
        "Pickle obtiene los datos de forma secuencial. "
      ]
    },
    {
      "cell_type": "markdown",
      "metadata": {
        "id": "4MMinQta_v1X"
      },
      "source": [
        "## Copiar una imagen\n",
        "\n",
        "Una imagen de tipo jpg es un archivo de tipo binario. Con cierto procesamiento es posible crear una copia del archivo:"
      ]
    },
    {
      "cell_type": "code",
      "metadata": {
        "id": "cBsvWqWO_v1a"
      },
      "source": [
        "with open(\"files/discurso.jpg\", \"rb\") as imagen:\n",
        "    data = imagen.read()\n",
        "\n",
        "#print(data)\n",
        "    \n",
        "with open(\"files/copy.jpg\", \"wb\") as f:\n",
        "    f.write(data)"
      ],
      "execution_count": null,
      "outputs": []
    },
    {
      "cell_type": "markdown",
      "metadata": {
        "id": "YhPqpw0R_v1k"
      },
      "source": [
        "## 12. Manejo de excepciones en python\n",
        "\n",
        "Programar el decirle al computador que haga lo que uno necesita que éste haga. Para esto se utilizan librerías y operaciones preexistentes o se escribe código nuevo.\n",
        "\n",
        "Dependiendo del problema pueden presentarse situaciones excepcionales que incluyen valores de entrada no válidos o situaciones que afectan el flujo ideal del programa interrumpiendo su ejecución.\n",
        "\n",
        "Es posible detectar esos errores en tiempo de ejecución y tratarlos mediante el manejo de excepciones.\n",
        "\n",
        "Se tiene el siguiente código que divide dos números enteros:"
      ]
    },
    {
      "cell_type": "code",
      "metadata": {
        "id": "XdA0xzn__v1m",
        "outputId": "bea2fd8a-2fb4-4aec-c00f-ecb7c06a8c27"
      },
      "source": [
        "def division(a, b):\n",
        "    coc = a//b\n",
        "    res = a % b\n",
        "    return (coc, res)\n",
        "\n",
        "division(4,5)\n",
        "\n",
        "print(division(10, 0))\n",
        "print(division(1024,10))"
      ],
      "execution_count": null,
      "outputs": [
        {
          "output_type": "error",
          "ename": "ZeroDivisionError",
          "evalue": "integer division or modulo by zero",
          "traceback": [
            "\u001b[1;31m---------------------------------------------------------------------------\u001b[0m",
            "\u001b[1;31mZeroDivisionError\u001b[0m                         Traceback (most recent call last)",
            "\u001b[1;32m<ipython-input-24-af58c2d4968e>\u001b[0m in \u001b[0;36m<module>\u001b[1;34m\u001b[0m\n\u001b[0;32m      6\u001b[0m \u001b[0mdivision\u001b[0m\u001b[1;33m(\u001b[0m\u001b[1;36m4\u001b[0m\u001b[1;33m,\u001b[0m\u001b[1;36m5\u001b[0m\u001b[1;33m)\u001b[0m\u001b[1;33m\u001b[0m\u001b[1;33m\u001b[0m\u001b[0m\n\u001b[0;32m      7\u001b[0m \u001b[1;33m\u001b[0m\u001b[0m\n\u001b[1;32m----> 8\u001b[1;33m \u001b[0mprint\u001b[0m\u001b[1;33m(\u001b[0m\u001b[0mdivision\u001b[0m\u001b[1;33m(\u001b[0m\u001b[1;36m10\u001b[0m\u001b[1;33m,\u001b[0m \u001b[1;36m0\u001b[0m\u001b[1;33m)\u001b[0m\u001b[1;33m)\u001b[0m\u001b[1;33m\u001b[0m\u001b[1;33m\u001b[0m\u001b[0m\n\u001b[0m\u001b[0;32m      9\u001b[0m \u001b[0mprint\u001b[0m\u001b[1;33m(\u001b[0m\u001b[0mdivision\u001b[0m\u001b[1;33m(\u001b[0m\u001b[1;36m1024\u001b[0m\u001b[1;33m,\u001b[0m\u001b[1;36m10\u001b[0m\u001b[1;33m)\u001b[0m\u001b[1;33m)\u001b[0m\u001b[1;33m\u001b[0m\u001b[1;33m\u001b[0m\u001b[0m\n",
            "\u001b[1;32m<ipython-input-24-af58c2d4968e>\u001b[0m in \u001b[0;36mdivision\u001b[1;34m(a, b)\u001b[0m\n\u001b[0;32m      1\u001b[0m \u001b[1;32mdef\u001b[0m \u001b[0mdivision\u001b[0m\u001b[1;33m(\u001b[0m\u001b[0ma\u001b[0m\u001b[1;33m,\u001b[0m \u001b[0mb\u001b[0m\u001b[1;33m)\u001b[0m\u001b[1;33m:\u001b[0m\u001b[1;33m\u001b[0m\u001b[1;33m\u001b[0m\u001b[0m\n\u001b[1;32m----> 2\u001b[1;33m     \u001b[0mcoc\u001b[0m \u001b[1;33m=\u001b[0m \u001b[0ma\u001b[0m\u001b[1;33m//\u001b[0m\u001b[0mb\u001b[0m\u001b[1;33m\u001b[0m\u001b[1;33m\u001b[0m\u001b[0m\n\u001b[0m\u001b[0;32m      3\u001b[0m     \u001b[0mres\u001b[0m \u001b[1;33m=\u001b[0m \u001b[0ma\u001b[0m \u001b[1;33m%\u001b[0m \u001b[0mb\u001b[0m\u001b[1;33m\u001b[0m\u001b[1;33m\u001b[0m\u001b[0m\n\u001b[0;32m      4\u001b[0m     \u001b[1;32mreturn\u001b[0m \u001b[1;33m(\u001b[0m\u001b[0mcoc\u001b[0m\u001b[1;33m,\u001b[0m \u001b[0mres\u001b[0m\u001b[1;33m)\u001b[0m\u001b[1;33m\u001b[0m\u001b[1;33m\u001b[0m\u001b[0m\n\u001b[0;32m      5\u001b[0m \u001b[1;33m\u001b[0m\u001b[0m\n",
            "\u001b[1;31mZeroDivisionError\u001b[0m: integer division or modulo by zero"
          ]
        }
      ]
    },
    {
      "cell_type": "markdown",
      "metadata": {
        "id": "CHj2YJ83_v1v"
      },
      "source": [
        "Este error puede ser tratado como se muestra a continuación:\n"
      ]
    },
    {
      "cell_type": "code",
      "metadata": {
        "id": "6BnGhTBm_v1w"
      },
      "source": [
        "def division(a, b):\n",
        "    try:\n",
        "        coc = a//b\n",
        "        res = a % b\n",
        "        return (coc, res)\n",
        "    except:\n",
        "        print(f'Error en la división de {a} entre {b}')\n",
        "        return ''"
      ],
      "execution_count": null,
      "outputs": []
    },
    {
      "cell_type": "markdown",
      "metadata": {
        "id": "oX7sL6pK_v10"
      },
      "source": [
        "Una situación alterna no esperada puede ser la siguiente:"
      ]
    },
    {
      "cell_type": "code",
      "metadata": {
        "id": "PV0L-KAa_v11",
        "outputId": "efb89090-c2f6-443a-95c7-315a92595ff5"
      },
      "source": [
        "print(division(10, 0))\n"
      ],
      "execution_count": null,
      "outputs": [
        {
          "output_type": "stream",
          "text": [
            "Error en la división de 10 entre 0\n",
            "\n"
          ],
          "name": "stdout"
        }
      ]
    },
    {
      "cell_type": "code",
      "metadata": {
        "id": "_zjscloI_v2D",
        "outputId": "ec9f35bd-56fb-4680-e1ef-112c19755123"
      },
      "source": [
        "print(division(1024,10))"
      ],
      "execution_count": null,
      "outputs": [
        {
          "output_type": "stream",
          "text": [
            "(102, 4)\n"
          ],
          "name": "stdout"
        }
      ]
    },
    {
      "cell_type": "markdown",
      "metadata": {
        "id": "QdQ9kxAp_v2L"
      },
      "source": [
        "## Sintaxis de las excepciones\n",
        "\n",
        "Una sintaxis más completa es la siguiente:\n",
        "\n",
        "```\n",
        "   try:\n",
        "       aquí van las operaciones\n",
        "   except Exception_name:\n",
        "       aquí se ejecuta esa suite si sucedió la excepción Exception_name\n",
        "   except Exception_name2:\n",
        "       aquí se ejecuta esa suite si sucedió la excepción 2\n",
        "   else:\n",
        "       si no hay excepción se ejecuta esta suite\n",
        "```\n",
        "       "
      ]
    },
    {
      "cell_type": "markdown",
      "metadata": {
        "id": "wrbEiyN2_v2M"
      },
      "source": [
        "## Excepciones cuando se digita texto en vez de un número\n",
        "\n",
        "Otra situación que puede ocurrir con la división pueden digitar texto en vez de numeros"
      ]
    },
    {
      "cell_type": "code",
      "metadata": {
        "id": "hM7qbvuf_v2N",
        "outputId": "dc0d8a39-216c-4a23-f468-f05f4885e0db"
      },
      "source": [
        "def division(a, b):\n",
        "    try:\n",
        "        coc = a//b\n",
        "        res = a % b\n",
        "        return (coc, res)\n",
        "    except:\n",
        "        print('Error en la división de {} entre {}'.format(a, b))\n",
        "\n",
        "\n",
        "def main():\n",
        "    num = int(input('digite el dividendo: '))\n",
        "    div = int(input('digite el divisor: '))\n",
        "    print(division(num, div))\n",
        "\n",
        "main() #posibles errores incluyen digitar texto en num o div, o definir div = 0\n"
      ],
      "execution_count": null,
      "outputs": [
        {
          "output_type": "stream",
          "text": [
            "digite el dividendo: hola\n"
          ],
          "name": "stdout"
        },
        {
          "output_type": "error",
          "ename": "ValueError",
          "evalue": "invalid literal for int() with base 10: 'hola'",
          "traceback": [
            "\u001b[1;31m---------------------------------------------------------------------------\u001b[0m",
            "\u001b[1;31mValueError\u001b[0m                                Traceback (most recent call last)",
            "\u001b[1;32m<ipython-input-33-e4c231c802f0>\u001b[0m in \u001b[0;36m<module>\u001b[1;34m\u001b[0m\n\u001b[0;32m     13\u001b[0m     \u001b[0mprint\u001b[0m\u001b[1;33m(\u001b[0m\u001b[0mdivision\u001b[0m\u001b[1;33m(\u001b[0m\u001b[0mnum\u001b[0m\u001b[1;33m,\u001b[0m \u001b[0mdiv\u001b[0m\u001b[1;33m)\u001b[0m\u001b[1;33m)\u001b[0m\u001b[1;33m\u001b[0m\u001b[1;33m\u001b[0m\u001b[0m\n\u001b[0;32m     14\u001b[0m \u001b[1;33m\u001b[0m\u001b[0m\n\u001b[1;32m---> 15\u001b[1;33m \u001b[0mmain\u001b[0m\u001b[1;33m(\u001b[0m\u001b[1;33m)\u001b[0m \u001b[1;31m#posibles errores incluyen digitar texto en num o div, o definir div = 0\u001b[0m\u001b[1;33m\u001b[0m\u001b[1;33m\u001b[0m\u001b[0m\n\u001b[0m",
            "\u001b[1;32m<ipython-input-33-e4c231c802f0>\u001b[0m in \u001b[0;36mmain\u001b[1;34m()\u001b[0m\n\u001b[0;32m      9\u001b[0m \u001b[1;33m\u001b[0m\u001b[0m\n\u001b[0;32m     10\u001b[0m \u001b[1;32mdef\u001b[0m \u001b[0mmain\u001b[0m\u001b[1;33m(\u001b[0m\u001b[1;33m)\u001b[0m\u001b[1;33m:\u001b[0m\u001b[1;33m\u001b[0m\u001b[1;33m\u001b[0m\u001b[0m\n\u001b[1;32m---> 11\u001b[1;33m     \u001b[0mnum\u001b[0m \u001b[1;33m=\u001b[0m \u001b[0mint\u001b[0m\u001b[1;33m(\u001b[0m\u001b[0minput\u001b[0m\u001b[1;33m(\u001b[0m\u001b[1;34m'digite el dividendo: '\u001b[0m\u001b[1;33m)\u001b[0m\u001b[1;33m)\u001b[0m\u001b[1;33m\u001b[0m\u001b[1;33m\u001b[0m\u001b[0m\n\u001b[0m\u001b[0;32m     12\u001b[0m     \u001b[0mdiv\u001b[0m \u001b[1;33m=\u001b[0m \u001b[0mint\u001b[0m\u001b[1;33m(\u001b[0m\u001b[0minput\u001b[0m\u001b[1;33m(\u001b[0m\u001b[1;34m'digite el divisor: '\u001b[0m\u001b[1;33m)\u001b[0m\u001b[1;33m)\u001b[0m\u001b[1;33m\u001b[0m\u001b[1;33m\u001b[0m\u001b[0m\n\u001b[0;32m     13\u001b[0m     \u001b[0mprint\u001b[0m\u001b[1;33m(\u001b[0m\u001b[0mdivision\u001b[0m\u001b[1;33m(\u001b[0m\u001b[0mnum\u001b[0m\u001b[1;33m,\u001b[0m \u001b[0mdiv\u001b[0m\u001b[1;33m)\u001b[0m\u001b[1;33m)\u001b[0m\u001b[1;33m\u001b[0m\u001b[1;33m\u001b[0m\u001b[0m\n",
            "\u001b[1;31mValueError\u001b[0m: invalid literal for int() with base 10: 'hola'"
          ]
        }
      ]
    },
    {
      "cell_type": "markdown",
      "metadata": {
        "id": "jXXDL6M1_v2T"
      },
      "source": [
        "Esto se puede tratar capturando la excepción `ValueError`"
      ]
    },
    {
      "cell_type": "code",
      "metadata": {
        "id": "qr5CvSrH_v2U",
        "outputId": "9273c4bd-2e27-4444-ebb3-3a9809eac681"
      },
      "source": [
        "def division(a, b):\n",
        "    try:\n",
        "        coc = a//b\n",
        "        res = a % b\n",
        "        return (coc, res)\n",
        "    except ZeroDivisionError:\n",
        "        print('La división por cero no está definida.')\n",
        "        return ''\n",
        "\n",
        "\n",
        "def main():\n",
        "    try:\n",
        "        num = int(input('digite el dividendo: '))\n",
        "        div = int(input('digite el divisor: '))\n",
        "        print(division(num, div))\n",
        "    except ValueError:\n",
        "        print('El valor digitado no es entero.')\n",
        "\n",
        "main()"
      ],
      "execution_count": null,
      "outputs": [
        {
          "output_type": "stream",
          "text": [
            "digite el dividendo: diez\n",
            "El valor digitado no es entero.\n"
          ],
          "name": "stdout"
        }
      ]
    },
    {
      "cell_type": "markdown",
      "metadata": {
        "id": "7IoDUcYP_v2Z"
      },
      "source": [
        "## El bloque finally\n",
        "\n",
        "Se especifica el bloque Finally para determinar acciones que se deben ejecutar sin importar si se produce una excepción o no\n",
        "\n",
        "```\n",
        "try:\n",
        "    #run this action first\n",
        "except:\n",
        "    # Run if exception occurs\n",
        "Finally :\n",
        "    #Always run this code\n",
        "```\n",
        "\n",
        "El orden de ejecución de las excepciones es el siguiente:\n",
        "\n",
        "```try -> except -> else -> finally```\n",
        "\n"
      ]
    },
    {
      "cell_type": "markdown",
      "metadata": {
        "id": "3pFvFDqV_v2Z"
      },
      "source": [
        "## Ejemplo"
      ]
    },
    {
      "cell_type": "code",
      "metadata": {
        "id": "0qauFGPC_v2b",
        "outputId": "1b3ff4f7-79b4-4b6d-e364-d5432f14e36f"
      },
      "source": [
        "## Finally\n",
        "\n",
        "try:\n",
        "    num = int(input(\"Enter the number \"))\n",
        "    re = 100/num\n",
        "except:\n",
        "    print(\"Something is wrong\")\n",
        "else:\n",
        "    print (\"result is \",re)\n",
        "finally :\n",
        "    print (\"finally program ends\")\n"
      ],
      "execution_count": null,
      "outputs": [
        {
          "output_type": "stream",
          "text": [
            "Enter the number dfbg\n",
            "Something is wrong\n",
            "finally program ends\n"
          ],
          "name": "stdout"
        }
      ]
    },
    {
      "cell_type": "markdown",
      "metadata": {
        "id": "mzUlmI51_v2f"
      },
      "source": [
        "## Capturar excepciones de varios tipos\n",
        "\n",
        "Como es tedioso determinar el tipo de excepción se puede utilizar una sóla línea de código:"
      ]
    },
    {
      "cell_type": "code",
      "metadata": {
        "id": "lxjeOV1z_v2g",
        "outputId": "03f89a2d-f469-4a80-9c18-67aac354e774"
      },
      "source": [
        "try:\n",
        "    num = int(input(\"Enter the number \"))\n",
        "    re = 100/num\n",
        "    print(re)\n",
        "except Exception as e:\n",
        "    print(e, type(e))\n"
      ],
      "execution_count": null,
      "outputs": [
        {
          "output_type": "stream",
          "text": [
            "Enter the number hola\n",
            "invalid literal for int() with base 10: 'hola' <class 'ValueError'>\n"
          ],
          "name": "stdout"
        }
      ]
    },
    {
      "cell_type": "markdown",
      "metadata": {
        "id": "cpu2_IJ2_v2k"
      },
      "source": [
        "## Lanzar excepciones \n",
        "Es posible lanzar excepciones utilizando ```raise```:"
      ]
    },
    {
      "cell_type": "code",
      "metadata": {
        "id": "4UQ0Y2-6_v2l",
        "outputId": "f142a196-733a-4002-807c-6c3ab9349d87"
      },
      "source": [
        "raise ValueError('error de división por cero')"
      ],
      "execution_count": null,
      "outputs": [
        {
          "output_type": "error",
          "ename": "ValueError",
          "evalue": "error de división por cero",
          "traceback": [
            "\u001b[1;31m---------------------------------------------------------------------------\u001b[0m",
            "\u001b[1;31mValueError\u001b[0m                                Traceback (most recent call last)",
            "\u001b[1;32m<ipython-input-40-496f78253296>\u001b[0m in \u001b[0;36m<module>\u001b[1;34m\u001b[0m\n\u001b[1;32m----> 1\u001b[1;33m \u001b[1;32mraise\u001b[0m \u001b[0mValueError\u001b[0m\u001b[1;33m(\u001b[0m\u001b[1;34m'error de división por cero'\u001b[0m\u001b[1;33m)\u001b[0m\u001b[1;33m\u001b[0m\u001b[1;33m\u001b[0m\u001b[0m\n\u001b[0m",
            "\u001b[1;31mValueError\u001b[0m: error de división por cero"
          ]
        }
      ]
    },
    {
      "cell_type": "markdown",
      "metadata": {
        "id": "cw9-QMw__v2u"
      },
      "source": [
        "## Definiendo mis propias excepciones:\n",
        "\n",
        "Para definir nuestras propias excepciones es necesario crear una clase que hereda de la clase Exception. Por ahora puede verse el ejemplo siguiente como una plantilla pues no se han visto clases:\n"
      ]
    },
    {
      "cell_type": "code",
      "metadata": {
        "id": "mwRqZ_42_v2v",
        "outputId": "2b963a6f-d7e4-40d3-a6d1-535355209b0f"
      },
      "source": [
        "class NoPuedeDigitarDosException(Exception):\n",
        "    def __init__(self, value):\n",
        "        self.value = value\n",
        "        \n",
        "    def __str__(self):\n",
        "        return self.value\n",
        "\n",
        "def main():\n",
        "    try:\n",
        "        num = int(input())\n",
        "        if num == 2:\n",
        "            raise NoPuedeDigitarDosException('El usuario digitó 2 y no se puede!')\n",
        "        else:\n",
        "            print('all is well it is not 2')\n",
        "    except Exception as e:\n",
        "        print(e, type(e))\n",
        "\n",
        "main()\n"
      ],
      "execution_count": null,
      "outputs": [
        {
          "output_type": "stream",
          "text": [
            "2\n",
            "El usuario digitó 2 y no se puede! <class '__main__.NoPuedeDigitarDosException'>\n"
          ],
          "name": "stdout"
        }
      ]
    },
    {
      "cell_type": "markdown",
      "metadata": {
        "id": "YTEB2DlD_v24"
      },
      "source": [
        "\n",
        "## Ejercicio 1\n",
        "\n",
        "Dada la siguiente lista capture la excepción que evita que el usuario acceda a posiciones que no se encuentran definidas en la lista y muestre el mensaje ```Intenta acceder una posición que no está en el arreglo```:"
      ]
    },
    {
      "cell_type": "code",
      "metadata": {
        "id": "WjvNE9wG_v25",
        "outputId": "c82549e4-7fa0-44a1-b86d-1e5af3ba8d40"
      },
      "source": [
        "lista = [1, 2, 3, 4]\n",
        "lista[5]"
      ],
      "execution_count": null,
      "outputs": [
        {
          "output_type": "error",
          "ename": "IndexError",
          "evalue": "list index out of range",
          "traceback": [
            "\u001b[1;31m---------------------------------------------------------------------------\u001b[0m",
            "\u001b[1;31mIndexError\u001b[0m                                Traceback (most recent call last)",
            "\u001b[1;32m<ipython-input-42-64245f71fd49>\u001b[0m in \u001b[0;36m<module>\u001b[1;34m\u001b[0m\n\u001b[0;32m      1\u001b[0m \u001b[0mlista\u001b[0m \u001b[1;33m=\u001b[0m \u001b[1;33m[\u001b[0m\u001b[1;36m1\u001b[0m\u001b[1;33m,\u001b[0m \u001b[1;36m2\u001b[0m\u001b[1;33m,\u001b[0m \u001b[1;36m3\u001b[0m\u001b[1;33m,\u001b[0m \u001b[1;36m4\u001b[0m\u001b[1;33m]\u001b[0m\u001b[1;33m\u001b[0m\u001b[1;33m\u001b[0m\u001b[0m\n\u001b[1;32m----> 2\u001b[1;33m \u001b[0mlista\u001b[0m\u001b[1;33m[\u001b[0m\u001b[1;36m5\u001b[0m\u001b[1;33m]\u001b[0m\u001b[1;33m\u001b[0m\u001b[1;33m\u001b[0m\u001b[0m\n\u001b[0m",
            "\u001b[1;31mIndexError\u001b[0m: list index out of range"
          ]
        }
      ]
    },
    {
      "cell_type": "markdown",
      "metadata": {
        "id": "QfoerORR_v3B"
      },
      "source": [
        "## Ejercicio 2\n",
        "\n",
        "En el siguiente programa capture la excepción para evitar que un programador sume una cadena de texto a un número y muestre el mensaje ```Los tipos de datos no cuadran para hacer la operación```: "
      ]
    },
    {
      "cell_type": "code",
      "metadata": {
        "id": "GOw17e2e_v3C",
        "outputId": "86819444-407c-4d6a-aa76-108d8e2c01bb"
      },
      "source": [
        "def operar(a, b):\n",
        "    return a+b\n",
        "\n",
        "def main():\n",
        "    a = int(input())\n",
        "    b = 'hola'\n",
        "    operar(a, b)\n",
        "\n",
        "main()"
      ],
      "execution_count": null,
      "outputs": [
        {
          "output_type": "stream",
          "text": [
            "3\n"
          ],
          "name": "stdout"
        },
        {
          "output_type": "error",
          "ename": "TypeError",
          "evalue": "unsupported operand type(s) for +: 'int' and 'str'",
          "traceback": [
            "\u001b[1;31m---------------------------------------------------------------------------\u001b[0m",
            "\u001b[1;31mTypeError\u001b[0m                                 Traceback (most recent call last)",
            "\u001b[1;32m<ipython-input-43-63f2edb5e1e0>\u001b[0m in \u001b[0;36m<module>\u001b[1;34m\u001b[0m\n\u001b[0;32m      7\u001b[0m     \u001b[0moperar\u001b[0m\u001b[1;33m(\u001b[0m\u001b[0ma\u001b[0m\u001b[1;33m,\u001b[0m \u001b[0mb\u001b[0m\u001b[1;33m)\u001b[0m\u001b[1;33m\u001b[0m\u001b[1;33m\u001b[0m\u001b[0m\n\u001b[0;32m      8\u001b[0m \u001b[1;33m\u001b[0m\u001b[0m\n\u001b[1;32m----> 9\u001b[1;33m \u001b[0mmain\u001b[0m\u001b[1;33m(\u001b[0m\u001b[1;33m)\u001b[0m\u001b[1;33m\u001b[0m\u001b[1;33m\u001b[0m\u001b[0m\n\u001b[0m",
            "\u001b[1;32m<ipython-input-43-63f2edb5e1e0>\u001b[0m in \u001b[0;36mmain\u001b[1;34m()\u001b[0m\n\u001b[0;32m      5\u001b[0m     \u001b[0ma\u001b[0m \u001b[1;33m=\u001b[0m \u001b[0mint\u001b[0m\u001b[1;33m(\u001b[0m\u001b[0minput\u001b[0m\u001b[1;33m(\u001b[0m\u001b[1;33m)\u001b[0m\u001b[1;33m)\u001b[0m\u001b[1;33m\u001b[0m\u001b[1;33m\u001b[0m\u001b[0m\n\u001b[0;32m      6\u001b[0m     \u001b[0mb\u001b[0m \u001b[1;33m=\u001b[0m \u001b[1;34m'hola'\u001b[0m\u001b[1;33m\u001b[0m\u001b[1;33m\u001b[0m\u001b[0m\n\u001b[1;32m----> 7\u001b[1;33m     \u001b[0moperar\u001b[0m\u001b[1;33m(\u001b[0m\u001b[0ma\u001b[0m\u001b[1;33m,\u001b[0m \u001b[0mb\u001b[0m\u001b[1;33m)\u001b[0m\u001b[1;33m\u001b[0m\u001b[1;33m\u001b[0m\u001b[0m\n\u001b[0m\u001b[0;32m      8\u001b[0m \u001b[1;33m\u001b[0m\u001b[0m\n\u001b[0;32m      9\u001b[0m \u001b[0mmain\u001b[0m\u001b[1;33m(\u001b[0m\u001b[1;33m)\u001b[0m\u001b[1;33m\u001b[0m\u001b[1;33m\u001b[0m\u001b[0m\n",
            "\u001b[1;32m<ipython-input-43-63f2edb5e1e0>\u001b[0m in \u001b[0;36moperar\u001b[1;34m(a, b)\u001b[0m\n\u001b[0;32m      1\u001b[0m \u001b[1;32mdef\u001b[0m \u001b[0moperar\u001b[0m\u001b[1;33m(\u001b[0m\u001b[0ma\u001b[0m\u001b[1;33m,\u001b[0m \u001b[0mb\u001b[0m\u001b[1;33m)\u001b[0m\u001b[1;33m:\u001b[0m\u001b[1;33m\u001b[0m\u001b[1;33m\u001b[0m\u001b[0m\n\u001b[1;32m----> 2\u001b[1;33m     \u001b[1;32mreturn\u001b[0m \u001b[0ma\u001b[0m\u001b[1;33m+\u001b[0m\u001b[0mb\u001b[0m\u001b[1;33m\u001b[0m\u001b[1;33m\u001b[0m\u001b[0m\n\u001b[0m\u001b[0;32m      3\u001b[0m \u001b[1;33m\u001b[0m\u001b[0m\n\u001b[0;32m      4\u001b[0m \u001b[1;32mdef\u001b[0m \u001b[0mmain\u001b[0m\u001b[1;33m(\u001b[0m\u001b[1;33m)\u001b[0m\u001b[1;33m:\u001b[0m\u001b[1;33m\u001b[0m\u001b[1;33m\u001b[0m\u001b[0m\n\u001b[0;32m      5\u001b[0m     \u001b[0ma\u001b[0m \u001b[1;33m=\u001b[0m \u001b[0mint\u001b[0m\u001b[1;33m(\u001b[0m\u001b[0minput\u001b[0m\u001b[1;33m(\u001b[0m\u001b[1;33m)\u001b[0m\u001b[1;33m)\u001b[0m\u001b[1;33m\u001b[0m\u001b[1;33m\u001b[0m\u001b[0m\n",
            "\u001b[1;31mTypeError\u001b[0m: unsupported operand type(s) for +: 'int' and 'str'"
          ]
        }
      ]
    },
    {
      "cell_type": "markdown",
      "metadata": {
        "id": "W-TXYbi3_v3I"
      },
      "source": [
        "## Ejercicio 3\n",
        "\n",
        "Capture la excepción que valide cuando se trata de obtener una llave que no se encuentra en un diccionario  y muestre el mensaje ```Intenta acceder una llave que no se encuentra en el diccionario```:\n",
        "\n"
      ]
    },
    {
      "cell_type": "code",
      "metadata": {
        "id": "Gee1ZKxY_v3J",
        "outputId": "e01a7ca3-5dbf-4a44-aadf-5aef45d194a7"
      },
      "source": [
        "\n",
        "def main():\n",
        "    dict = {'James': 'Java', 'Dennis' : 'C', 'Das':'Python'}\n",
        "    print(dict['Ada'])\n",
        "    \n",
        "main()"
      ],
      "execution_count": null,
      "outputs": [
        {
          "output_type": "error",
          "ename": "KeyError",
          "evalue": "'Ada'",
          "traceback": [
            "\u001b[1;31m---------------------------------------------------------------------------\u001b[0m",
            "\u001b[1;31mKeyError\u001b[0m                                  Traceback (most recent call last)",
            "\u001b[1;32m<ipython-input-45-174134c9fede>\u001b[0m in \u001b[0;36m<module>\u001b[1;34m\u001b[0m\n\u001b[0;32m      3\u001b[0m     \u001b[0mprint\u001b[0m\u001b[1;33m(\u001b[0m\u001b[0mdict\u001b[0m\u001b[1;33m[\u001b[0m\u001b[1;34m'Ada'\u001b[0m\u001b[1;33m]\u001b[0m\u001b[1;33m)\u001b[0m\u001b[1;33m\u001b[0m\u001b[1;33m\u001b[0m\u001b[0m\n\u001b[0;32m      4\u001b[0m \u001b[1;33m\u001b[0m\u001b[0m\n\u001b[1;32m----> 5\u001b[1;33m \u001b[0mmain\u001b[0m\u001b[1;33m(\u001b[0m\u001b[1;33m)\u001b[0m\u001b[1;33m\u001b[0m\u001b[1;33m\u001b[0m\u001b[0m\n\u001b[0m",
            "\u001b[1;32m<ipython-input-45-174134c9fede>\u001b[0m in \u001b[0;36mmain\u001b[1;34m()\u001b[0m\n\u001b[0;32m      1\u001b[0m \u001b[1;32mdef\u001b[0m \u001b[0mmain\u001b[0m\u001b[1;33m(\u001b[0m\u001b[1;33m)\u001b[0m\u001b[1;33m:\u001b[0m\u001b[1;33m\u001b[0m\u001b[1;33m\u001b[0m\u001b[0m\n\u001b[0;32m      2\u001b[0m     \u001b[0mdict\u001b[0m \u001b[1;33m=\u001b[0m \u001b[1;33m{\u001b[0m\u001b[1;34m'James'\u001b[0m\u001b[1;33m:\u001b[0m \u001b[1;34m'Java'\u001b[0m\u001b[1;33m,\u001b[0m \u001b[1;34m'Dennis'\u001b[0m \u001b[1;33m:\u001b[0m \u001b[1;34m'C'\u001b[0m\u001b[1;33m,\u001b[0m \u001b[1;34m'Das'\u001b[0m\u001b[1;33m:\u001b[0m\u001b[1;34m'Python'\u001b[0m\u001b[1;33m}\u001b[0m\u001b[1;33m\u001b[0m\u001b[1;33m\u001b[0m\u001b[0m\n\u001b[1;32m----> 3\u001b[1;33m     \u001b[0mprint\u001b[0m\u001b[1;33m(\u001b[0m\u001b[0mdict\u001b[0m\u001b[1;33m[\u001b[0m\u001b[1;34m'Ada'\u001b[0m\u001b[1;33m]\u001b[0m\u001b[1;33m)\u001b[0m\u001b[1;33m\u001b[0m\u001b[1;33m\u001b[0m\u001b[0m\n\u001b[0m\u001b[0;32m      4\u001b[0m \u001b[1;33m\u001b[0m\u001b[0m\n\u001b[0;32m      5\u001b[0m \u001b[0mmain\u001b[0m\u001b[1;33m(\u001b[0m\u001b[1;33m)\u001b[0m\u001b[1;33m\u001b[0m\u001b[1;33m\u001b[0m\u001b[0m\n",
            "\u001b[1;31mKeyError\u001b[0m: 'Ada'"
          ]
        }
      ]
    },
    {
      "cell_type": "markdown",
      "metadata": {
        "id": "Nq37Dv3g_v3Q"
      },
      "source": [
        "## Ejercicio 4\n",
        "\n",
        "Defina una excepción para impedir que un usuario digite más de 20 caracteres cómo número de teléfono. Adicionalmente identifique flujos excepcionales en el programa y capture las excepciones que pueden ocurrir."
      ]
    },
    {
      "cell_type": "code",
      "metadata": {
        "id": "DhxoYmZ-_v3R",
        "outputId": "e677d48d-9773-49e4-d7f2-6b773cbfd712"
      },
      "source": [
        "agenda = {}\n",
        "\n",
        "def process_numbers(person, number):\n",
        "    agenda[person] = number\n",
        "\n",
        "def main():\n",
        "    n = int(input('Digite el número de contactos:'))\n",
        "    print('Agregando ' + str(n) + ' personas...')\n",
        "    for i in range(n):\n",
        "        nombre = input('Digite el nombre del contacto {}:'.format(i+1))\n",
        "        numero = int(input('Digite el número de contacto {}:'.format(i+1)))\n",
        "        process_numbers(nombre, numero)\n",
        "    print('Así va la agenda:' + str(agenda))\n",
        "\n",
        "main()\n",
        "\n",
        "\n",
        "    "
      ],
      "execution_count": null,
      "outputs": [
        {
          "output_type": "stream",
          "text": [
            "Digite el número de contactos:346363\n",
            "Agregando 346363 personas...\n",
            "Digite el nombre del contacto 1:56949'497947'04590754'749074'\n",
            "Digite el número de contacto 1:54ryerye'06y7434\n"
          ],
          "name": "stdout"
        },
        {
          "output_type": "error",
          "ename": "ValueError",
          "evalue": "invalid literal for int() with base 10: \"54ryerye'06y7434\"",
          "traceback": [
            "\u001b[1;31m---------------------------------------------------------------------------\u001b[0m",
            "\u001b[1;31mValueError\u001b[0m                                Traceback (most recent call last)",
            "\u001b[1;32m<ipython-input-46-02e76483592a>\u001b[0m in \u001b[0;36m<module>\u001b[1;34m\u001b[0m\n\u001b[0;32m     13\u001b[0m     \u001b[0mprint\u001b[0m\u001b[1;33m(\u001b[0m\u001b[1;34m'Así va la agenda:'\u001b[0m \u001b[1;33m+\u001b[0m \u001b[0mstr\u001b[0m\u001b[1;33m(\u001b[0m\u001b[0magenda\u001b[0m\u001b[1;33m)\u001b[0m\u001b[1;33m)\u001b[0m\u001b[1;33m\u001b[0m\u001b[1;33m\u001b[0m\u001b[0m\n\u001b[0;32m     14\u001b[0m \u001b[1;33m\u001b[0m\u001b[0m\n\u001b[1;32m---> 15\u001b[1;33m \u001b[0mmain\u001b[0m\u001b[1;33m(\u001b[0m\u001b[1;33m)\u001b[0m\u001b[1;33m\u001b[0m\u001b[1;33m\u001b[0m\u001b[0m\n\u001b[0m\u001b[0;32m     16\u001b[0m \u001b[1;33m\u001b[0m\u001b[0m\n\u001b[0;32m     17\u001b[0m \u001b[1;33m\u001b[0m\u001b[0m\n",
            "\u001b[1;32m<ipython-input-46-02e76483592a>\u001b[0m in \u001b[0;36mmain\u001b[1;34m()\u001b[0m\n\u001b[0;32m      9\u001b[0m     \u001b[1;32mfor\u001b[0m \u001b[0mi\u001b[0m \u001b[1;32min\u001b[0m \u001b[0mrange\u001b[0m\u001b[1;33m(\u001b[0m\u001b[0mn\u001b[0m\u001b[1;33m)\u001b[0m\u001b[1;33m:\u001b[0m\u001b[1;33m\u001b[0m\u001b[1;33m\u001b[0m\u001b[0m\n\u001b[0;32m     10\u001b[0m         \u001b[0mnombre\u001b[0m \u001b[1;33m=\u001b[0m \u001b[0minput\u001b[0m\u001b[1;33m(\u001b[0m\u001b[1;34m'Digite el nombre del contacto {}:'\u001b[0m\u001b[1;33m.\u001b[0m\u001b[0mformat\u001b[0m\u001b[1;33m(\u001b[0m\u001b[0mi\u001b[0m\u001b[1;33m+\u001b[0m\u001b[1;36m1\u001b[0m\u001b[1;33m)\u001b[0m\u001b[1;33m)\u001b[0m\u001b[1;33m\u001b[0m\u001b[1;33m\u001b[0m\u001b[0m\n\u001b[1;32m---> 11\u001b[1;33m         \u001b[0mnumero\u001b[0m \u001b[1;33m=\u001b[0m \u001b[0mint\u001b[0m\u001b[1;33m(\u001b[0m\u001b[0minput\u001b[0m\u001b[1;33m(\u001b[0m\u001b[1;34m'Digite el número de contacto {}:'\u001b[0m\u001b[1;33m.\u001b[0m\u001b[0mformat\u001b[0m\u001b[1;33m(\u001b[0m\u001b[0mi\u001b[0m\u001b[1;33m+\u001b[0m\u001b[1;36m1\u001b[0m\u001b[1;33m)\u001b[0m\u001b[1;33m)\u001b[0m\u001b[1;33m)\u001b[0m\u001b[1;33m\u001b[0m\u001b[1;33m\u001b[0m\u001b[0m\n\u001b[0m\u001b[0;32m     12\u001b[0m         \u001b[0mprocess_numbers\u001b[0m\u001b[1;33m(\u001b[0m\u001b[0mnombre\u001b[0m\u001b[1;33m,\u001b[0m \u001b[0mnumero\u001b[0m\u001b[1;33m)\u001b[0m\u001b[1;33m\u001b[0m\u001b[1;33m\u001b[0m\u001b[0m\n\u001b[0;32m     13\u001b[0m     \u001b[0mprint\u001b[0m\u001b[1;33m(\u001b[0m\u001b[1;34m'Así va la agenda:'\u001b[0m \u001b[1;33m+\u001b[0m \u001b[0mstr\u001b[0m\u001b[1;33m(\u001b[0m\u001b[0magenda\u001b[0m\u001b[1;33m)\u001b[0m\u001b[1;33m)\u001b[0m\u001b[1;33m\u001b[0m\u001b[1;33m\u001b[0m\u001b[0m\n",
            "\u001b[1;31mValueError\u001b[0m: invalid literal for int() with base 10: \"54ryerye'06y7434\""
          ]
        }
      ]
    },
    {
      "cell_type": "markdown",
      "metadata": {
        "id": "6wfWHue3_v3U"
      },
      "source": [
        "## Referencias\n",
        "\n",
        "- Das, B. N. (2017). Learn Python in 7 Days. Packt Publishing Ltd.\n",
        "- https://support.spatialkey.com/spatialkey-sample-csv-data/\n",
        "- https://www.geeksforgeeks.org/with-statement-in-python/\n",
        "- https://stackoverflow.com/questions/40918503/how-to-read-a-utf-8-encoded-text-file-using-python/40918636\n",
        "- https://dbader.org/blog/python-file-io\n",
        "- https://docs.hektorprofe.net/python/errores-y-excepciones/ejercicios/"
      ]
    },
    {
      "cell_type": "code",
      "metadata": {
        "id": "-u4N7YXD_v3U"
      },
      "source": [
        ""
      ],
      "execution_count": null,
      "outputs": []
    }
  ]
}