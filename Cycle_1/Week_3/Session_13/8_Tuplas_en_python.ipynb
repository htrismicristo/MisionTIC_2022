{
  "nbformat": 4,
  "nbformat_minor": 0,
  "metadata": {
    "kernelspec": {
      "display_name": "Python 3",
      "language": "python",
      "name": "python3"
    },
    "language_info": {
      "codemirror_mode": {
        "name": "ipython",
        "version": 3
      },
      "file_extension": ".py",
      "mimetype": "text/x-python",
      "name": "python",
      "nbconvert_exporter": "python",
      "pygments_lexer": "ipython3",
      "version": "3.7.3"
    },
    "colab": {
      "name": "8-Tuplas en python.ipynb",
      "provenance": []
    }
  },
  "cells": [
    {
      "cell_type": "markdown",
      "metadata": {
        "id": "ilQfqbdyAMdR"
      },
      "source": [
        "## Tuplas en Python\n",
        "\n",
        "Una tupla es una secuencia de elementos que puede almacenar datos heterogeneos tales como: float, strings, listas y diccionarios. Como los strings, las tuplas son inmutables."
      ]
    },
    {
      "cell_type": "code",
      "metadata": {
        "id": "x4ySpP6fAMdd",
        "outputId": "1cbe6a40-fbe0-4ea4-f2b2-ecf580e57393"
      },
      "source": [
        "#Así se crea una tupla vacía\n",
        "tupl = ()\n",
        "print(tupl)"
      ],
      "execution_count": null,
      "outputs": [
        {
          "output_type": "stream",
          "text": [
            "()\n"
          ],
          "name": "stdout"
        }
      ]
    },
    {
      "cell_type": "code",
      "metadata": {
        "id": "p9qPtwXsAMeb",
        "outputId": "2d39b062-2828-40c6-8754-a51261cc6513"
      },
      "source": [
        "#Una tupla con un elemento\n",
        "tupl2 = (\"Este es un elemento\", ) #python requiere la coma final para considerarla como una tupla\n",
        "print(tupl2)"
      ],
      "execution_count": null,
      "outputs": [
        {
          "output_type": "stream",
          "text": [
            "('Este es un elemento',)\n"
          ],
          "name": "stdout"
        }
      ]
    },
    {
      "cell_type": "markdown",
      "metadata": {
        "id": "UWPefEQCAMer"
      },
      "source": [
        "Para crear una tupla, se almacenan los valores separados por comas:"
      ]
    },
    {
      "cell_type": "code",
      "metadata": {
        "id": "aqaoG0vOAMe1",
        "outputId": "9d55dcc7-f643-4e1c-a8f1-73898893a3dd"
      },
      "source": [
        "tup = (1, 2, 3, 4.6, 'hola', 'a') #una tupla de 6 elementos\n",
        "print(tup)"
      ],
      "execution_count": null,
      "outputs": [
        {
          "output_type": "stream",
          "text": [
            "(1, 2, 3, 4.6, 'hola', 'a')\n"
          ],
          "name": "stdout"
        }
      ]
    },
    {
      "cell_type": "markdown",
      "metadata": {
        "id": "NMqpWA_6AMfU"
      },
      "source": [
        "## Variables"
      ]
    },
    {
      "cell_type": "markdown",
      "metadata": {
        "id": "x_Y6hEamAMfX"
      },
      "source": [
        "Si se define una variable así, también se creará una tupla:"
      ]
    },
    {
      "cell_type": "code",
      "metadata": {
        "id": "l7KVBmCQAMfa"
      },
      "source": [
        "x = () # x igual a tupla vacía"
      ],
      "execution_count": null,
      "outputs": []
    },
    {
      "cell_type": "code",
      "metadata": {
        "id": "_LwpvuvBAMfv"
      },
      "source": [
        "tup = (1, 2, 3, 4.6, 'hola', 'a') #tup es igual a esta tupla con 6 elementos"
      ],
      "execution_count": null,
      "outputs": []
    },
    {
      "cell_type": "code",
      "metadata": {
        "id": "4X1o1VefAMgG",
        "outputId": "f2773ee4-a27a-491d-8ea7-2d3dc264b360"
      },
      "source": [
        "a = 1, 2, 3\n",
        "a"
      ],
      "execution_count": null,
      "outputs": [
        {
          "output_type": "execute_result",
          "data": {
            "text/plain": [
              "(1, 2, 3)"
            ]
          },
          "metadata": {
            "tags": []
          },
          "execution_count": 3
        }
      ]
    },
    {
      "cell_type": "code",
      "metadata": {
        "id": "gFpJvrrVAMgy",
        "outputId": "a9867c0d-78c6-4472-817b-64047117413b"
      },
      "source": [
        "type(a)"
      ],
      "execution_count": null,
      "outputs": [
        {
          "output_type": "execute_result",
          "data": {
            "text/plain": [
              "tuple"
            ]
          },
          "metadata": {
            "tags": []
          },
          "execution_count": 4
        }
      ]
    },
    {
      "cell_type": "markdown",
      "metadata": {
        "id": "G4cSSlA6AMg_"
      },
      "source": [
        "## Tuplas anidadas\n",
        "\n",
        "Es posible crear tuplas que tengan tuplas como elementos (anidadas)"
      ]
    },
    {
      "cell_type": "code",
      "metadata": {
        "id": "ITlJqHMAAMhC",
        "outputId": "9b152d10-93fe-4ded-9de9-ab37a689e124"
      },
      "source": [
        "tuple1 = (0, 1, 2, 3)\n",
        "tuple2 = ('A', 'B', 'C')\n",
        "tuple3 = (tuple1, tuple2)\n",
        "print(tuple3)\n",
        "print(tuple3[0])\n",
        "print(tuple3[1][0])"
      ],
      "execution_count": null,
      "outputs": [
        {
          "output_type": "stream",
          "text": [
            "((0, 1, 2, 3), ('A', 'B', 'C'))\n",
            "(0, 1, 2, 3)\n",
            "A\n"
          ],
          "name": "stdout"
        }
      ]
    },
    {
      "cell_type": "markdown",
      "metadata": {
        "id": "77kx8RZVAMhP"
      },
      "source": [
        "## Operador concatenar\n",
        "\n",
        "Concatena dos tuplas"
      ]
    },
    {
      "cell_type": "code",
      "metadata": {
        "id": "Xa76MJk1AMhR",
        "outputId": "dd68fac3-7053-454c-868e-462cea6c8f07"
      },
      "source": [
        "tup1 = ('A', 'B', 'C', 'E')\n",
        "tup2 = (1,2,3,4,5)\n",
        "tup3 = tup1 + tup2\n",
        "print(tup3)"
      ],
      "execution_count": null,
      "outputs": [
        {
          "output_type": "stream",
          "text": [
            "('A', 'B', 'C', 'E', 1, 2, 3, 4, 5)\n"
          ],
          "name": "stdout"
        }
      ]
    },
    {
      "cell_type": "markdown",
      "metadata": {
        "id": "91rKGF5MAMhe"
      },
      "source": [
        "## Operador repetir\n",
        "\n",
        "Crea una tupla con múltiples copias de una tupla, tantas como se defina:"
      ]
    },
    {
      "cell_type": "code",
      "metadata": {
        "id": "ZehTSSfAAMhg",
        "outputId": "1c808223-6eb2-40c7-864d-1a2307e45dfe"
      },
      "source": [
        "tup2 = (1,2,3,4,5)\n",
        "tup3 = tup2*3\n",
        "print(tup3)\n",
        "tup4 = ('Abc', 'Bcd')\n",
        "tup5 = tup4*2\n",
        "print(tup5)"
      ],
      "execution_count": null,
      "outputs": [
        {
          "output_type": "stream",
          "text": [
            "(1, 2, 3, 4, 5, 1, 2, 3, 4, 5, 1, 2, 3, 4, 5)\n",
            "('Abc', 'Bcd', 'Abc', 'Bcd')\n"
          ],
          "name": "stdout"
        }
      ]
    },
    {
      "cell_type": "markdown",
      "metadata": {
        "id": "fmhRyBDzAMhr"
      },
      "source": [
        "## Operador Comparar\n",
        "\n",
        "Es posible comparar dos tuplas con ==, >=, <, <=, != Se comparan de izquierda a derecha:"
      ]
    },
    {
      "cell_type": "code",
      "metadata": {
        "id": "byTmWlDiAMhv",
        "outputId": "67f8ef32-41b6-4a30-ba80-2a4438f61810"
      },
      "source": [
        "print( ('Rojas', 123) < ('Rosas', 123) )\n",
        "print( ('Rosas', 123) == ('rosas', 123) )\n",
        "print( ('Rosas', 123) > ('Rosas', 23) )"
      ],
      "execution_count": null,
      "outputs": [
        {
          "output_type": "stream",
          "text": [
            "True\n",
            "False\n",
            "True\n"
          ],
          "name": "stdout"
        }
      ]
    },
    {
      "cell_type": "code",
      "metadata": {
        "id": "pkrmeOmHAMh4",
        "outputId": "6fc873f5-96f3-459a-c6f1-1bd2ce8bbdc7"
      },
      "source": [
        "a = ('Rojas', 123)\n",
        "b = (\"Rojas\", 123)\n",
        "c = (\"Rosas\", 123)\n",
        "\n",
        "print( a == b )\n",
        "print( a == c )\n"
      ],
      "execution_count": null,
      "outputs": [
        {
          "output_type": "stream",
          "text": [
            "True\n",
            "False\n"
          ],
          "name": "stdout"
        }
      ]
    },
    {
      "cell_type": "markdown",
      "metadata": {
        "id": "IQVIu5pdAMiG"
      },
      "source": [
        "## Operador is"
      ]
    },
    {
      "cell_type": "markdown",
      "metadata": {
        "id": "mkIY7t_5AMiI"
      },
      "source": [
        "Se puede usar el operador is para determinar si dos tuplas son la misma (referencian al mismo objeto). "
      ]
    },
    {
      "cell_type": "code",
      "metadata": {
        "id": "3VmLSJ9kAMiJ",
        "outputId": "e18bf170-c0fc-406e-ee9d-6afc0acdfa21"
      },
      "source": [
        "a = ('Rojas', 123)\n",
        "b = (\"Rojas\", 123)\n",
        "c = a\n",
        "print(id(a))\n",
        "print(id(b))\n",
        "print( a == b )\n",
        "print( a is b )\n",
        "print( a == c )\n",
        "print( a is c )"
      ],
      "execution_count": null,
      "outputs": [
        {
          "output_type": "stream",
          "text": [
            "1822246202952\n",
            "1822245909448\n",
            "True\n",
            "False\n",
            "True\n",
            "True\n"
          ],
          "name": "stdout"
        }
      ]
    },
    {
      "cell_type": "markdown",
      "metadata": {
        "id": "80JrqM2IAMiV"
      },
      "source": [
        "## Operador subindice [] (subscript)"
      ]
    },
    {
      "cell_type": "markdown",
      "metadata": {
        "id": "CZ8Bm7s2AMiX"
      },
      "source": [
        "Para acceder a un valor particular de una tupla se especifica su posición con corchetes ```[]```:"
      ]
    },
    {
      "cell_type": "code",
      "metadata": {
        "id": "wOBFTpF_AMiY",
        "outputId": "f9bbb014-351e-4bee-c0dd-355a0678edc2"
      },
      "source": [
        "avengers = (\"Ironman\", \"Spiderman\", \"Ant-man\", \"Hulk\")\n",
        "print(avengers[0]) \n",
        "print(avengers[3])\n",
        "print(avengers[-1])    \n",
        "print(avengers[-3])   "
      ],
      "execution_count": null,
      "outputs": [
        {
          "output_type": "stream",
          "text": [
            "Ironman\n",
            "Hulk\n",
            "Hulk\n",
            "Spiderman\n"
          ],
          "name": "stdout"
        }
      ]
    },
    {
      "cell_type": "markdown",
      "metadata": {
        "id": "pu_pwZm0AMii"
      },
      "source": [
        "### Subtuplas\n",
        "\n",
        "Obtener una parte de la tupla [inicio:fin:incremento]"
      ]
    },
    {
      "cell_type": "code",
      "metadata": {
        "id": "8IHKN8Z-AMik",
        "outputId": "71a9c9a9-8f1b-4d33-8f3f-7245e49c2cb0"
      },
      "source": [
        "avengers[1:3]"
      ],
      "execution_count": null,
      "outputs": [
        {
          "output_type": "execute_result",
          "data": {
            "text/plain": [
              "('Spiderman', 'Ant-man')"
            ]
          },
          "metadata": {
            "tags": []
          },
          "execution_count": 17
        }
      ]
    },
    {
      "cell_type": "code",
      "metadata": {
        "id": "In55y7c2AMiv",
        "outputId": "f1572df3-57aa-4a58-d526-ae4e0a617f32"
      },
      "source": [
        "avengers[::-1]"
      ],
      "execution_count": null,
      "outputs": [
        {
          "output_type": "execute_result",
          "data": {
            "text/plain": [
              "('The Wasp', 'Thor', 'Hulk', 'Ant-man', 'Spiderman', 'Ironman')"
            ]
          },
          "metadata": {
            "tags": []
          },
          "execution_count": 8
        }
      ]
    },
    {
      "cell_type": "markdown",
      "metadata": {
        "id": "c5Ic132KAMi4"
      },
      "source": [
        "Si se intenta indexar por fuera de la tupla, se retorna una tupla vacía:"
      ]
    },
    {
      "cell_type": "code",
      "metadata": {
        "id": "pvOrHJ2LAMi6",
        "outputId": "ca1dede4-ebad-4603-e2db-13e720a3a3bc"
      },
      "source": [
        "avengers[len(avengers):len(avengers)+1]"
      ],
      "execution_count": null,
      "outputs": [
        {
          "output_type": "execute_result",
          "data": {
            "text/plain": [
              "()"
            ]
          },
          "metadata": {
            "tags": []
          },
          "execution_count": 9
        }
      ]
    },
    {
      "cell_type": "markdown",
      "metadata": {
        "id": "9P4g-ZTCAMjJ"
      },
      "source": [
        "## Consultando una tupla  (operador in)\n",
        "\n",
        "Para saber si un elemento está en una tupla se puede utilizar el operador in:"
      ]
    },
    {
      "cell_type": "code",
      "metadata": {
        "id": "1WuNJXw5AMjK",
        "outputId": "b61751be-6e0f-4db4-89d3-6ea86e8def9d"
      },
      "source": [
        "text = ('cien', 'años', 'de', 'soledad' )\n",
        "if 'años' in text:\n",
        "    print('yes')"
      ],
      "execution_count": null,
      "outputs": [
        {
          "output_type": "stream",
          "text": [
            "yes\n"
          ],
          "name": "stdout"
        }
      ]
    },
    {
      "cell_type": "markdown",
      "metadata": {
        "id": "L85s6kNMAMjT"
      },
      "source": [
        "## Iterando una tupla "
      ]
    },
    {
      "cell_type": "markdown",
      "metadata": {
        "id": "6kMi6ke9AMjU"
      },
      "source": [
        "Es posible iterar una tupla usando el ciclo for:"
      ]
    },
    {
      "cell_type": "code",
      "metadata": {
        "id": "AkVgsnn0AMjU",
        "outputId": "385a75e0-415b-4100-a090-eac984ba9ad3"
      },
      "source": [
        "s = (\"hola\", \"amigos\", \"mios\")\n",
        "for palabra in s: #para cada palabra de la tupla\n",
        "    print(palabra + \",\", end=' ')"
      ],
      "execution_count": null,
      "outputs": [
        {
          "output_type": "stream",
          "text": [
            "hola, amigos, mios, "
          ],
          "name": "stdout"
        }
      ]
    },
    {
      "cell_type": "markdown",
      "metadata": {
        "id": "zxuLCvwpAMja"
      },
      "source": [
        "## Asignando múltiples variables \n",
        "\n",
        "Es posible asignarle los valores a un grupo de variables usando la asignación y el concepto de tupla."
      ]
    },
    {
      "cell_type": "code",
      "metadata": {
        "id": "QNTSGAaGAMja",
        "outputId": "2bef5608-d851-4c9f-a573-99f82948b44c"
      },
      "source": [
        "tupla = (1, -2, 3)\n",
        "a, b, c = tupla\n",
        "print('a=', a)\n",
        "print('b=', b)\n",
        "print('c=', c)"
      ],
      "execution_count": null,
      "outputs": [
        {
          "output_type": "stream",
          "text": [
            "a= 1\n",
            "b= -2\n",
            "c= 3\n"
          ],
          "name": "stdout"
        }
      ]
    },
    {
      "cell_type": "markdown",
      "metadata": {
        "id": "L1vparWHAMj3"
      },
      "source": [
        "## Intercambiando variables\n",
        "\n",
        "Es posible intercambiar los valores de un grupo de variables usando la\n",
        "asignación y el concepto de tupla."
      ]
    },
    {
      "cell_type": "code",
      "metadata": {
        "id": "JeN6hUvPAMj5",
        "outputId": "700f30cc-6f1f-41f1-c600-b12f943be6ae"
      },
      "source": [
        "a = 1\n",
        "b = 3\n",
        "a, b = b, a\n",
        "print('a=', a)\n",
        "print('b=', b)"
      ],
      "execution_count": null,
      "outputs": [
        {
          "output_type": "stream",
          "text": [
            "a= 3\n",
            "b= 1\n"
          ],
          "name": "stdout"
        }
      ]
    },
    {
      "cell_type": "markdown",
      "metadata": {
        "id": "drV94XmIAMkH"
      },
      "source": [
        "## Tuplas y funciones\n",
        "\n",
        "Es posible retornar más de un valor en una función usando el concepto de tupla:"
      ]
    },
    {
      "cell_type": "code",
      "metadata": {
        "id": "RGdlBaHgAMkI",
        "outputId": "3a318311-571f-4d79-9617-6545e7fd3027"
      },
      "source": [
        "def minmax( a, b ):\n",
        "  if a<b:\n",
        "    return a, b\n",
        "  else:\n",
        "    return b,a\n",
        "\n",
        "x, y = minmax( 5, 13 )\n",
        "print('min=', x, 'max=', y)\n",
        "x, y = minmax( 12, -4)\n",
        "print('min=', x, 'max=', y)"
      ],
      "execution_count": null,
      "outputs": [
        {
          "output_type": "stream",
          "text": [
            "min= 5 max= 13\n",
            "min= -4 max= 12\n"
          ],
          "name": "stdout"
        }
      ]
    },
    {
      "cell_type": "markdown",
      "metadata": {
        "id": "7YP_5LtnAMkT"
      },
      "source": [
        "## Métodos de tuplas"
      ]
    },
    {
      "cell_type": "markdown",
      "metadata": {
        "id": "Mk5BZ_EZAMkW"
      },
      "source": [
        "Longitud (dimensión) de la tupla: "
      ]
    },
    {
      "cell_type": "code",
      "metadata": {
        "id": "wrZSPENGAMkX",
        "outputId": "628be55a-5a2d-43d7-d417-05764b61078d"
      },
      "source": [
        "tup = (1,2,3,4)\n",
        "nombre = (\"Minch\", \"Yoda\")\n",
        "trabajo = (\"Stars\", \"War\", \"Movie\")\n",
        "print(len(tup))\n",
        "print(len(nombre))\n",
        "print(len(trabajo))"
      ],
      "execution_count": null,
      "outputs": [
        {
          "output_type": "stream",
          "text": [
            "4\n",
            "2\n",
            "3\n"
          ],
          "name": "stdout"
        }
      ]
    },
    {
      "cell_type": "markdown",
      "metadata": {
        "id": "KQK42BbgAMkf"
      },
      "source": [
        "## Contando\n",
        "\n",
        "El método count obtiene las veces que un elemento se encuentra en una tupla."
      ]
    },
    {
      "cell_type": "code",
      "metadata": {
        "id": "V2uRLWNLAMkg",
        "outputId": "72662200-3cee-47b4-db31-12682a803b5d"
      },
      "source": [
        "tupla = (4, 3, 8, 8, 2, 5, 4, 6, 8, 9)\n",
        "print(tupla.count(2))\n",
        "print(tupla.count(8))\n",
        "print(tupla.count(5))"
      ],
      "execution_count": null,
      "outputs": [
        {
          "output_type": "stream",
          "text": [
            "1\n",
            "3\n",
            "1\n"
          ],
          "name": "stdout"
        }
      ]
    },
    {
      "cell_type": "markdown",
      "metadata": {
        "id": "OYygv1XwAMku"
      },
      "source": [
        "## Buscando \n",
        "\n",
        "El método index obtiene la primera ocurrencia de un elemento en una tupla."
      ]
    },
    {
      "cell_type": "code",
      "metadata": {
        "id": "vMVy-7HQAMkv",
        "outputId": "60d8fa1e-8417-4b19-c803-9303fa95f245"
      },
      "source": [
        "tupla = (4, 3, 8, 8, 2, 5, 4, 6, 8, 9)\n",
        "print(tupla.index(2))\n",
        "print(tupla.index(8))\n",
        "print(tupla.index(5))"
      ],
      "execution_count": null,
      "outputs": [
        {
          "output_type": "stream",
          "text": [
            "4\n",
            "2\n",
            "5\n"
          ],
          "name": "stdout"
        }
      ]
    },
    {
      "cell_type": "markdown",
      "metadata": {
        "id": "CVjVgV4OAMk3"
      },
      "source": [
        "## Máximo y mínimo (max, min) \n",
        "\n",
        "El método max/min obtiene el maximo/mínimo elemento de una tupla.\n"
      ]
    },
    {
      "cell_type": "code",
      "metadata": {
        "id": "p_Gxw62DAMk4"
      },
      "source": [
        "t = (4,5,-1,6,7) "
      ],
      "execution_count": null,
      "outputs": []
    },
    {
      "cell_type": "code",
      "metadata": {
        "id": "3_lnWDp8AMlA",
        "outputId": "898092a9-812b-4267-f6cb-1e6cf4817b7e"
      },
      "source": [
        "max(t)"
      ],
      "execution_count": null,
      "outputs": [
        {
          "output_type": "execute_result",
          "data": {
            "text/plain": [
              "7"
            ]
          },
          "metadata": {
            "tags": []
          },
          "execution_count": 59
        }
      ]
    },
    {
      "cell_type": "code",
      "metadata": {
        "id": "GJjfkdq0AMlK",
        "outputId": "700388f3-875e-406b-ece1-f59fabf006fe"
      },
      "source": [
        "min(t)"
      ],
      "execution_count": null,
      "outputs": [
        {
          "output_type": "execute_result",
          "data": {
            "text/plain": [
              "-1"
            ]
          },
          "metadata": {
            "tags": []
          },
          "execution_count": 60
        }
      ]
    },
    {
      "cell_type": "code",
      "metadata": {
        "id": "h09SHRw3AMlO"
      },
      "source": [
        "t = (4,-1,4.0,-2)"
      ],
      "execution_count": null,
      "outputs": []
    },
    {
      "cell_type": "code",
      "metadata": {
        "id": "aUxSPyj2AMlT",
        "outputId": "7bc7859e-f28c-4f54-e626-b398db527f81"
      },
      "source": [
        "max(t)"
      ],
      "execution_count": null,
      "outputs": [
        {
          "output_type": "execute_result",
          "data": {
            "text/plain": [
              "4"
            ]
          },
          "metadata": {
            "tags": []
          },
          "execution_count": 32
        }
      ]
    },
    {
      "cell_type": "code",
      "metadata": {
        "id": "vtTkNJ7KAMlc",
        "outputId": "edffd8a7-bafe-418b-cf52-2e8bd7a5c886"
      },
      "source": [
        "t = (4.0,-1,4,-2)\n",
        "max(t)"
      ],
      "execution_count": null,
      "outputs": [
        {
          "output_type": "execute_result",
          "data": {
            "text/plain": [
              "4.0"
            ]
          },
          "metadata": {
            "tags": []
          },
          "execution_count": 13
        }
      ]
    },
    {
      "cell_type": "code",
      "metadata": {
        "id": "qroN0hpHAMlg",
        "outputId": "51f26386-0a85-4336-fba0-045a89d575d2"
      },
      "source": [
        "tup1 = ('alice', 'bob', 'zorg')\n",
        "max(tup1)"
      ],
      "execution_count": null,
      "outputs": [
        {
          "output_type": "execute_result",
          "data": {
            "text/plain": [
              "'zorg'"
            ]
          },
          "metadata": {
            "tags": []
          },
          "execution_count": 61
        }
      ]
    },
    {
      "cell_type": "code",
      "metadata": {
        "id": "WoPpHo9LAMlj",
        "outputId": "dc505219-8498-4743-861a-e54156a89f1c"
      },
      "source": [
        "min(tup1)"
      ],
      "execution_count": null,
      "outputs": [
        {
          "output_type": "execute_result",
          "data": {
            "text/plain": [
              "'alice'"
            ]
          },
          "metadata": {
            "tags": []
          },
          "execution_count": 35
        }
      ]
    },
    {
      "cell_type": "markdown",
      "metadata": {
        "id": "VEdDnukSAMlu"
      },
      "source": [
        "## De cadena a tupla\n",
        "\n",
        "El método tuple se usa para crear tuplas a partir de otros objetos, aquí se usa para convertir una cadena de carácteres a tupla."
      ]
    },
    {
      "cell_type": "code",
      "metadata": {
        "id": "7I6C5JQUAMlw",
        "outputId": "584e84f3-715a-4207-ba8d-69d8ed0aaf22"
      },
      "source": [
        "magician = 'Dumbledore'\n",
        "tm = tuple(magician) \n",
        "print(tm)"
      ],
      "execution_count": null,
      "outputs": [
        {
          "output_type": "stream",
          "text": [
            "('D', 'u', 'm', 'b', 'l', 'e', 'd', 'o', 'r', 'e')\n"
          ],
          "name": "stdout"
        }
      ]
    },
    {
      "cell_type": "markdown",
      "metadata": {
        "id": "Az6LaL7SAMl3"
      },
      "source": [
        "## La palabra del"
      ]
    },
    {
      "cell_type": "markdown",
      "metadata": {
        "id": "3cG5W71bAMl5"
      },
      "source": [
        "```del``` se puede utilizar para eliminar una tupla del notebook"
      ]
    },
    {
      "cell_type": "code",
      "metadata": {
        "id": "5hrHJlWlAMl-"
      },
      "source": [
        "del(tm)\n",
        "#tm"
      ],
      "execution_count": null,
      "outputs": []
    },
    {
      "cell_type": "markdown",
      "metadata": {
        "id": "iYJeNzq6AMmL"
      },
      "source": [
        "## Desempacar (unpacking) de variables\n",
        "\n",
        "Una forma rápida de desempacar y asignar variables de una tupla es la siguiente:"
      ]
    },
    {
      "cell_type": "code",
      "metadata": {
        "id": "qOTVXCCdAMmP",
        "outputId": "e9c90234-6beb-4d7d-a781-52d1d047d135"
      },
      "source": [
        "\n",
        "tup1 = (1, 2, 3)\n",
        "a, b, c = tup1\n",
        "print('a:', a, 'b:', b, 'c:', c)\n",
        "#Si se intentan obtener más valores de los que tiene la tupla se obtendrá el error: ```ValueError```\n",
        "tup1 = (5,6)\n",
        "#a,b,c = tup1 #ValueError!"
      ],
      "execution_count": null,
      "outputs": [
        {
          "output_type": "stream",
          "text": [
            "a: 1 b: 2 c: 3\n"
          ],
          "name": "stdout"
        }
      ]
    },
    {
      "cell_type": "markdown",
      "metadata": {
        "id": "v_1SX4S_AMmb"
      },
      "source": [
        "## La función ```map(function, tuple|list)```"
      ]
    },
    {
      "cell_type": "markdown",
      "metadata": {
        "id": "j9_ZGO6cAMme"
      },
      "source": [
        "Ejecuta una función para cada uno de los valores de una tupla o una lista. Un truco muy usado es leer todos los valores de una tupla en una sola línea:"
      ]
    },
    {
      "cell_type": "code",
      "metadata": {
        "id": "46F3fZYEAMmh",
        "outputId": "54466c1b-b523-4442-fe63-5a1758e99560"
      },
      "source": [
        "t = tuple(map(int, input().split(' '))) #digite por ejemplo 1 2 3\n",
        "print(t) \n",
        "print(t[0] + t[1])"
      ],
      "execution_count": null,
      "outputs": [
        {
          "output_type": "stream",
          "text": [
            "1 2 3\n",
            "(1, 2, 3)\n",
            "3\n"
          ],
          "name": "stdout"
        }
      ]
    },
    {
      "cell_type": "markdown",
      "metadata": {
        "id": "Od_OLXl3AMms"
      },
      "source": [
        "## Ejercicio 1\n",
        "\n",
        "Obtener por código el elemento 20 de la siguiente tupla:\n",
        "\n"
      ]
    },
    {
      "cell_type": "code",
      "metadata": {
        "id": "KwB1_1OeAMmt"
      },
      "source": [
        "aTuple = (\"Naranjita\", [10, 20, 30], (5, 15, 25))"
      ],
      "execution_count": null,
      "outputs": []
    },
    {
      "cell_type": "code",
      "metadata": {
        "id": "4XUWYXLiAMm2"
      },
      "source": [
        ""
      ],
      "execution_count": null,
      "outputs": []
    },
    {
      "cell_type": "markdown",
      "metadata": {
        "id": "70vAQM0vAMm7"
      },
      "source": [
        "## Ejercicio 2\n",
        "\n",
        "Dados dos números enteros construya una función que retorne al mismo tiempo el cociente y el residuo de la división utilizando tuplas:\n",
        "\n",
        "<table>\n",
        "    <tr>\n",
        "    <td>input</td><td>output</td>\n",
        "    <tr>\n",
        "    <tr>\n",
        "    <td>10<br>3</td><td>cociente: 3<br>residuo: 1</td>\n",
        "    <tr>\n",
        "<table>"
      ]
    },
    {
      "cell_type": "code",
      "metadata": {
        "id": "WQgCdOOxAMm9"
      },
      "source": [
        ""
      ],
      "execution_count": null,
      "outputs": []
    },
    {
      "cell_type": "markdown",
      "metadata": {
        "id": "Iw8vYZRfAMnD"
      },
      "source": [
        "## Ejercicio 3 - Distancia entre dos puntos\n",
        "\n",
        "Utilizando tuplas elabore una función que retorne la distancia entre dos puntos $p$ y $q$ definidos en un espacio de 3 dimensiones:\n",
        "\n",
        "La distancia corresponde a aplicar: $d = \\sqrt{(x_2-x_1)^2 + (y_2-y_1)^2 + (z_2-z_1)^2}$ \n",
        "\n",
        "\n",
        "![](https://github.com/arleserp/MinTIC2022/blob/master/images/3dpoints.gif?raw=1)\n",
        "\n",
        "### Entrada\n",
        "La entrada corresponde a los valores de cada una de las coordenadas x, y, z de cada punto:\n",
        "\n",
        "### Salida\n",
        "Un único valor correspondiente a la distancia entre los dos puntos.\n",
        "\n",
        "<table>\n",
        "    <tr>\n",
        "        <td>Input</td><td>output</td>\n",
        "    </tr>\n",
        "    <tr>\n",
        "        <td>0 1 1<br>-1 -1 4</td><td>3.7416573867739413</td>\n",
        "    </tr>\n",
        "    \n",
        "Para una mayor referencia puede consultar [distancias en el espacio](https://www.vadenumeros.es/segundo/distancias-en-el-espacio.htm)"
      ]
    },
    {
      "cell_type": "code",
      "metadata": {
        "id": "guGmkSbpAMnE"
      },
      "source": [
        ""
      ],
      "execution_count": null,
      "outputs": []
    },
    {
      "cell_type": "markdown",
      "metadata": {
        "id": "nXy3rE7DAMnM"
      },
      "source": [
        "# Referencias:\n",
        "\n",
        "https://www.geeksforgeeks.org/tuples-in-python/\n",
        "\n",
        "Das, B. N. (2017). Learn Python in 7 Days. Packt Publishing Ltd.\n",
        "\n",
        "[https://www.wolframalpha.com](https://www.wolframalpha.com/input/?i=distance+between+two+points&assumption=%7B%22MC%22%2C+%22%22%7D+-%3E+%7B%22Calculator%22%7D&assumption=%7B%22F%22%2C+%22DistanceCalculator%22%2C+%22point1%22%7D+-%3E%22%7B0%2C+1%2C+1%7D%22&assumption=%7B%22F%22%2C+%22DistanceCalculator%22%2C+%22point2%22%7D+-%3E%22%7B-1%2C+-1%2C+4%7D%22)\n",
        "\n",
        "https://www.vadenumeros.es/segundo/distancias-en-el-espacio.htm\n",
        "\n",
        "Gomez, J, Rodriguez A y Cubides C. La ciencia de Programar. Universidad Nacional de Colombia.\n",
        "\n",
        "Rodríguez, A (2020). Curso de Programación en Python. https://github.com/arleserp/cursopython"
      ]
    }
  ]
}