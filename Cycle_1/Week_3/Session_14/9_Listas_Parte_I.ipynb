{
  "nbformat": 4,
  "nbformat_minor": 0,
  "metadata": {
    "kernelspec": {
      "display_name": "Python 3",
      "language": "python",
      "name": "python3"
    },
    "language_info": {
      "codemirror_mode": {
        "name": "ipython",
        "version": 3
      },
      "file_extension": ".py",
      "mimetype": "text/x-python",
      "name": "python",
      "nbconvert_exporter": "python",
      "pygments_lexer": "ipython3",
      "version": "3.7.3"
    },
    "colab": {
      "name": "9-Listas Parte I.ipynb",
      "provenance": []
    }
  },
  "cells": [
    {
      "cell_type": "markdown",
      "metadata": {
        "id": "yuu6KhayAl-z"
      },
      "source": [
        "## Listas\n",
        "\n",
        "Una lista es una secuencia de elementos que puede almacenar datos heterogeneos tales como: float, strings, tuplas, listas y diccionarios. Una lista se escribe como la secuencia de datos a mantener, separados por una coma y delimitada por los paréntesis cuadrados. A diferencia de las cadenas de carácter y las tuplas, las listas son mutables, esto es, se pueden modificar después de definidas.\n",
        "\n",
        "A diferencia de las cadenas de carácter y las tuplas, las listas son mutables, esto es, se pueden modificar después de definidas.\n",
        "\n",
        "Una lista puede entenderse como una colección indexada de objetos. A cada elemento le corresponde una posición. Una lista puede almacenar objetos de diferente tipo en la misma estructura. Es posible también añadir, remover, o cambiar objetos. Esto quiere decir que las listas son mutables."
      ]
    },
    {
      "cell_type": "code",
      "metadata": {
        "id": "dB8Wp02KAl-1",
        "outputId": "a2e2cc07-bf8c-4f55-df7f-9e506a268f9d"
      },
      "source": [
        "#Así se crea una lista vacía\n",
        "lis = []\n",
        "print(lis)"
      ],
      "execution_count": null,
      "outputs": [
        {
          "output_type": "stream",
          "text": [
            "[]\n"
          ],
          "name": "stdout"
        }
      ]
    },
    {
      "cell_type": "code",
      "metadata": {
        "id": "-HhbwJnhAl_D",
        "outputId": "3b4ce3b1-7225-4f6b-f6aa-4a2f6e4513b1"
      },
      "source": [
        "#Una lista con un elemento\n",
        "list2 = [\"Este es un elemento\"]\n",
        "print(list2)"
      ],
      "execution_count": null,
      "outputs": [
        {
          "output_type": "stream",
          "text": [
            "['Este es un elemento']\n"
          ],
          "name": "stdout"
        }
      ]
    },
    {
      "cell_type": "markdown",
      "metadata": {
        "id": "PgF_YfioAl_L"
      },
      "source": [
        "Para crear una lista, se almacenan los valores separados por comas:"
      ]
    },
    {
      "cell_type": "code",
      "metadata": {
        "id": "OKaAldHcAl_M",
        "outputId": "854d5ea8-8c1d-4fe8-d60c-b8792e891770"
      },
      "source": [
        "lista3 = [1, 2, 3, 4.6, 'hola', 'a'] #una lista de 6 elementos\n",
        "print(lista3)"
      ],
      "execution_count": null,
      "outputs": [
        {
          "output_type": "stream",
          "text": [
            "[1, 2, 3, 4.6, 'hola', 'a']\n"
          ],
          "name": "stdout"
        }
      ]
    },
    {
      "cell_type": "code",
      "metadata": {
        "id": "b-aVp7dJAl_f",
        "outputId": "fa8acfcd-7046-4c0b-9fdd-e088fe0def1d"
      },
      "source": [
        "type(lista3)"
      ],
      "execution_count": null,
      "outputs": [
        {
          "output_type": "execute_result",
          "data": {
            "text/plain": [
              "list"
            ]
          },
          "metadata": {
            "tags": []
          },
          "execution_count": 11
        }
      ]
    },
    {
      "cell_type": "markdown",
      "metadata": {
        "id": "sBO6ytY0Al_y"
      },
      "source": [
        "## Listas anidadas (Listas de listas)\n",
        "\n",
        "Es posible crear listas que tengan listas como elementos (anidadas):"
      ]
    },
    {
      "cell_type": "code",
      "metadata": {
        "id": "kH_em--1Al_z",
        "outputId": "607c582b-f8ab-4c28-da5c-ec0811f9dca0"
      },
      "source": [
        "lista1 = [0, 1, 2, 3]\n",
        "lista2 = ['A', 'B', 'C']\n",
        "lista3 = [lista1, lista2]\n",
        "print(lista3)\n",
        "print(lista3[0])\n",
        "print(lista3[1][0])"
      ],
      "execution_count": null,
      "outputs": [
        {
          "output_type": "stream",
          "text": [
            "[[0, 1, 2, 3], ['A', 'B', 'C']]\n",
            "[0, 1, 2, 3]\n",
            "A\n"
          ],
          "name": "stdout"
        }
      ]
    },
    {
      "cell_type": "markdown",
      "metadata": {
        "id": "keJ5osD4Al_9"
      },
      "source": [
        "## Operador concatenar\n",
        "\n",
        "Concatena dos listas produciendo una nueva."
      ]
    },
    {
      "cell_type": "code",
      "metadata": {
        "id": "pqDMCcMuAl_-",
        "outputId": "323e8f6b-160c-48a2-a6b5-1239ce13949e"
      },
      "source": [
        "list1 = ['A', 'B', 'C', 'E']\n",
        "list2 = [1,2,3,4,5]\n",
        "list3 = list1 + list2\n",
        "print(list3)"
      ],
      "execution_count": null,
      "outputs": [
        {
          "output_type": "stream",
          "text": [
            "['A', 'B', 'C', 'E', 1, 2, 3, 4, 5]\n"
          ],
          "name": "stdout"
        }
      ]
    },
    {
      "cell_type": "markdown",
      "metadata": {
        "id": "vqwBCxPQAmAG"
      },
      "source": [
        "## Operador extender\n",
        "\n",
        "El método `extend` agrega una lista al final de otra lista. "
      ]
    },
    {
      "cell_type": "code",
      "metadata": {
        "id": "nvPhgfxGAmAI",
        "outputId": "f883f254-5d0b-415f-a506-5a9c5fc6884d"
      },
      "source": [
        "nombres = ['Antonio', 'María', 'Mabel']\n",
        "otros_nombres = ['Barry', 'John', 'Guttag']\n",
        "nombres.extend(otros_nombres)\n",
        "print(nombres)"
      ],
      "execution_count": null,
      "outputs": [
        {
          "output_type": "stream",
          "text": [
            "['Antonio', 'María', 'Mabel', 'Barry', 'John', 'Guttag']\n"
          ],
          "name": "stdout"
        }
      ]
    },
    {
      "cell_type": "markdown",
      "metadata": {
        "id": "P97x2vQ1AmAR"
      },
      "source": [
        "## Operador repetir\n",
        "\n",
        "Crea una tupla con múltiples copias de una lista, tantas como se defina:"
      ]
    },
    {
      "cell_type": "code",
      "metadata": {
        "id": "yMRzfGd1AmAT",
        "outputId": "0e20804f-257d-4132-df60-79c2d37772a2"
      },
      "source": [
        "list2 = [1,2,3,4,5]\n",
        "list3 = list2*3\n",
        "print(list3)\n",
        "list4 = ['Abc', 'Bcd']\n",
        "list5 = list4*2\n",
        "print(list5)"
      ],
      "execution_count": null,
      "outputs": [
        {
          "output_type": "stream",
          "text": [
            "[1, 2, 3, 4, 5, 1, 2, 3, 4, 5, 1, 2, 3, 4, 5]\n",
            "['Abc', 'Bcd', 'Abc', 'Bcd']\n"
          ],
          "name": "stdout"
        }
      ]
    },
    {
      "cell_type": "markdown",
      "metadata": {
        "id": "sSvNpEFLAmAb"
      },
      "source": [
        "## Operador Comparar\n",
        "\n",
        "Es posible comparar dos tuplas con ==, >=, <, <=, != Se comparan de izquierda a derecha:"
      ]
    },
    {
      "cell_type": "code",
      "metadata": {
        "id": "2LLiK6RAAmAe",
        "outputId": "2c74bb9b-dfc7-4ee0-87b8-3d6cd82435db"
      },
      "source": [
        "print( ['Rojas', 123] < ['Rosas', 123] )\n",
        "print( ['Rosas', 123] == ['rosas', 123] )\n",
        "print( ['Rosas', 123] > ['Rosas', 23] )"
      ],
      "execution_count": null,
      "outputs": [
        {
          "output_type": "stream",
          "text": [
            "True\n",
            "False\n",
            "True\n"
          ],
          "name": "stdout"
        }
      ]
    },
    {
      "cell_type": "code",
      "metadata": {
        "id": "QowiNCnMAmAk",
        "outputId": "53bfc47f-402a-46f5-ec1e-8c278793b81c"
      },
      "source": [
        "a = ['Rojas', 123]\n",
        "b = [\"Rojas\", 123]\n",
        "c = [\"Rosas\", 123]\n",
        "\n",
        "print( a == b )\n",
        "print( a == c )\n"
      ],
      "execution_count": null,
      "outputs": [
        {
          "output_type": "stream",
          "text": [
            "True\n",
            "False\n"
          ],
          "name": "stdout"
        }
      ]
    },
    {
      "cell_type": "markdown",
      "metadata": {
        "id": "6n4DK9RcAmA4"
      },
      "source": [
        "Se puede usar el operador `is` para determinar si dos tuplas son la misma (referencian al mismo objeto). Para el programa"
      ]
    },
    {
      "cell_type": "code",
      "metadata": {
        "id": "HpTyibGZAmA5",
        "outputId": "c65e97c0-8fb6-4731-f893-c4d26ab0f94f"
      },
      "source": [
        "a = ['Rojas', 123]\n",
        "b = [\"Rojas\", 123]\n",
        "c = a\n",
        "print( a == b )\n",
        "print( a is b )\n",
        "print( a == c )\n",
        "print( a is c )"
      ],
      "execution_count": null,
      "outputs": [
        {
          "output_type": "stream",
          "text": [
            "True\n",
            "False\n",
            "True\n",
            "True\n"
          ],
          "name": "stdout"
        }
      ]
    },
    {
      "cell_type": "markdown",
      "metadata": {
        "id": "m28MgCiBAmBC"
      },
      "source": [
        "## Operador subindice [] (subscript)\n",
        "\n",
        "Para acceder a un valor particular de una tupla se especifica su posición con corchetes []:"
      ]
    },
    {
      "cell_type": "code",
      "metadata": {
        "id": "BAhEzvt6AmBD",
        "outputId": "c5e264bd-8e62-49e3-d10b-19db2b4b05bf"
      },
      "source": [
        "avengers = [\"Ironman\", \"Spiderman\", \"Ant-man\", \"Hulk\"]\n",
        "print(avengers[0]) \n",
        "print(avengers[3])\n",
        "print(avengers[-1])    \n",
        "print(avengers[-3]) "
      ],
      "execution_count": null,
      "outputs": [
        {
          "output_type": "stream",
          "text": [
            "Ironman\n",
            "Hulk\n",
            "Hulk\n",
            "Spiderman\n"
          ],
          "name": "stdout"
        }
      ]
    },
    {
      "cell_type": "markdown",
      "metadata": {
        "id": "9HjWomHAAmBI"
      },
      "source": [
        "## Consultando una lista\n",
        "\n",
        "Es posible determinar si un elemento se encuentra en una lista."
      ]
    },
    {
      "cell_type": "code",
      "metadata": {
        "id": "JUZO_8OyAmBJ",
        "outputId": "5630e299-3ee6-4b54-ec9c-e6c43a1e3a96"
      },
      "source": [
        "text = ['cien', 'años', 'de', 'soledad']\n",
        "if 'años' in text:\n",
        "  print('yes')"
      ],
      "execution_count": null,
      "outputs": [
        {
          "output_type": "stream",
          "text": [
            "yes\n"
          ],
          "name": "stdout"
        }
      ]
    },
    {
      "cell_type": "markdown",
      "metadata": {
        "id": "4hOJgaB2AmBP"
      },
      "source": [
        "Es posible determinar si un elemento no se encuentra en una lista."
      ]
    },
    {
      "cell_type": "code",
      "metadata": {
        "id": "JsNUuRVoAmBQ",
        "outputId": "324e7f35-e094-45bb-cc2c-a1fe39bbabb9"
      },
      "source": [
        "text = ['cien', 'años', 'de', 'soledad']\n",
        "if 'sien' not in text:\n",
        "    print('No esta en la lista')\n",
        "else:   \n",
        "    print('Esta en la lista')"
      ],
      "execution_count": null,
      "outputs": [
        {
          "output_type": "stream",
          "text": [
            "No esta en la lista\n"
          ],
          "name": "stdout"
        }
      ]
    },
    {
      "cell_type": "markdown",
      "metadata": {
        "id": "TedCG3KjAmBU"
      },
      "source": [
        "## Iterando una lista \n",
        "\n",
        "Es posible iterar una lista usando el ciclo `for`:"
      ]
    },
    {
      "cell_type": "code",
      "metadata": {
        "id": "QpSuv-cqAmBV",
        "outputId": "891f8f9d-efbb-4e12-80a1-3ce41924a3b0"
      },
      "source": [
        "s = [\"hola\", \"amigos\", \"mios\"]\n",
        "for palabra in s:  #para cada palabra de la lista\n",
        "    print(palabra + \",\", end=' ')"
      ],
      "execution_count": null,
      "outputs": [
        {
          "output_type": "stream",
          "text": [
            "hola, amigos, mios, "
          ],
          "name": "stdout"
        }
      ]
    },
    {
      "cell_type": "markdown",
      "metadata": {
        "id": "2Nxa_GdxAmBb"
      },
      "source": [
        "## Creando una lista (comprehension lists)\n",
        "\n",
        "Es posible asignarle una lista a una variable usando la asignación, el ciclo `for` y el concepto de lista."
      ]
    },
    {
      "cell_type": "code",
      "metadata": {
        "id": "E6mcTHN8AmBf",
        "outputId": "8204bb4b-d974-4d42-946c-d7f6f14eb7b6"
      },
      "source": [
        "d = 10\n",
        "desplaza = [d+x for x in range(5)]\n",
        "print(desplaza)\n",
        "potencias = [3 ** x for x in range(2,6)]\n",
        "print(potencias)"
      ],
      "execution_count": null,
      "outputs": [
        {
          "output_type": "stream",
          "text": [
            "[10, 11, 12, 13, 14]\n",
            "[9, 27, 81, 243]\n"
          ],
          "name": "stdout"
        }
      ]
    },
    {
      "cell_type": "markdown",
      "metadata": {
        "id": "DBbrNx8DAmBu"
      },
      "source": [
        "## Asignando múltiples valores desde una lista\n",
        "\n",
        "Es posible asignarle los valores a un grupo de variables usando la asignación y el concepto de lista (desempacando)."
      ]
    },
    {
      "cell_type": "code",
      "metadata": {
        "id": "NGMvVa4DAmBw",
        "outputId": "a4640ef2-73da-4d5c-99cf-f3e6b1f5fb5d"
      },
      "source": [
        "lista = [1, -2, 3]\n",
        "a, b, c = lista\n",
        "print('a=', a)\n",
        "print('b=', b)\n",
        "print('c=', c)"
      ],
      "execution_count": null,
      "outputs": [
        {
          "output_type": "stream",
          "text": [
            "a= 1\n",
            "b= -2\n",
            "c= 3\n"
          ],
          "name": "stdout"
        }
      ]
    },
    {
      "cell_type": "markdown",
      "metadata": {
        "id": "JQxLfDCvAmB1"
      },
      "source": [
        " Es posible asignar los valores de un grupo de variables usando la asignación, el ciclo \\verb|for| y el concepto de lista."
      ]
    },
    {
      "cell_type": "code",
      "metadata": {
        "id": "Ure80n0pAmB2",
        "outputId": "310ff3de-26c2-47a7-e827-936cf1066bbc"
      },
      "source": [
        "lista = [11, 9, -2, 3, 8, 5]  \n",
        "var1, var2, var3 = [lista[i] for i in (1, 3, 5)] \n",
        "print(\"var1 =\",var1,\",var2 =\",var2,\",var3 =\",var3)\n",
        "var1, var2, var3 = [lista[i] for i in range(0,6,2)] \n",
        "print(\"var1 =\",var1,\",var2 =\",var2,\",var3 =\",var3)"
      ],
      "execution_count": null,
      "outputs": [
        {
          "output_type": "stream",
          "text": [
            "var1 = 9 ,var2 = 3 ,var3 = 5\n",
            "var1 = 11 ,var2 = -2 ,var3 = 8\n"
          ],
          "name": "stdout"
        }
      ]
    },
    {
      "cell_type": "markdown",
      "metadata": {
        "id": "SxKV3ZkXAmB7"
      },
      "source": [
        "## Listas y funciones\n",
        "\n",
        "Es posible retornar más de un valor en una función usando el concepto de lista."
      ]
    },
    {
      "cell_type": "code",
      "metadata": {
        "id": "Mp-ZaGs6AmB8",
        "outputId": "69b2cbc2-b79a-45d4-fcfe-074b412f93c7"
      },
      "source": [
        " def minmax( a, b ):\n",
        "    if a<b:\n",
        "        return [a, b]\n",
        "    else:\n",
        "        return [b,a]\n",
        "x, y = minmax( 5, 13 )\n",
        "print('min=', x, 'max=', y)\n",
        "x = minmax( 12, -4)\n",
        "print('min=', x[0], 'max=', x[1])"
      ],
      "execution_count": null,
      "outputs": [
        {
          "output_type": "stream",
          "text": [
            "min= 5 max= 13\n",
            "min= -4 max= 12\n"
          ],
          "name": "stdout"
        }
      ]
    },
    {
      "cell_type": "markdown",
      "metadata": {
        "id": "mYNOv-mSAmCC"
      },
      "source": [
        "## Longitud `len`"
      ]
    },
    {
      "cell_type": "markdown",
      "metadata": {
        "id": "fE5yUr4JAmCD"
      },
      "source": [
        "La función `len` determina la dimensión (longitud) de una lista. "
      ]
    },
    {
      "cell_type": "code",
      "metadata": {
        "id": "Nv9b4CRCAmCE",
        "outputId": "d368c465-217d-457d-e99d-6366f26b6677"
      },
      "source": [
        "lista = [1,2,3,4]\n",
        "nombre = [\"Minch\", \"Yoda\"]\n",
        "trabajo = [\"Stars\", \"War\", \"Movie\"]\n",
        "print(len(lista))   \n",
        "print(len(nombre))\n",
        "print(len(trabajo))"
      ],
      "execution_count": null,
      "outputs": [
        {
          "output_type": "stream",
          "text": [
            "4\n",
            "2\n",
            "3\n"
          ],
          "name": "stdout"
        }
      ]
    },
    {
      "cell_type": "markdown",
      "metadata": {
        "id": "foiAbMv7AmCI"
      },
      "source": [
        "## Cambiando elementos"
      ]
    },
    {
      "cell_type": "markdown",
      "metadata": {
        "id": "XYOk7u7mAmCM"
      },
      "source": [
        "Es posible cambiar un elemento en una posición de una lista."
      ]
    },
    {
      "cell_type": "code",
      "metadata": {
        "id": "-a6AXQpwAmCQ",
        "outputId": "912fe192-ebe8-4399-925d-42ea029d0a2e"
      },
      "source": [
        "lista = ['E', 'l', 'm', 'e', 'j', 'o', 'r']\n",
        "lista[0] = 'e'\n",
        "print(lista)\n",
        "lista[4] = 'l'\n",
        "print(lista)\n",
        "lista[-1] = 's'\n",
        "print(lista)"
      ],
      "execution_count": null,
      "outputs": [
        {
          "output_type": "stream",
          "text": [
            "['e', 'l', 'm', 'e', 'j', 'o', 'r']\n",
            "['e', 'l', 'm', 'e', 'l', 'o', 'r']\n",
            "['e', 'l', 'm', 'e', 'l', 'o', 's']\n"
          ],
          "name": "stdout"
        }
      ]
    },
    {
      "cell_type": "markdown",
      "metadata": {
        "id": "BwurPZmvAmCX"
      },
      "source": [
        "## Agregando elementos `append` \n",
        "\n",
        "El método `append` permite agregar elementos al final de una lista."
      ]
    },
    {
      "cell_type": "code",
      "metadata": {
        "id": "MY4Ql0SHAmCY",
        "outputId": "c85c9f21-336e-4b6f-9f6e-9a92f67a65ac"
      },
      "source": [
        "nombres = ['Antonio', 'Johan']\n",
        "nombres.append('Monica')\n",
        "print(nombres)\n",
        "nombres.append('Maria')\n",
        "print(nombres)\n",
        "nombres.append('Mabel')\n",
        "print(nombres)"
      ],
      "execution_count": null,
      "outputs": [
        {
          "output_type": "stream",
          "text": [
            "['Antonio', 'Johan', 'Monica']\n",
            "['Antonio', 'Johan', 'Monica', 'Maria']\n",
            "['Antonio', 'Johan', 'Monica', 'Maria', 'Mabel']\n"
          ],
          "name": "stdout"
        }
      ]
    },
    {
      "cell_type": "markdown",
      "metadata": {
        "id": "Yq8OCa80AmCh"
      },
      "source": [
        "## Insertando elementos `insert`\n",
        "\n",
        "El método `insert` permite insertar (agregar) elementos en una posición específica de una lista."
      ]
    },
    {
      "cell_type": "code",
      "metadata": {
        "id": "I-ak0Y-FAmCj",
        "outputId": "e7b0fdce-75ea-4766-aae8-e439d00de09b"
      },
      "source": [
        "nombres = ['Antonio', 'Johan', 'Maria']\n",
        "nombres.insert(0, 'Guttag')\n",
        "print(nombres)\n",
        "nombres.insert(2, 'Peter')\n",
        "print(nombres)\n",
        "nombres.insert(len(nombres)//2, 10)\n",
        "print(nombres)"
      ],
      "execution_count": null,
      "outputs": [
        {
          "output_type": "stream",
          "text": [
            "['Guttag', 'Antonio', 'Johan', 'Maria']\n",
            "['Guttag', 'Antonio', 'Peter', 'Johan', 'Maria']\n",
            "['Guttag', 'Antonio', 10, 'Peter', 'Johan', 'Maria']\n"
          ],
          "name": "stdout"
        }
      ]
    },
    {
      "cell_type": "markdown",
      "metadata": {
        "id": "FHneQVVsAmCq"
      },
      "source": [
        "## Eliminando elementos `remove`\n",
        "\n",
        "El método `remove` permite eliminar la primera aparición (de izquierda a derecha) de un elemento de una lista."
      ]
    },
    {
      "cell_type": "code",
      "metadata": {
        "id": "UyOFwaCTAmCr",
        "outputId": "72b81a2f-5c1a-4dd7-d8f8-fb8f07e91f2a"
      },
      "source": [
        "lista = ['a', 'e', 'i', 'o', 'u', 'i', 'x']\n",
        "print(lista)\n",
        "lista.remove('x')\n",
        "print(lista)\n",
        "lista.remove('i')\n",
        "print(lista)"
      ],
      "execution_count": null,
      "outputs": [
        {
          "output_type": "stream",
          "text": [
            "['a', 'e', 'i', 'o', 'u', 'i', 'x']\n",
            "['a', 'e', 'i', 'o', 'u', 'i']\n",
            "['a', 'e', 'o', 'u', 'i']\n"
          ],
          "name": "stdout"
        }
      ]
    },
    {
      "cell_type": "markdown",
      "metadata": {
        "id": "zx_sduJaAmCz"
      },
      "source": [
        "## Sublistas (slice) - operador subscript []\n",
        "\n",
        "La función [] obtiene una porción (sublista) de una lista"
      ]
    },
    {
      "cell_type": "code",
      "metadata": {
        "id": "Bu0wx7EnAmC3",
        "outputId": "c1166fc3-8fb0-496f-8709-1fbd3d0d8687"
      },
      "source": [
        "avengers = [\"Ironman\", \"Spiderman\", \"Ant-man\", \"Hulk\"]\n",
        "print(avengers[1:3])\n",
        "print(avengers[::-1])"
      ],
      "execution_count": null,
      "outputs": [
        {
          "output_type": "stream",
          "text": [
            "['Spiderman', 'Ant-man']\n",
            "['Hulk', 'Ant-man', 'Spiderman', 'Ironman']\n"
          ],
          "name": "stdout"
        }
      ]
    },
    {
      "cell_type": "markdown",
      "metadata": {
        "id": "Ku6WzNi4AmC-"
      },
      "source": [
        "## Contando `count`\n",
        "\n",
        "El método `count` obtiene las veces que un elemento se encuentra en una lista."
      ]
    },
    {
      "cell_type": "code",
      "metadata": {
        "id": "lgfEo37oAmC_",
        "outputId": "82649f5c-e63d-4091-c5fe-fb6e863a8d15"
      },
      "source": [
        "lista = [4, 3, 8, 8, 2, 5, 4, 6, 8, 9]\n",
        "print(lista.count(2))\n",
        "print(lista.count(8))\n",
        "print(lista.count(5))"
      ],
      "execution_count": null,
      "outputs": [
        {
          "output_type": "stream",
          "text": [
            "1\n",
            "3\n",
            "1\n"
          ],
          "name": "stdout"
        }
      ]
    },
    {
      "cell_type": "markdown",
      "metadata": {
        "id": "u818sCXLAmDH"
      },
      "source": [
        "## Buscando `index`\n",
        "\n",
        "El método `index` obtiene la primera ocurrencia de un elemento en una lista."
      ]
    },
    {
      "cell_type": "code",
      "metadata": {
        "id": "k0m8dhTbAmDJ",
        "outputId": "1e6395bb-d57e-4ca3-fd05-395a2fd9a438"
      },
      "source": [
        "lista = [4, 3, 8, 8, 2, 5, 4, 6, 8, 9]\n",
        "print(lista.index(2))\n",
        "print(lista.index(8))\n",
        "print(lista.index(5))"
      ],
      "execution_count": null,
      "outputs": [
        {
          "output_type": "stream",
          "text": [
            "4\n",
            "2\n",
            "5\n"
          ],
          "name": "stdout"
        }
      ]
    },
    {
      "cell_type": "markdown",
      "metadata": {
        "id": "OMRWZdLfAmDN"
      },
      "source": [
        "## Máximo y mínimo `max, min`\n",
        "\n",
        "El método `max/min` obtiene el maximo/mínimo elemento de una lista."
      ]
    },
    {
      "cell_type": "code",
      "metadata": {
        "id": "ktBsKvhpAmDO",
        "outputId": "b29fe281-906b-49c4-dc7c-3645dc987736"
      },
      "source": [
        "lista = [4,5,-1,6,7]\n",
        "print(max(lista))\n",
        "print(min(lista))"
      ],
      "execution_count": null,
      "outputs": [
        {
          "output_type": "stream",
          "text": [
            "7\n",
            "-1\n"
          ],
          "name": "stdout"
        }
      ]
    },
    {
      "cell_type": "markdown",
      "metadata": {
        "id": "Rrdia7xNAmDU"
      },
      "source": [
        "## Ordenando `sort`\n",
        "\n",
        "El método `sort` ordena una lista. Se le puede indicar si ascendente o descendentemente, al igual que el criterio (llave) usado para ordenar. Aquí solo se considera el ordenamiento sencillo."
      ]
    },
    {
      "cell_type": "code",
      "metadata": {
        "id": "LwohArzvAmDU",
        "outputId": "35e19c54-4625-4291-e297-44460cbcffdc"
      },
      "source": [
        "lista = [4,5,-1,6,7]\n",
        "lista.sort() #De menor a mayor\n",
        "print(lista)\n",
        "lista.sort(reverse=True) #De mayor a menor\n",
        "print(lista)"
      ],
      "execution_count": null,
      "outputs": [
        {
          "output_type": "stream",
          "text": [
            "[-1, 4, 5, 6, 7]\n",
            "[7, 6, 5, 4, -1]\n"
          ],
          "name": "stdout"
        }
      ]
    },
    {
      "cell_type": "markdown",
      "metadata": {
        "id": "h4QQqfY_AmDa"
      },
      "source": [
        "## Convertir a lista `list`\n",
        "\n",
        "El método `list` se usa para crear listas a partir de otros objetos, aquí se usa para convertir una cadena de carácteres y una tupla a listas.\n",
        "\n"
      ]
    },
    {
      "cell_type": "code",
      "metadata": {
        "id": "AG7leI7iAmDb",
        "outputId": "8b788f40-ed3f-49a1-82b2-c4cacdd6b293"
      },
      "source": [
        "magician = 'Dumbledore'\n",
        "lm = list(magician) \n",
        "print(lm)\n",
        "t = ( 1, 2, 3, 4 )\n",
        "lt = list(t) \n",
        "print(lt)"
      ],
      "execution_count": null,
      "outputs": [
        {
          "output_type": "stream",
          "text": [
            "['D', 'u', 'm', 'b', 'l', 'e', 'd', 'o', 'r', 'e']\n",
            "[1, 2, 3, 4]\n"
          ],
          "name": "stdout"
        }
      ]
    },
    {
      "cell_type": "markdown",
      "metadata": {
        "id": "bJ1p97RmAmDg"
      },
      "source": [
        "## Ejercicio:\n",
        "\n",
        "Dada una frase averiguar cuantas vocales tiene y mostrarlas. Para esto, se debe usar la siguiente lista ```vowels = ['a', 'e', 'i', 'o', 'u']```\n",
        "\n",
        "<table>\n",
        "    <tr>\n",
        "        <td>Input</td><td>Output</td>\n",
        "    </tr>\n",
        "    <tr>\n",
        "        <td>externocleidomastoideo</td><td>11</td>\n",
        "    </tr>"
      ]
    },
    {
      "cell_type": "code",
      "metadata": {
        "id": "NHDDdknLAmDh",
        "outputId": "bb04f3c3-267b-4dbd-f9ce-71860a802c1a"
      },
      "source": [
        ""
      ],
      "execution_count": null,
      "outputs": [
        {
          "output_type": "stream",
          "text": [
            "lojavengers\n",
            "o\n",
            "a\n",
            "e\n",
            "e\n",
            "se encontraron: 4 vocales.\n"
          ],
          "name": "stdout"
        }
      ]
    },
    {
      "cell_type": "code",
      "metadata": {
        "id": "65Nxy0dRAmDn"
      },
      "source": [
        ""
      ],
      "execution_count": null,
      "outputs": []
    },
    {
      "cell_type": "markdown",
      "metadata": {
        "id": "QxNPrf66AmDu"
      },
      "source": [
        "## Remover en una posición `pop`\n",
        "\n",
        "En el caso en el que se requiera eliminar un elemento de una posición específica de la lista. El método pop recibe como parámetro la posición del elemento a remover. Las posiciones en las listas empiezan en cero. Si no se especifican parámetros, se remueve el último elemento de la lista."
      ]
    },
    {
      "cell_type": "code",
      "metadata": {
        "id": "sDmajMIRAmDv",
        "outputId": "522bb772-2b7f-4380-9105-a35c7d21fc31"
      },
      "source": [
        "nombres = ['Antonio', 'Johan', 'Monica', 'María', 'Mabel']\n",
        "nombres.pop(1) #remueve a Johan\n",
        "print(nombres)\n",
        "nombre_borrado = nombres.pop() # remueve a Mabel\n",
        "print(nombre_borrado + \" ha sido eliminada de la lista.\")\n",
        "print(nombres)"
      ],
      "execution_count": null,
      "outputs": [
        {
          "output_type": "stream",
          "text": [
            "['Antonio', 'Monica', 'María', 'Mabel']\n",
            "Mabel ha sido eliminada de la lista.\n",
            "['Antonio', 'Monica', 'María']\n"
          ],
          "name": "stdout"
        }
      ]
    },
    {
      "cell_type": "markdown",
      "metadata": {
        "id": "oKncOe2AAmD4"
      },
      "source": [
        "## Bonus Pedir ayuda a colab sobre un método específico\n",
        "\n",
        "Como pedir ayuda sobre un método específico?"
      ]
    },
    {
      "cell_type": "code",
      "metadata": {
        "id": "n95ERHghAmD5",
        "outputId": "3806cd8f-9a93-4022-c343-c8a26acf9046"
      },
      "source": [
        "help(list.insert)"
      ],
      "execution_count": null,
      "outputs": [
        {
          "output_type": "stream",
          "text": [
            "Help on method_descriptor:\n",
            "\n",
            "insert(self, index, object, /)\n",
            "    Insert object before index.\n",
            "\n"
          ],
          "name": "stdout"
        }
      ]
    },
    {
      "cell_type": "markdown",
      "metadata": {
        "id": "ExHBKYSzAmEA"
      },
      "source": [
        "### Ejercicio: \n",
        "\n",
        "Transforme la cadena ```El mejor regalo? El perdón...``` en ```regalo el perdón``` utilizando únicamente los métodos de listas que hemos visto. La nueva cadena debe guardarse en la variable ```nueva_frase```:"
      ]
    },
    {
      "cell_type": "code",
      "metadata": {
        "id": "rWueYkiCAmEB",
        "outputId": "d52dca3b-0631-4dcf-c41e-100f6f92d505"
      },
      "source": [
        "frase = \"El mejor regalo? El perdón...\"\n",
        "list_frase = list(frase)\n",
        "print(frase)\n",
        "print(list_frase) #deben jugar con esta lista\n",
        "\n",
        "#Aquí va la solución...\n",
        "\n",
        "nueva_frase = ''.join(list_frase)\n",
        "print(list_frase)\n",
        "print(nueva_frase)\n"
      ],
      "execution_count": null,
      "outputs": [
        {
          "output_type": "stream",
          "text": [
            "El mejor regalo? El perdón...\n",
            "['E', 'l', ' ', 'm', 'e', 'j', 'o', 'r', ' ', 'r', 'e', 'g', 'a', 'l', 'o', '?', ' ', 'E', 'l', ' ', 'p', 'e', 'r', 'd', 'ó', 'n', '.', '.', '.']\n",
            "['E', 'l', ' ', 'm', 'e', 'j', 'o', 'r', ' ', 'r', 'e', 'g', 'a', 'l', 'o', '?', ' ', 'E', 'l', ' ', 'p', 'e', 'r', 'd', 'ó', 'n', '.', '.', '.']\n",
            "El mejor regalo? El perdón...\n"
          ],
          "name": "stdout"
        }
      ]
    },
    {
      "cell_type": "code",
      "metadata": {
        "id": "w1ZK_bhsAmEK",
        "outputId": "d9981dd0-b341-4d0c-b2db-3856c013cb7d"
      },
      "source": [
        ""
      ],
      "execution_count": null,
      "outputs": [
        {
          "output_type": "stream",
          "text": [
            "[1, 1, 2, 2, 2, 2]\n"
          ],
          "name": "stdout"
        }
      ]
    },
    {
      "cell_type": "markdown",
      "metadata": {
        "id": "WSqNf_6wAmER"
      },
      "source": [
        "## Referencias: \n",
        "\n",
        "Gomez, J, Rodriguez A y Cubides C. La ciencia de Programar. Universidad Nacional de Colombia.\n",
        "\n",
        "Barry, P. (2016). Head First Python: A Brain-Friendly Guide. \" O'Reilly Media, Inc.\".\n",
        "\n",
        "Guttag, John. Introduction to Computation and Programming Using Python: With Application to Understanding Data Second Edition. MIT Press, 2016. ISBN: 9780262529624.\n",
        "\n",
        "\n",
        "https://www.w3schools.com/PYTHON/\n",
        "\n",
        "Rodríguez, A (2020). Curso de Programación en Python. https://github.com/arleserp/cursopython"
      ]
    }
  ]
}