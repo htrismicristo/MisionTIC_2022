{
  "nbformat": 4,
  "nbformat_minor": 0,
  "metadata": {
    "kernelspec": {
      "display_name": "Python 3",
      "language": "python",
      "name": "python3"
    },
    "language_info": {
      "codemirror_mode": {
        "name": "ipython",
        "version": 3
      },
      "file_extension": ".py",
      "mimetype": "text/x-python",
      "name": "python",
      "nbconvert_exporter": "python",
      "pygments_lexer": "ipython3",
      "version": "3.7.3"
    },
    "colab": {
      "name": "7-Manejando textos en python.ipynb",
      "provenance": []
    }
  },
  "cells": [
    {
      "cell_type": "markdown",
      "metadata": {
        "id": "CpyhJL9K_6Nt"
      },
      "source": [
        "# Cadenas de texto (str) en python\n",
        "\n",
        "Los textos representan una secuencia de cero o más caracteres. Una cadena de caracteres es una estructura de datos inmutable. Esto significa que no puede ser cambiada.\n"
      ]
    },
    {
      "cell_type": "code",
      "metadata": {
        "id": "TWjcKjHd_6N3",
        "outputId": "f27c5cb2-2e25-485b-816a-3be0a02059fe"
      },
      "source": [
        "str1 = 'ejemplo de cadena'\n",
        "print(str1)"
      ],
      "execution_count": null,
      "outputs": [
        {
          "output_type": "stream",
          "text": [
            "ejemplo de cadena\n"
          ],
          "name": "stdout"
        }
      ]
    },
    {
      "cell_type": "markdown",
      "metadata": {
        "id": "L0_WbYV-_6OL"
      },
      "source": [
        "```id(str_var)``` obtiene el identificador único (la posición en memoria) de la variable"
      ]
    },
    {
      "cell_type": "code",
      "metadata": {
        "id": "uYXKBy8K_6ON",
        "outputId": "02cd0f11-966c-4af3-a658-2f90aa8f2dca"
      },
      "source": [
        "id(str1)"
      ],
      "execution_count": null,
      "outputs": [
        {
          "output_type": "execute_result",
          "data": {
            "text/plain": [
              "1769627613128"
            ]
          },
          "metadata": {
            "tags": []
          },
          "execution_count": 2
        }
      ]
    },
    {
      "cell_type": "code",
      "metadata": {
        "id": "RYGzgD_p_6Oj",
        "outputId": "8525df0c-ffe6-4a1f-8b0c-a22488e743d4"
      },
      "source": [
        "str2 = 'otra cosa'\n",
        "id(str2)"
      ],
      "execution_count": null,
      "outputs": [
        {
          "output_type": "execute_result",
          "data": {
            "text/plain": [
              "1769627687280"
            ]
          },
          "metadata": {
            "tags": []
          },
          "execution_count": 3
        }
      ]
    },
    {
      "cell_type": "markdown",
      "metadata": {
        "id": "P_UCDoTS_6Ot"
      },
      "source": [
        "## Concatenar +\n",
        "\n",
        "Concatena (pega) dos cadenas. Cuando se concatenan o se unen dos strings una nueva posición en memoria es creada para esta variable"
      ]
    },
    {
      "cell_type": "code",
      "metadata": {
        "id": "9lMKoM2f_6Ov",
        "outputId": "774c0bb9-9a56-43cf-bf03-48d61ff8aab9"
      },
      "source": [
        "str1 = str1 + str2\n",
        "id(str1)"
      ],
      "execution_count": null,
      "outputs": [
        {
          "output_type": "execute_result",
          "data": {
            "text/plain": [
              "1769627746352"
            ]
          },
          "metadata": {
            "tags": []
          },
          "execution_count": 4
        }
      ]
    },
    {
      "cell_type": "code",
      "metadata": {
        "id": "0dTHXLd4_6Pc",
        "outputId": "ea5ee952-8479-4ef6-bf45-7b22de76608b"
      },
      "source": [
        "nombre = \"Minch Yoda\"\n",
        "trabajo = \"Stars War\"\n",
        "print(nombre+\" el maestro\")\n",
        "print(nombre+trabajo)\n",
        "print(trabajo+' '+nombre)"
      ],
      "execution_count": null,
      "outputs": [
        {
          "output_type": "stream",
          "text": [
            "Minch Yoda el maestro\n",
            "Minch YodaStars War\n",
            "Stars War Minch Yoda\n"
          ],
          "name": "stdout"
        }
      ]
    },
    {
      "cell_type": "markdown",
      "metadata": {
        "id": "v7ZmEn2g_6QB"
      },
      "source": [
        "Para obtener la longitud de una cadena se puede utilizar la función len  ```len(str)```:"
      ]
    },
    {
      "cell_type": "code",
      "metadata": {
        "id": "N-a9aPq4_6QD",
        "outputId": "fcad2a83-e35a-4a61-90c4-9994c34b8643"
      },
      "source": [
        "a = 'May the Force be with you.'\n",
        "len(a)"
      ],
      "execution_count": null,
      "outputs": [
        {
          "output_type": "execute_result",
          "data": {
            "text/plain": [
              "26"
            ]
          },
          "metadata": {
            "tags": []
          },
          "execution_count": 3
        }
      ]
    },
    {
      "cell_type": "code",
      "metadata": {
        "id": "mvn1WgUg_6QX",
        "outputId": "fefd10fc-ef04-4cfa-a902-7e2f8cc83e2a"
      },
      "source": [
        "b = \"\"\n",
        "len(b)"
      ],
      "execution_count": null,
      "outputs": [
        {
          "output_type": "execute_result",
          "data": {
            "text/plain": [
              "0"
            ]
          },
          "metadata": {
            "tags": []
          },
          "execution_count": 5
        }
      ]
    },
    {
      "cell_type": "markdown",
      "metadata": {
        "id": "7FdwVxwP_6Qn"
      },
      "source": [
        "## Consultando una cadena\n",
        "\n",
        "Es posible determinar si una subcadena se encuentra en una cadena de carácteres. Para el programa"
      ]
    },
    {
      "cell_type": "code",
      "metadata": {
        "id": "eokRV7RA_6Qp",
        "outputId": "68defe70-59ba-41dd-a972-3e43d7010771"
      },
      "source": [
        "## Saber si una palabra o letra está en una cadena\n",
        "text = 'cien años de soledad'\n",
        "\n",
        "if 'años' in text:\n",
        "    print('yes')"
      ],
      "execution_count": null,
      "outputs": [
        {
          "output_type": "stream",
          "text": [
            "yes\n"
          ],
          "name": "stdout"
        }
      ]
    },
    {
      "cell_type": "markdown",
      "metadata": {
        "id": "t_hEWWa0_6Q6"
      },
      "source": [
        "## Iterando una Cadena\n",
        "\n",
        "Es posible iterar una cadena de carácteres usando el ciclofor. Para elprograma"
      ]
    },
    {
      "cell_type": "code",
      "metadata": {
        "id": "kDYt5-og_6Q9",
        "outputId": "a3eae240-48fc-46dd-a3bd-4f1dbcb9bb4c"
      },
      "source": [
        "for i in range(len(s)):\n",
        "    print(s[i]+\",\", end=\"\")"
      ],
      "execution_count": null,
      "outputs": [
        {
          "output_type": "stream",
          "text": [
            "h,o,l,a, ,a,m,i,g,o,s, ,m,i,o,s,"
          ],
          "name": "stdout"
        }
      ]
    },
    {
      "cell_type": "markdown",
      "metadata": {
        "id": "bnOpLBfV_6RL"
      },
      "source": [
        " ## Comparar cadenas\n",
        " \n",
        " Se usan los operadores convencionales (<,<=,>,>=,==,!=) para comparar cadenas usando el orden lexicográfico. En el orden lexicográfico, se comparan de izquierda a derecha uno a uno los carácteres, mientras sean iguales. En el caso que no sean iguales, si el carácter de la primera cadena es menor que el de la segunda se considera menor a la primer cadena, si es mayor se le considera mayor. Si todos los carácteres son iguales, se consideran iguales a las cadena. Para el programa "
      ]
    },
    {
      "cell_type": "code",
      "metadata": {
        "id": "QHlLf2Im_6RU",
        "outputId": "94ff7eab-9e69-48c4-d7ef-b9ca7aecadb7"
      },
      "source": [
        "print( 'Rojas' < 'Rosas' )\n",
        "print( 'Rojas' == 'rosas' )"
      ],
      "execution_count": null,
      "outputs": [
        {
          "output_type": "stream",
          "text": [
            "True\n",
            "False\n"
          ],
          "name": "stdout"
        }
      ]
    },
    {
      "cell_type": "markdown",
      "metadata": {
        "id": "0Bp-__0y_6Rc"
      },
      "source": [
        "## El operador de subíndice (subscript ```[]```)\n",
        "\n",
        "Accede los elementos de un string, lista, tupla y demás estructuras de datos."
      ]
    },
    {
      "cell_type": "code",
      "metadata": {
        "id": "M7lSEgS1_6Rf",
        "outputId": "91f6cfaf-ef3d-46c3-92cd-109e21e1783b"
      },
      "source": [
        "name = \"Minch Yoda\"\n",
        "print(name[0]) #imprime M\n",
        "print(name[6]) #imprime Y\n",
        "print(name[5]) #imprime espacio"
      ],
      "execution_count": null,
      "outputs": [
        {
          "output_type": "stream",
          "text": [
            "M\n",
            "Y\n",
            " \n"
          ],
          "name": "stdout"
        }
      ]
    },
    {
      "cell_type": "markdown",
      "metadata": {
        "id": "VuOZdkNE_6Rr"
      },
      "source": [
        "Para obtener la longitud de la cadena name:"
      ]
    },
    {
      "cell_type": "code",
      "metadata": {
        "id": "lozvQTtA_6Rt",
        "outputId": "843aab6e-08a6-4f11-9ebb-f2d3068c8d87"
      },
      "source": [
        "print(len(name))"
      ],
      "execution_count": null,
      "outputs": [
        {
          "output_type": "stream",
          "text": [
            "10\n"
          ],
          "name": "stdout"
        }
      ]
    },
    {
      "cell_type": "code",
      "metadata": {
        "id": "ZsJunpfV_6R6"
      },
      "source": [
        "#name[10] #error porque las posiciones de los caracteres van de 0 a 9"
      ],
      "execution_count": null,
      "outputs": []
    },
    {
      "cell_type": "markdown",
      "metadata": {
        "id": "Cr-t5XUf_6SL"
      },
      "source": [
        "Es posible iterar de derecha a izquierda una cadena:"
      ]
    },
    {
      "cell_type": "code",
      "metadata": {
        "id": "K8Esivtv_6SM",
        "outputId": "8eecd5ca-1fbb-4586-9702-f783d873128b"
      },
      "source": [
        "name[-1]"
      ],
      "execution_count": null,
      "outputs": [
        {
          "output_type": "execute_result",
          "data": {
            "text/plain": [
              "'a'"
            ]
          },
          "metadata": {
            "tags": []
          },
          "execution_count": 13
        }
      ]
    },
    {
      "cell_type": "code",
      "metadata": {
        "id": "LTZdqjQU_6Sd",
        "outputId": "7887ffd8-716c-4d70-d15f-034409b73a56"
      },
      "source": [
        "name[-10]"
      ],
      "execution_count": null,
      "outputs": [
        {
          "output_type": "execute_result",
          "data": {
            "text/plain": [
              "'M'"
            ]
          },
          "metadata": {
            "tags": []
          },
          "execution_count": 14
        }
      ]
    },
    {
      "cell_type": "markdown",
      "metadata": {
        "id": "smTmXJjI_6Ss"
      },
      "source": [
        "## Subcadenas  (slices)\n",
        "\n",
        "En muchos casos es necesario obtener porciones de una cadena. Se maneja la notación ```[start:end:step]```"
      ]
    },
    {
      "cell_type": "code",
      "metadata": {
        "id": "TrTrdGGJ_6Su",
        "outputId": "d4f46037-1926-4a5d-b7f1-fae13a335151"
      },
      "source": [
        "print(name)\n",
        "name[0:5] #obtiene el texto desde la posición cero hasta la 4"
      ],
      "execution_count": null,
      "outputs": [
        {
          "output_type": "stream",
          "text": [
            "Minch Yoda\n"
          ],
          "name": "stdout"
        },
        {
          "output_type": "execute_result",
          "data": {
            "text/plain": [
              "'Minch'"
            ]
          },
          "metadata": {
            "tags": []
          },
          "execution_count": 15
        }
      ]
    },
    {
      "cell_type": "code",
      "metadata": {
        "id": "ZFktNEGW_6S7",
        "outputId": "96e9cae8-3664-4988-99d9-de7896ac5d97"
      },
      "source": [
        "name[:5]"
      ],
      "execution_count": null,
      "outputs": [
        {
          "output_type": "execute_result",
          "data": {
            "text/plain": [
              "'Minch'"
            ]
          },
          "metadata": {
            "tags": []
          },
          "execution_count": 16
        }
      ]
    },
    {
      "cell_type": "code",
      "metadata": {
        "id": "Tq2Ncjvm_6TH",
        "outputId": "6aadb085-959f-42e2-c5ef-64c26c48a593"
      },
      "source": [
        "name[6:10]"
      ],
      "execution_count": null,
      "outputs": [
        {
          "output_type": "execute_result",
          "data": {
            "text/plain": [
              "'Yoda'"
            ]
          },
          "metadata": {
            "tags": []
          },
          "execution_count": 17
        }
      ]
    },
    {
      "cell_type": "code",
      "metadata": {
        "id": "Qghm3NcV_6TP",
        "outputId": "71eaba38-3d3f-4c04-9636-8e583518d121"
      },
      "source": [
        "name[::-1] #invierte una cadena"
      ],
      "execution_count": null,
      "outputs": [
        {
          "output_type": "execute_result",
          "data": {
            "text/plain": [
              "'adoY hcniM'"
            ]
          },
          "metadata": {
            "tags": []
          },
          "execution_count": 18
        }
      ]
    },
    {
      "cell_type": "markdown",
      "metadata": {
        "id": "ePGKkFtf_6Ta"
      },
      "source": [
        "## Métodos interesantes con Strings"
      ]
    },
    {
      "cell_type": "markdown",
      "metadata": {
        "id": "dLWXPbuc_6Tb"
      },
      "source": [
        "Para contar los caracteres en una cadena dada se puede utilizar ```count(substr), count(substr, start, end)```:\n"
      ]
    },
    {
      "cell_type": "code",
      "metadata": {
        "id": "k1FICbGa_6Tc",
        "outputId": "aa0fbf61-8787-46c4-b2d5-7c6003deaf30"
      },
      "source": [
        "str1 = 'The avengers'\n",
        "str1.count('e')"
      ],
      "execution_count": null,
      "outputs": [
        {
          "output_type": "execute_result",
          "data": {
            "text/plain": [
              "3"
            ]
          },
          "metadata": {
            "tags": []
          },
          "execution_count": 14
        }
      ]
    },
    {
      "cell_type": "markdown",
      "metadata": {
        "id": "W7Gz-GMW_6Ti"
      },
      "source": [
        "Es posible contar las ocurrencias de los elementos en una porción de la cadena:"
      ]
    },
    {
      "cell_type": "code",
      "metadata": {
        "id": "-xxozCCp_6Tk",
        "outputId": "24024e9a-f658-483e-8da6-7eb53ccb56ae"
      },
      "source": [
        "str1.count('e',0,3)"
      ],
      "execution_count": null,
      "outputs": [
        {
          "output_type": "execute_result",
          "data": {
            "text/plain": [
              "1"
            ]
          },
          "metadata": {
            "tags": []
          },
          "execution_count": 17
        }
      ]
    },
    {
      "cell_type": "code",
      "metadata": {
        "id": "9Dg85Q2X_6Tt",
        "outputId": "a3ec2a7e-98d2-4876-e781-b039576436c4"
      },
      "source": [
        "str1.count('e',4,len(str1))"
      ],
      "execution_count": null,
      "outputs": [
        {
          "output_type": "execute_result",
          "data": {
            "text/plain": [
              "2"
            ]
          },
          "metadata": {
            "tags": []
          },
          "execution_count": 36
        }
      ]
    },
    {
      "cell_type": "code",
      "metadata": {
        "id": "cj7qiLLZ_6T1",
        "outputId": "550ac4a2-187f-47be-ca3e-91bd3e634ed1"
      },
      "source": [
        "cad = 'abcabcabcabcabc'\n",
        "cad.count('abc')"
      ],
      "execution_count": null,
      "outputs": [
        {
          "output_type": "execute_result",
          "data": {
            "text/plain": [
              "5"
            ]
          },
          "metadata": {
            "tags": []
          },
          "execution_count": 18
        }
      ]
    },
    {
      "cell_type": "markdown",
      "metadata": {
        "id": "CtQhpQ_Z_6T8"
      },
      "source": [
        "En algunos casos se requiere encontrar primer el índice de una subcadena en la cadena dada. Para esto se puede usar el método ```find()```. La sintaxis de ```find``` es la siguiente:"
      ]
    },
    {
      "cell_type": "code",
      "metadata": {
        "id": "cJR4Jowp_6T9",
        "outputId": "9b78c167-e256-4153-e331-aac967f917fd"
      },
      "source": [
        "str1 = 'All we have to decide is what to do with the time that is given us.'\n",
        "str1.find('we', 0, len(str1))"
      ],
      "execution_count": null,
      "outputs": [
        {
          "output_type": "execute_result",
          "data": {
            "text/plain": [
              "4"
            ]
          },
          "metadata": {
            "tags": []
          },
          "execution_count": 20
        }
      ]
    },
    {
      "cell_type": "markdown",
      "metadata": {
        "id": "iZ6krjyC_6UE"
      },
      "source": [
        "Para encontrar el último indice ```rfind``` de una cadena se puede usar:"
      ]
    },
    {
      "cell_type": "code",
      "metadata": {
        "id": "ZTfej3Fw_6UG",
        "outputId": "11804aac-930b-4468-e61d-d505ff36486d"
      },
      "source": [
        "str2 = 'It is not despair, for despair is only for those who see the end beyond all doubt. We do not.'\n",
        "print('first:', str2.find('despair'))\n",
        "print('last: ', str2.rfind('despair'))"
      ],
      "execution_count": null,
      "outputs": [
        {
          "output_type": "stream",
          "text": [
            "first: 10\n",
            "last:  23\n"
          ],
          "name": "stdout"
        }
      ]
    },
    {
      "cell_type": "markdown",
      "metadata": {
        "id": "FCzEuqzN_6UK"
      },
      "source": [
        "## Mayúsculas/Minúsculas"
      ]
    },
    {
      "cell_type": "code",
      "metadata": {
        "id": "MUXh02OT_6UL",
        "outputId": "c330b700-05b5-4a27-b472-770223954a8a"
      },
      "source": [
        "s = input() #lee una cadena\n",
        "print(s.lower())"
      ],
      "execution_count": null,
      "outputs": [
        {
          "output_type": "stream",
          "text": [
            "CIEN AÑOS DE SOLEDAD EN MACONDO\n",
            "cien años de soledad en macondo\n"
          ],
          "name": "stdout"
        }
      ]
    },
    {
      "cell_type": "code",
      "metadata": {
        "id": "V5_AoZKJ_6UP",
        "outputId": "d2721327-fcd0-4017-c82c-bacdcf69ac1a"
      },
      "source": [
        "s = input() #lee una cadena\n",
        "print(s.upper()) #muestra la cadena en mayúsculas"
      ],
      "execution_count": null,
      "outputs": [
        {
          "output_type": "stream",
          "text": [
            "cien años de soledad en macondo\n",
            "CIEN AÑOS DE SOLEDAD EN MACONDO\n"
          ],
          "name": "stdout"
        }
      ]
    },
    {
      "cell_type": "markdown",
      "metadata": {
        "id": "6_IV35ux_6UZ"
      },
      "source": [
        "Para poner en mayúsculas la primera letra de una cadena ```capitalize()```"
      ]
    },
    {
      "cell_type": "code",
      "metadata": {
        "id": "7qdoue6S_6Ub",
        "outputId": "cddd8b03-4ca4-4b96-b01f-e442d006aa2e"
      },
      "source": [
        "name = 'cien años de soledad en Macondo'\n",
        "print(name.capitalize())"
      ],
      "execution_count": null,
      "outputs": [
        {
          "output_type": "stream",
          "text": [
            "Cien años de soledad en macondo\n"
          ],
          "name": "stdout"
        }
      ]
    },
    {
      "cell_type": "markdown",
      "metadata": {
        "id": "m1sIMTog_6Uh"
      },
      "source": [
        "Para convertir el primer caracter de cada palabra en la cadena se puede usar ```title()```:"
      ]
    },
    {
      "cell_type": "code",
      "metadata": {
        "id": "Wwqxf2Xo_6Ui",
        "outputId": "21e4a805-5069-4ff7-c32b-b1a578d13c3a"
      },
      "source": [
        "str1 = 'cien años de soledad en Macondo'\n",
        "title = str1.title() \n",
        "print(title)\n",
        "print(str1)"
      ],
      "execution_count": null,
      "outputs": [
        {
          "output_type": "stream",
          "text": [
            "Cien Años De Soledad En Macondo\n",
            "cien años de soledad en Macondo\n"
          ],
          "name": "stdout"
        }
      ]
    },
    {
      "cell_type": "markdown",
      "metadata": {
        "id": "Oj3Ejvhu_6Uv"
      },
      "source": [
        "Para intercambiar mayúsculas por minúsculas en una cadena se puede usar ```swapcase()```:\n"
      ]
    },
    {
      "cell_type": "code",
      "metadata": {
        "id": "cu0BrW6g_6Ux",
        "outputId": "44d4acb2-b4c1-4402-f2a1-ace9850f65f2"
      },
      "source": [
        "print(title)\n",
        "title.swapcase()"
      ],
      "execution_count": null,
      "outputs": [
        {
          "output_type": "stream",
          "text": [
            "Cien Años De Soledad En Macondo\n"
          ],
          "name": "stdout"
        },
        {
          "output_type": "execute_result",
          "data": {
            "text/plain": [
              "'cIEN aÑOS dE sOLEDAD eN mACONDO'"
            ]
          },
          "metadata": {
            "tags": []
          },
          "execution_count": 11
        }
      ]
    },
    {
      "cell_type": "markdown",
      "metadata": {
        "id": "khfKaRdN_6U4"
      },
      "source": [
        "## Removiendo caracteres (strip, lstrip, rstrip)\n",
        "\n",
        "Cuando se está procesando un texto, a veces se encuentran caracteres al principio o al finalizar una cadena. Por ejemplo ```\" ciudad de Bogotá \"``` y ```\" ICPC competition col\"``` "
      ]
    },
    {
      "cell_type": "code",
      "metadata": {
        "id": "ahLSEjJb_6U8",
        "outputId": "b17a1c18-ea59-469f-f432-1df891669e36"
      },
      "source": [
        "str1 = \" ciudad de Bogotá \"\n",
        "str1.strip()"
      ],
      "execution_count": null,
      "outputs": [
        {
          "output_type": "execute_result",
          "data": {
            "text/plain": [
              "'ciudad de Bogotá'"
            ]
          },
          "metadata": {
            "tags": []
          },
          "execution_count": 34
        }
      ]
    },
    {
      "cell_type": "code",
      "metadata": {
        "id": "UCFGDFIg_6VG",
        "outputId": "9d251215-e2f1-473d-c3d7-8ae759b49b06"
      },
      "source": [
        "str1 = \" ciudad de Bogotá \"\n",
        "str1.rstrip()"
      ],
      "execution_count": null,
      "outputs": [
        {
          "output_type": "execute_result",
          "data": {
            "text/plain": [
              "' ciudad de Bogotá'"
            ]
          },
          "metadata": {
            "tags": []
          },
          "execution_count": 35
        }
      ]
    },
    {
      "cell_type": "code",
      "metadata": {
        "id": "F3meOmNl_6VS",
        "outputId": "2c1fbf28-d17b-4ec0-f694-c480407e78df"
      },
      "source": [
        "str1 = \" ICPC competition col\"\n",
        "str1 = str1.rstrip(\"col\")\n",
        "print(str1)"
      ],
      "execution_count": null,
      "outputs": [
        {
          "output_type": "stream",
          "text": [
            " ICPC competition \n"
          ],
          "name": "stdout"
        }
      ]
    },
    {
      "cell_type": "markdown",
      "metadata": {
        "id": "AW7dQwnN_6Vb"
      },
      "source": [
        "## Dividiendo cadenas (split)"
      ]
    },
    {
      "cell_type": "markdown",
      "metadata": {
        "id": "VW0N7lBn_6Vc"
      },
      "source": [
        "A veces se tienen strings definidas por partes como \"05-06-2020\" y se desea procesar u obtener una de las partes de la cadena. ```str1.split(\"delimiter\", num)```"
      ]
    },
    {
      "cell_type": "code",
      "metadata": {
        "id": "v2ndR1_7_6Vf",
        "outputId": "78995e57-5c8b-41f0-b3d3-a2d508348387"
      },
      "source": [
        "sdate = \"05-06-2020\"\n",
        "sp = sdate.split(\"-\") \n",
        "print(sp)\n",
        "print('día:' + sp[0] + ' mes: ' + sp[1] + ' año: ' + sp[2])"
      ],
      "execution_count": null,
      "outputs": [
        {
          "output_type": "stream",
          "text": [
            "['05', '06', '2020']\n",
            "día:05 mes: 06 año: 2020\n"
          ],
          "name": "stdout"
        }
      ]
    },
    {
      "cell_type": "code",
      "metadata": {
        "id": "ghsN9ZeS_6Vq",
        "outputId": "285e4695-5fda-4c6c-cb96-cd4a9445dd40"
      },
      "source": [
        "sdate = \"05-06-2020\"\n",
        "sdate.split(\"-\", 1)"
      ],
      "execution_count": null,
      "outputs": [
        {
          "output_type": "execute_result",
          "data": {
            "text/plain": [
              "['05', '06-2020']"
            ]
          },
          "metadata": {
            "tags": []
          },
          "execution_count": 44
        }
      ]
    },
    {
      "cell_type": "code",
      "metadata": {
        "id": "1HcPzi0a_6Vw",
        "outputId": "a8843556-b46d-49df-8f9e-91d87cb316d7"
      },
      "source": [
        "### Split\n",
        "cad = str(input())\n",
        "num1, num2 = cad.split(' ') \n",
        "print('num 1:' + num1)\n",
        "print('num 2:' + num2)\n",
        "print(num1 + num2)"
      ],
      "execution_count": null,
      "outputs": [
        {
          "output_type": "stream",
          "text": [
            "1234 132414\n",
            "num 1:1234\n",
            "num 2:132414\n",
            "1234132414\n"
          ],
          "name": "stdout"
        }
      ]
    },
    {
      "cell_type": "code",
      "metadata": {
        "id": "7xisPx3q_6V3",
        "outputId": "d1437d91-a6cb-410e-d071-743c696fd609"
      },
      "source": [
        "#### en este código se pueden digitar dos números separados por &. Ejemplo 434354&23782375\n",
        "s = input()\n",
        "a,b = (int(x) for x in s.split(\"&\"))\n",
        "print(\"a=\" + str(a))\n",
        "print(\"b=\" + str(b))\n",
        "print(\"a+b=\" + str(a+b))"
      ],
      "execution_count": null,
      "outputs": [
        {
          "output_type": "stream",
          "text": [
            "2345325&278923742\n",
            "a=2345325\n",
            "b=278923742\n",
            "a+b=281269067\n"
          ],
          "name": "stdout"
        }
      ]
    },
    {
      "cell_type": "markdown",
      "metadata": {
        "id": "xTuBlbZH_6WF"
      },
      "source": [
        "Para empezar de derecha a izquierda:"
      ]
    },
    {
      "cell_type": "code",
      "metadata": {
        "id": "J3UCdN_i_6WG",
        "outputId": "ecffbcba-cf3c-46ce-d15b-df2fbb3e402f"
      },
      "source": [
        "sdate = \"05-06-2020\"\n",
        "sdate.rsplit(\"-\", 1)"
      ],
      "execution_count": null,
      "outputs": [
        {
          "output_type": "execute_result",
          "data": {
            "text/plain": [
              "['05-06', '2020']"
            ]
          },
          "metadata": {
            "tags": []
          },
          "execution_count": 49
        }
      ]
    },
    {
      "cell_type": "markdown",
      "metadata": {
        "id": "5ZPe0BIG_6WK"
      },
      "source": [
        "## Justificación de cadenas\n",
        "\n",
        "Existen cuatro métodos para justificar cadenas:\n",
        "\n",
        "- ```ljust()``` justificar una cadena a la izquierda\n",
        "- ```rjust()``` justificar una cadena a la derecha\n",
        "- ```center()``` centrar una cadena\n",
        "- ```zfill()``` llenar una cadena con ceros"
      ]
    },
    {
      "cell_type": "code",
      "metadata": {
        "id": "i67QOUzb_6WM",
        "outputId": "986c6c19-6fba-40c8-a03e-a9f512a02f0b"
      },
      "source": [
        "str1 = 'Bogotá'\n",
        "str1.ljust(15, \"#\")"
      ],
      "execution_count": null,
      "outputs": [
        {
          "output_type": "execute_result",
          "data": {
            "text/plain": [
              "'Bogotá#########'"
            ]
          },
          "metadata": {
            "tags": []
          },
          "execution_count": 53
        }
      ]
    },
    {
      "cell_type": "code",
      "metadata": {
        "id": "Bf3zOuvC_6WV",
        "outputId": "e402af24-a7d0-4e8c-9af2-2e4f32db28b1"
      },
      "source": [
        "str1 = 'Bogotá'\n",
        "str1.rjust(15, \"#\")"
      ],
      "execution_count": null,
      "outputs": [
        {
          "output_type": "execute_result",
          "data": {
            "text/plain": [
              "'#########Bogotá'"
            ]
          },
          "metadata": {
            "tags": []
          },
          "execution_count": 54
        }
      ]
    },
    {
      "cell_type": "code",
      "metadata": {
        "id": "wzuM0M-v_6We",
        "outputId": "e19fdd08-988b-45ad-e93d-fb11d3818210"
      },
      "source": [
        "str1 = 'Bogotá'\n",
        "str1.center(15, \"#\")"
      ],
      "execution_count": null,
      "outputs": [
        {
          "output_type": "execute_result",
          "data": {
            "text/plain": [
              "'#####Bogotá####'"
            ]
          },
          "metadata": {
            "tags": []
          },
          "execution_count": 55
        }
      ]
    },
    {
      "cell_type": "code",
      "metadata": {
        "id": "YcCB5_eU_6W2",
        "outputId": "0cb7f3cb-c023-4b4a-f528-7b9bdf36f9ee"
      },
      "source": [
        "account = '123456789'\n",
        "account.zfill(15)"
      ],
      "execution_count": null,
      "outputs": [
        {
          "output_type": "execute_result",
          "data": {
            "text/plain": [
              "'000000123456789'"
            ]
          },
          "metadata": {
            "tags": []
          },
          "execution_count": 58
        }
      ]
    },
    {
      "cell_type": "code",
      "metadata": {
        "id": "D-c2c9rp_6W9",
        "outputId": "1cf519bc-5bef-460b-acf4-a6a3ed2e25c0"
      },
      "source": [
        "binary_num = '10101010'\n",
        "binary_num.zfill(16)"
      ],
      "execution_count": null,
      "outputs": [
        {
          "output_type": "execute_result",
          "data": {
            "text/plain": [
              "'0000000010101010'"
            ]
          },
          "metadata": {
            "tags": []
          },
          "execution_count": 82
        }
      ]
    },
    {
      "cell_type": "markdown",
      "metadata": {
        "id": "up91vTNS_6XI"
      },
      "source": [
        "## Reemplazando (replace)"
      ]
    },
    {
      "cell_type": "markdown",
      "metadata": {
        "id": "WF5J_dOg_6XJ"
      },
      "source": [
        "Reemplazar una palabra de una cadena por otra: ```replace(old_str, new_str)```:"
      ]
    },
    {
      "cell_type": "code",
      "metadata": {
        "id": "neOQ3aVV_6XK",
        "outputId": "83815716-4ecd-4364-ea60-cca2405350f5"
      },
      "source": [
        "str1 = 'cien años de soledad'\n",
        "print(str1)\n",
        "rep = str1.replace('cien','setenta')\n",
        "print(rep)\n",
        "rep = rep.replace('años','días')\n",
        "print(rep)\n",
        "rep = rep.replace('soledad','clases sincrónicas!')\n",
        "print(rep)"
      ],
      "execution_count": null,
      "outputs": [
        {
          "output_type": "stream",
          "text": [
            "cien años de soledad\n",
            "setenta años de soledad\n",
            "setenta días de soledad\n",
            "setenta días de clases sincrónicas!\n"
          ],
          "name": "stdout"
        }
      ]
    },
    {
      "cell_type": "markdown",
      "metadata": {
        "id": "USVPjRM5_6XV"
      },
      "source": [
        "Crear una palabra a partir de una lista:"
      ]
    },
    {
      "cell_type": "code",
      "metadata": {
        "id": "GoWJwbxF_6XW",
        "outputId": "cf43b353-d208-4978-c3bd-4a304a84bd1f"
      },
      "source": [
        "lista = ['cien', 'años', 'de', 'soledad']\n",
        "\" \".join(lista)"
      ],
      "execution_count": null,
      "outputs": [
        {
          "output_type": "execute_result",
          "data": {
            "text/plain": [
              "'cien años de soledad'"
            ]
          },
          "metadata": {
            "tags": []
          },
          "execution_count": 67
        }
      ]
    },
    {
      "cell_type": "code",
      "metadata": {
        "id": "-7hJYwZB_6Xc",
        "outputId": "ced8982c-eb03-409d-babf-5125b732da77"
      },
      "source": [
        "\"\".join(lista) "
      ],
      "execution_count": null,
      "outputs": [
        {
          "output_type": "execute_result",
          "data": {
            "text/plain": [
              "'cienañosdesoledad'"
            ]
          },
          "metadata": {
            "tags": []
          },
          "execution_count": 68
        }
      ]
    },
    {
      "cell_type": "code",
      "metadata": {
        "id": "h2cYB3DI_6Xn",
        "outputId": "2bf34632-a322-4739-c8d6-a5fb446d8e62"
      },
      "source": [
        "\"-\".join(lista) "
      ],
      "execution_count": null,
      "outputs": [
        {
          "output_type": "execute_result",
          "data": {
            "text/plain": [
              "'cien-años-de-soledad'"
            ]
          },
          "metadata": {
            "tags": []
          },
          "execution_count": 69
        }
      ]
    },
    {
      "cell_type": "markdown",
      "metadata": {
        "id": "W0ylujl9_6Xs"
      },
      "source": [
        "## Métodos booleanos sobre cadenas\n",
        "\n",
        "Utilizados para validar si una cadena dada cumple o no con una propiedad.\n",
        "\n",
        "- ```endswith```: saber si una cadena termina con\n",
        "- ```startswith```: saber si una cadena empieza con\n",
        "- ```isalpha```: saber si una cadena contiene letras únicamente\n",
        "- ```isalnum```: saber si una cadena contiene números y letras únicamente (alfanumérico)\n",
        "- ```isdigit```: saber si una cadena contiene sólo dígitos.\n",
        "- ```isspace```: saber si una cadena contiene sólo espacios.\n",
        "- ```istitle```: saber si una cadena es un título\n",
        "- ```islower```: saber si una cadena contiene todos sus caracteres en minúsculas\n",
        "- ```isupper```: saber si una cadena contiene todos sus caracteres en mayúsculas\n",
        "\n"
      ]
    },
    {
      "cell_type": "code",
      "metadata": {
        "id": "AnZhKML-_6Xs",
        "outputId": "c89f9d00-4087-447a-e0de-180e0d499b39"
      },
      "source": [
        "text = \"Cien años de soledad.\"\n",
        "result = text.endswith('soledad.')\n",
        "print(result)"
      ],
      "execution_count": null,
      "outputs": [
        {
          "output_type": "stream",
          "text": [
            "True\n"
          ],
          "name": "stdout"
        }
      ]
    },
    {
      "cell_type": "code",
      "metadata": {
        "id": "Zzl1zwjR_6YJ",
        "outputId": "fb5ae511-ab3f-4185-89d5-f647c07a9d6d"
      },
      "source": [
        "text = \"Cien años de soledad.\"\n",
        "result = text.startswith('años',5,len(text))\n",
        "print(result)"
      ],
      "execution_count": null,
      "outputs": [
        {
          "output_type": "stream",
          "text": [
            "True\n"
          ],
          "name": "stdout"
        }
      ]
    },
    {
      "cell_type": "code",
      "metadata": {
        "id": "E_RG-ekG_6YO",
        "outputId": "98a56f86-e935-4c05-c8aa-72b833bd3bc2"
      },
      "source": [
        "str1 = 'lasquinceletras'\n",
        "str1.isalpha()"
      ],
      "execution_count": null,
      "outputs": [
        {
          "output_type": "execute_result",
          "data": {
            "text/plain": [
              "True"
            ]
          },
          "metadata": {
            "tags": []
          },
          "execution_count": 77
        }
      ]
    },
    {
      "cell_type": "code",
      "metadata": {
        "id": "rHLAUvaC_6Yn",
        "outputId": "4f66e4a6-1919-430a-ff32-9463816eb65f"
      },
      "source": [
        "str2 = 'las quince letras'\n",
        "str2.isalpha()"
      ],
      "execution_count": null,
      "outputs": [
        {
          "output_type": "execute_result",
          "data": {
            "text/plain": [
              "False"
            ]
          },
          "metadata": {
            "tags": []
          },
          "execution_count": 78
        }
      ]
    },
    {
      "cell_type": "code",
      "metadata": {
        "id": "FDExNGa2_6Y3",
        "outputId": "41abf8f7-dc14-4ee0-8013-6b80da65b1cb"
      },
      "source": [
        "str3 = 'edad:15'\n",
        "str3.isalpha()"
      ],
      "execution_count": null,
      "outputs": [
        {
          "output_type": "execute_result",
          "data": {
            "text/plain": [
              "False"
            ]
          },
          "metadata": {
            "tags": []
          },
          "execution_count": 79
        }
      ]
    },
    {
      "cell_type": "code",
      "metadata": {
        "id": "0WurSSTo_6Y8",
        "outputId": "508f56c6-1d06-493d-f6ee-aab6d94fe752"
      },
      "source": [
        "str4 = 'edad15'\n",
        "str4.isalnum()"
      ],
      "execution_count": null,
      "outputs": [
        {
          "output_type": "execute_result",
          "data": {
            "text/plain": [
              "True"
            ]
          },
          "metadata": {
            "tags": []
          },
          "execution_count": 82
        }
      ]
    },
    {
      "cell_type": "code",
      "metadata": {
        "id": "vnEHPJd0_6ZO",
        "outputId": "4799b4a7-1b75-420f-9ccd-0fc56aaa4019"
      },
      "source": [
        "str5 = 'edad15#'\n",
        "str5.isalnum() #si es alfanúmerico"
      ],
      "execution_count": null,
      "outputs": [
        {
          "output_type": "execute_result",
          "data": {
            "text/plain": [
              "False"
            ]
          },
          "metadata": {
            "tags": []
          },
          "execution_count": 90
        }
      ]
    },
    {
      "cell_type": "code",
      "metadata": {
        "id": "bvAdBHGt_6Zf",
        "outputId": "98a434f4-2341-4107-ab23-9797d3125d0b"
      },
      "source": [
        "str_num = '1234567898'\n",
        "str_num.isdigit()"
      ],
      "execution_count": null,
      "outputs": [
        {
          "output_type": "execute_result",
          "data": {
            "text/plain": [
              "True"
            ]
          },
          "metadata": {
            "tags": []
          },
          "execution_count": 86
        }
      ]
    },
    {
      "cell_type": "code",
      "metadata": {
        "id": "wH1QqmCz_6Zv",
        "outputId": "0b1f5c07-7c0e-41b2-87d4-763181335674"
      },
      "source": [
        "strs = \" \"\n",
        "strs.isspace()"
      ],
      "execution_count": null,
      "outputs": [
        {
          "output_type": "execute_result",
          "data": {
            "text/plain": [
              "True"
            ]
          },
          "metadata": {
            "tags": []
          },
          "execution_count": 87
        }
      ]
    },
    {
      "cell_type": "code",
      "metadata": {
        "id": "Si1dQhhv_6Z7",
        "outputId": "9e0d855d-29e6-48f7-cbb3-c80458e76605"
      },
      "source": [
        "strs = 'Cien Años De Soledad'\n",
        "strs.istitle()"
      ],
      "execution_count": null,
      "outputs": [
        {
          "output_type": "execute_result",
          "data": {
            "text/plain": [
              "True"
            ]
          },
          "metadata": {
            "tags": []
          },
          "execution_count": 90
        }
      ]
    },
    {
      "cell_type": "code",
      "metadata": {
        "id": "I4nJ-s1J_6aA",
        "outputId": "89364501-72cc-484c-ced9-036a540c5581"
      },
      "source": [
        "str1 = 'pepe hola'\n",
        "str1.islower()"
      ],
      "execution_count": null,
      "outputs": [
        {
          "output_type": "execute_result",
          "data": {
            "text/plain": [
              "True"
            ]
          },
          "metadata": {
            "tags": []
          },
          "execution_count": 91
        }
      ]
    },
    {
      "cell_type": "code",
      "metadata": {
        "id": "eUP0RhT1_6aD",
        "outputId": "7142daaf-176d-4834-b609-4f3fb10cad0f"
      },
      "source": [
        "str1 = 'pepe#235252'\n",
        "str1.islower()"
      ],
      "execution_count": null,
      "outputs": [
        {
          "output_type": "execute_result",
          "data": {
            "text/plain": [
              "True"
            ]
          },
          "metadata": {
            "tags": []
          },
          "execution_count": 95
        }
      ]
    },
    {
      "cell_type": "code",
      "metadata": {
        "id": "wq_BLAjx_6aN",
        "outputId": "7676ba1d-33e2-4fc8-83ab-6950d06c6e09"
      },
      "source": [
        "str1 = 'PEPE MUNCK'\n",
        "str1.isupper()"
      ],
      "execution_count": null,
      "outputs": [
        {
          "output_type": "execute_result",
          "data": {
            "text/plain": [
              "True"
            ]
          },
          "metadata": {
            "tags": []
          },
          "execution_count": 92
        }
      ]
    },
    {
      "cell_type": "markdown",
      "metadata": {
        "id": "wZ0BhBeW_6aQ"
      },
      "source": [
        "Mínima ó máxima letra alfanumérica ```min```, ```max```:\n"
      ]
    },
    {
      "cell_type": "code",
      "metadata": {
        "id": "vYF-mL-x_6aQ",
        "outputId": "e90dc40d-78ab-4284-c0e1-455c7597efa2"
      },
      "source": [
        "min('abcdario')"
      ],
      "execution_count": null,
      "outputs": [
        {
          "output_type": "execute_result",
          "data": {
            "text/plain": [
              "'a'"
            ]
          },
          "metadata": {
            "tags": []
          },
          "execution_count": 96
        }
      ]
    },
    {
      "cell_type": "code",
      "metadata": {
        "id": "Z1Qs1yva_6aT",
        "outputId": "85f690e2-7a0f-46d5-a39e-f5c23d6271cf"
      },
      "source": [
        "max('abcdario')"
      ],
      "execution_count": null,
      "outputs": [
        {
          "output_type": "execute_result",
          "data": {
            "text/plain": [
              "'r'"
            ]
          },
          "metadata": {
            "tags": []
          },
          "execution_count": 99
        }
      ]
    },
    {
      "cell_type": "code",
      "metadata": {
        "id": "wdkHzN6t_6ac",
        "outputId": "63a76e2b-78f5-4241-d141-a6e32170a758"
      },
      "source": [
        ""
      ],
      "execution_count": null,
      "outputs": [
        {
          "output_type": "stream",
          "text": [
            "yes\n"
          ],
          "name": "stdout"
        }
      ]
    },
    {
      "cell_type": "markdown",
      "metadata": {
        "id": "rsZhkPA7_6ag"
      },
      "source": [
        "Es posible iterar cada letra de la cadena"
      ]
    },
    {
      "cell_type": "code",
      "metadata": {
        "id": "otx8Qxl8_6ai",
        "outputId": "0841b022-527d-4fb5-eefa-dd35db6dbf7d"
      },
      "source": [
        "s = \"hola amigos mios\"\n",
        "for letra in s:  #se puede iterar cada letra de la cadena\n",
        "    print(letra + \",\", end=' ')"
      ],
      "execution_count": null,
      "outputs": [
        {
          "output_type": "stream",
          "text": [
            "h, o, l, a,  , a, m, i, g, o, s,  , m, i, o, s, "
          ],
          "name": "stdout"
        }
      ]
    },
    {
      "cell_type": "code",
      "metadata": {
        "id": "8iETVL8b_6al",
        "outputId": "ddf194e9-3226-4cc3-99b7-f75b835b4627"
      },
      "source": [
        "frutas = ['Pera', 'Manzana', 'Mango']\n",
        "\n",
        "for fr in frutas:\n",
        "    print(fr)"
      ],
      "execution_count": null,
      "outputs": [
        {
          "output_type": "stream",
          "text": [
            "Pera\n",
            "Manzana\n",
            "Mango\n"
          ],
          "name": "stdout"
        }
      ]
    },
    {
      "cell_type": "markdown",
      "metadata": {
        "id": "6inNHlBZ_6av"
      },
      "source": [
        "### Ejercicio 1: Validador\n",
        "\n",
        "Al pequeño Sam le gusta escribir al reves. Sin embargo ha escrito unas cadenas muy largas y se tiene la traducción. Sam necesita su ayuda para saber si lo que ha escrito al revés es lo mismo que piensa.\n",
        "Entrada:\n",
        "Dos Strings uno con la cadena al derecho y otro con la posible cadena invertida.\n",
        "Salida:\n",
        "La palabra SI si la palabra corresponde a su versión invertida.  La palabra NO en caso contrario.\n",
        "Ejemplo:\n",
        "\n",
        "<table>\n",
        "    <tr>\n",
        "        <td>Input</td><td>Output</td>\n",
        "    </tr>\n",
        "    <tr>\n",
        "        <td>\n",
        "No tengo ningún consejo para darle a aquel que desespera.<br>\n",
        ".arepsesed euq leuqa a elrad arap ojesnoc núgnin ognet oN\n",
        "        </td><td>SI</td>\n",
        "    </tr>\n",
        " <table>\n"
      ]
    },
    {
      "cell_type": "markdown",
      "metadata": {
        "id": "laUvKEzp_6aw"
      },
      "source": [
        "## Referencias\n",
        "\n",
        "Gomez, J, Rodriguez A y Cubides C. La ciencia de Programar. Universidad Nacional de Colombia.\n",
        "\n",
        "Das, B. N. (2017). Learn Python in 7 Days. Packt Publishing Ltd.\n",
        "\n",
        "Rodríguez, A (2020). Curso de Programación en Python. https://github.com/arleserp/cursopython"
      ]
    }
  ]
}