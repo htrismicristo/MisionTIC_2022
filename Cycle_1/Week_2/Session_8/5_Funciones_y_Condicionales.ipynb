{
  "nbformat": 4,
  "nbformat_minor": 0,
  "metadata": {
    "kernelspec": {
      "display_name": "Python 3",
      "language": "python",
      "name": "python3"
    },
    "language_info": {
      "codemirror_mode": {
        "name": "ipython",
        "version": 3
      },
      "file_extension": ".py",
      "mimetype": "text/x-python",
      "name": "python",
      "nbconvert_exporter": "python",
      "pygments_lexer": "ipython3",
      "version": "3.7.3"
    },
    "colab": {
      "name": "5-Funciones y Condicionales.ipynb",
      "provenance": []
    }
  },
  "cells": [
    {
      "cell_type": "markdown",
      "metadata": {
        "id": "kztiuCmTYrVm",
        "colab_type": "text"
      },
      "source": [
        "# 5-Funciones y Condicionales"
      ]
    },
    {
      "cell_type": "markdown",
      "metadata": {
        "id": "RmgQ9iI8YrVo",
        "colab_type": "text"
      },
      "source": [
        "## Estructuras de control condicional\n",
        "\n",
        "Es posible determinar que suite de código ejecutar especificando estructuras de control condicional. Por ejemplo para determinar si un número es par podríamos decir que un número par es aquel cuyo residuo entre 2 es igual a cero, de otro modo es impar.\n"
      ]
    },
    {
      "cell_type": "code",
      "metadata": {
        "id": "iMT9-XcKYrVp",
        "colab_type": "code",
        "colab": {},
        "outputId": "893a40cd-c7a1-4a9e-fbcd-322b8ee32ad4"
      },
      "source": [
        "num = int(input('digite un número: '))\n",
        "\n",
        "if num % 2 == 0:\n",
        "    print(num, 'es par') #está en la suite que identifica que el residuo del número dado entre 2 es igual a cero\n",
        "else:\n",
        "    print(num, 'es impar') #está definido en la suite en caso de que el residuo del número dado entre 2 no sea igual a cero"
      ],
      "execution_count": null,
      "outputs": [
        {
          "output_type": "stream",
          "text": [
            "digite un número: 7385783\n",
            "7385783 es impar\n"
          ],
          "name": "stdout"
        }
      ]
    },
    {
      "cell_type": "markdown",
      "metadata": {
        "id": "o3DhGHjGYrVz",
        "colab_type": "text"
      },
      "source": [
        "Se puede hacer lo mismo con máscaras de bits:"
      ]
    },
    {
      "cell_type": "code",
      "metadata": {
        "id": "f9u77T0RYrV0",
        "colab_type": "code",
        "colab": {},
        "outputId": "0ee84cef-d585-444f-d1d7-4a9ec36416ef"
      },
      "source": [
        "if num & 1 == 0: #si el ultimo bit es cero es par\n",
        "    print(num, 'es par') #está en la suite que identifica que el último bit del número es un 1\n",
        "else:\n",
        "    print(num, 'es impar') #está definido en la suite en caso de que el último bit del número es un 0"
      ],
      "execution_count": null,
      "outputs": [
        {
          "output_type": "stream",
          "text": [
            "7385783 es impar\n"
          ],
          "name": "stdout"
        }
      ]
    },
    {
      "cell_type": "markdown",
      "metadata": {
        "id": "wmp9TMalYrV5",
        "colab_type": "text"
      },
      "source": [
        "Si esta pieza de código se requiere para realizar algo más avanzado se puede definir como método desarrollando un código de forma modular. Al definirlo como método, el if va a quedar en la suite del método es_par y eso se indica mediante la indentación."
      ]
    },
    {
      "cell_type": "code",
      "metadata": {
        "id": "iSKbscg2YrV-",
        "colab_type": "code",
        "colab": {},
        "outputId": "13ef1df0-5e0c-4d55-ffcc-0c6eaf654b19"
      },
      "source": [
        "def es_par(num):\n",
        "  if num % 2 == 0:\n",
        "    print(num, 'es par')\n",
        "  else:\n",
        "    print(num, 'es impar')\n",
        "\n",
        "num = int(input('digite un número: '))\n",
        "es_par(num)"
      ],
      "execution_count": null,
      "outputs": [
        {
          "output_type": "stream",
          "text": [
            "digite un número: 54\n",
            "54 es par\n"
          ],
          "name": "stdout"
        }
      ]
    },
    {
      "cell_type": "markdown",
      "metadata": {
        "id": "XTDUOLOMYrWF",
        "colab_type": "text"
      },
      "source": [
        "Después de ejecutar la celda anterior (con shift + enter). Puedo llamar mi método con otros valores:"
      ]
    },
    {
      "cell_type": "code",
      "metadata": {
        "id": "3Tk1Ya7MYrWF",
        "colab_type": "code",
        "colab": {},
        "outputId": "3df9b36b-7ffb-4031-829f-7db4941206d0"
      },
      "source": [
        "es_par(3)"
      ],
      "execution_count": null,
      "outputs": [
        {
          "output_type": "stream",
          "text": [
            "3 es impar\n"
          ],
          "name": "stdout"
        }
      ]
    },
    {
      "cell_type": "code",
      "metadata": {
        "id": "9LQn_lt2YrWK",
        "colab_type": "code",
        "colab": {},
        "outputId": "70c42bfd-d0e7-4ed6-b766-84705c4949c2"
      },
      "source": [
        "es_par(5)"
      ],
      "execution_count": null,
      "outputs": [
        {
          "output_type": "stream",
          "text": [
            "5 es impar\n"
          ],
          "name": "stdout"
        }
      ]
    },
    {
      "cell_type": "code",
      "metadata": {
        "id": "sk3FihYOYrWO",
        "colab_type": "code",
        "colab": {},
        "outputId": "2e2be73d-2cce-4277-8766-b243910cc61f"
      },
      "source": [
        "es_par(823957923857924769276979)"
      ],
      "execution_count": null,
      "outputs": [
        {
          "output_type": "stream",
          "text": [
            "823957923857924769276979 es impar\n"
          ],
          "name": "stdout"
        }
      ]
    },
    {
      "cell_type": "code",
      "metadata": {
        "id": "s2etGKNAYrWW",
        "colab_type": "code",
        "colab": {},
        "outputId": "2589aa77-5329-457d-f871-97f3121e6b15"
      },
      "source": [
        "es_par(823957923857924769276979483583498539854)"
      ],
      "execution_count": null,
      "outputs": [
        {
          "output_type": "stream",
          "text": [
            "823957923857924769276979483583498539854 es par\n"
          ],
          "name": "stdout"
        }
      ]
    },
    {
      "cell_type": "markdown",
      "metadata": {
        "id": "oSbAqd69YrWc",
        "colab_type": "text"
      },
      "source": [
        "La función que permite calcular el valor absoluto de un número real es una función que recibe como parámetro de entrada un número real y retorna la distancia de ese valor al origen. Esta función matemáticamente se define en casos de la siguiente forma:\n",
        "\n",
        "\\begin{align*}\n",
        "\tvalor\\_absoluto: \\mathbb{R} &\\to \\mathbb{R} \\\\\n",
        "\t(x) &\\mapsto \n",
        "\t\\begin{cases}\n",
        "\t\\phantom{-}x,& \\text{si } x \\geq 0;\\\\\n",
        "\t-x,& \\text{en otro caso}.\n",
        "\t\\end{cases}\n",
        "\t\\end{align*}\n",
        "  \n",
        "  Y en Python quedaría:"
      ]
    },
    {
      "cell_type": "code",
      "metadata": {
        "id": "2ZuTqqwAYrWd",
        "colab_type": "code",
        "colab": {},
        "outputId": "1063a03f-295c-49dc-8ccb-282814389d2c"
      },
      "source": [
        "def valor_absoluto(x):\n",
        "  if x >= 0:\n",
        "    return x\n",
        "  else:\n",
        "    return -x\n",
        " \n",
        "numero = int(input('digite un número: '))\n",
        "print('valor absoluto de x es' , valor_absoluto(numero))"
      ],
      "execution_count": null,
      "outputs": [
        {
          "output_type": "stream",
          "text": [
            "digite un número: -3\n",
            "valor absoluto de x es 3\n"
          ],
          "name": "stdout"
        }
      ]
    },
    {
      "cell_type": "markdown",
      "metadata": {
        "id": "PS08g2CHYrWi",
        "colab_type": "text"
      },
      "source": [
        "Es posible tener más de dos casos en una estructura de control condicional, como veremos en el siguiente ejemplo: La empresa Tqm ofrece la siguiente promocion: por compras mayores a 10000 lleva un 10% de descuento. Por compras mayores a 20000 lleva un 20% de descuento. Dado el valor de la compra halle el valor a pagar y diga de cuanto fue el descuento."
      ]
    },
    {
      "cell_type": "code",
      "metadata": {
        "id": "4L8rXJq6YrWi",
        "colab_type": "code",
        "colab": {},
        "outputId": "d0f1aed0-d101-412f-9d46-ef4116ea493f"
      },
      "source": [
        "def descuento(vc):\n",
        "  if vc > 10000 and vc <= 20000:\n",
        "    print(\"valor a pagar\", vc-vc*0.1, \"y ahorró:\" , vc*0.1)\n",
        "  elif vc > 20000: # en otro caso si\n",
        "    print(\"valor a pagar\", vc-vc*0.2, \"y ahorró:\" , vc*0.2)\n",
        "  else: #en otro caso\n",
        "    print(\"usted compró muy poco y no tiene descuentos.\")\n",
        "  \n",
        "vc = int(input('digite el valor total de su compra:'))\n",
        "descuento(vc)"
      ],
      "execution_count": null,
      "outputs": [
        {
          "output_type": "stream",
          "text": [
            "digite el valor total de su compra:25000\n",
            "valor a pagar 20000.0 y ahorró: 5000.0\n"
          ],
          "name": "stdout"
        }
      ]
    },
    {
      "cell_type": "markdown",
      "metadata": {
        "id": "-lcJZ_v5YrWq",
        "colab_type": "text"
      },
      "source": [
        "### Ejercicio: Prueba de selección\n",
        "\n",
        "Leer 4 valores enteros A, B, C y D. Si B es mayor que C y D es mayor que A y si la suma de C y D es mayor que la suma de A y B y si C y D fueran valores positivos y si A es par, escriba el mensaje “Valores aceptados”. De lo contrario, escriba el mensaje “Valores no aceptados”.\n",
        "\n",
        "![](https://raw.githubusercontent.com/arleserp/cursopython/master/images/valores.png \"valores\")"
      ]
    },
    {
      "cell_type": "code",
      "metadata": {
        "id": "CEurySO9YrWr",
        "colab_type": "code",
        "colab": {}
      },
      "source": [
        ""
      ],
      "execution_count": null,
      "outputs": []
    },
    {
      "cell_type": "markdown",
      "metadata": {
        "id": "VMnmzTLwYrW2",
        "colab_type": "text"
      },
      "source": [
        "## Referencias: \n",
        "\n",
        "Barry, P. (2016). Head First Python: A Brain-Friendly Guide. \" O'Reilly Media, Inc.\".\n",
        "\n",
        "Guttag, John. Introduction to Computation and Programming Using Python: With Application to Understanding Data Second Edition. MIT Press, 2016. ISBN: 9780262529624.\n",
        "\n",
        "\n",
        "https://www.w3schools.com/PYTHON/\n",
        "\n",
        "Gomez, J, Rodriguez A y Cubides C. La ciencia de Programar. Universidad Nacional de Colombia.\n",
        "\n",
        "Rodríguez, A (2020). Curso de Programación en Python. https://github.com/arleserp/cursopython\n",
        "\n"
      ]
    }
  ]
}