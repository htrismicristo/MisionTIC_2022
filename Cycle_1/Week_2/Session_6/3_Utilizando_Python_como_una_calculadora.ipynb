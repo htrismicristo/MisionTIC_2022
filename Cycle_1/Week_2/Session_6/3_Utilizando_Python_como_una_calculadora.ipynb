{
  "nbformat": 4,
  "nbformat_minor": 0,
  "metadata": {
    "kernelspec": {
      "display_name": "Python 3",
      "language": "python",
      "name": "python3"
    },
    "language_info": {
      "codemirror_mode": {
        "name": "ipython",
        "version": 3
      },
      "file_extension": ".py",
      "mimetype": "text/x-python",
      "name": "python",
      "nbconvert_exporter": "python",
      "pygments_lexer": "ipython3",
      "version": "3.7.3"
    },
    "colab": {
      "name": "3-Utilizando Python como una calculadora.ipynb",
      "provenance": []
    }
  },
  "cells": [
    {
      "cell_type": "markdown",
      "metadata": {
        "id": "UEgqW8c849h7",
        "colab_type": "text"
      },
      "source": [
        "# Utilizando Python como una calculadora\n"
      ]
    },
    {
      "cell_type": "markdown",
      "metadata": {
        "id": "6z86ZzmE49h9",
        "colab_type": "text"
      },
      "source": [
        "## Identificadores y variables en python\n",
        "\n",
        "Un *identificador* es una secuencia de símbolos que se utilizan como nombres de variables, funciones, clases y otras estructuras de los lenguajes de programación.\n",
        "\n",
        "Los identificadores se escriben como secuencias de caracteres alfanuméricos del alfabeto inglés. En python se utiliza una notación conocida como snake_case (ó palabras en minúsculas separadas por guiones) para evitar utilizar espacios como por ejemplo: conteo_animales, nombre_usuario, velocidad, etc. Se recomienda utilizar únicamente letras del alfabeto inglés a la hora de usar identificadores.\n",
        "\n",
        "\n",
        "### Palabras reservadas \n",
        "\n",
        "```\n",
        "# Estas son las palabras reservadas de python\n",
        "False      await      else       import     pass\n",
        "None       break      except     in         raise\n",
        "True       class      finally    is         return\n",
        "and        continue   for        lambda     try\n",
        "as         def        from       nonlocal   while\n",
        "assert     del        global     not        with\n",
        "async      elif       if         or         yield\n",
        "\n",
        "```\n",
        "\n",
        "Fuente:  https://docs.python.org/3/reference/lexical_analysis.html#identifiers\n",
        "\n",
        "Son ejemplos de identificadores válidos:\n",
        "\n",
        "```\n",
        "i\n",
        "x\n",
        "suma\n",
        "sumando1\n",
        "sumando2\n",
        "edad \n",
        "pais_de_nacimiento\n",
        "nombre \n",
        "area_circulo\n",
        "\n",
        "```\n",
        "\n",
        "Los identificadores son sensibles a mayúsculas y minúsculas, esto quiere decir que por ejemplo los identificadores `dia`,  `DIA` y `Dia` harían referencia a variables distintas.\n",
        "\n"
      ]
    },
    {
      "cell_type": "code",
      "metadata": {
        "id": "WGWsFYbW49iI",
        "colab_type": "code",
        "colab": {},
        "outputId": "72f06d5f-bc56-4bce-8a7c-2f2c8c6e93e5"
      },
      "source": [
        "Dia = 'lunes'\n",
        "dia = 'martes'\n",
        "dIA = 'jueves'\n",
        "DIA = 'miercoles'\n",
        "\n",
        "print('Dia={} dia={} DIA={} dIA={}'.format(Dia,dia,DIA, dIA))"
      ],
      "execution_count": null,
      "outputs": [
        {
          "output_type": "stream",
          "text": [
            "Dia=lunes dia=martes DIA=miercoles dIA=jueves\n"
          ],
          "name": "stdout"
        }
      ]
    },
    {
      "cell_type": "markdown",
      "metadata": {
        "id": "6enh9v8Z49iS",
        "colab_type": "text"
      },
      "source": [
        "## Tipos de datos escalares\n",
        "\n",
        "Los programas manipularán diferentes tipos de datos. Cada objeto tiene un tipo de datos asociado a el. Se tienen tipos de datos escalares que corresponden a: \n",
        "\n",
        "- `int` representa números enteros ejemplo: 5, -5\n",
        "- `float` representa números reales 3.27\n",
        "- `bool` representa valores booleanos `True` y `False`\n",
        "- `Nonetype` es especial y tiene un único valor `None`\n",
        "\n",
        "es posible usar type() para ver el tipo de dato de un objeto:"
      ]
    },
    {
      "cell_type": "code",
      "metadata": {
        "id": "qWUlwoNb49iT",
        "colab_type": "code",
        "colab": {},
        "outputId": "acf621a0-f264-42ae-bf52-06e4b82046b7"
      },
      "source": [
        "x = 5.6e12\n",
        "type(x)"
      ],
      "execution_count": null,
      "outputs": [
        {
          "output_type": "execute_result",
          "data": {
            "text/plain": [
              "float"
            ]
          },
          "metadata": {
            "tags": []
          },
          "execution_count": 4
        }
      ]
    },
    {
      "cell_type": "code",
      "metadata": {
        "id": "JOHbGUaZ49id",
        "colab_type": "code",
        "colab": {},
        "outputId": "e6442ddc-d73e-4aff-c8f5-128a27bf13b9"
      },
      "source": [
        "type(5)"
      ],
      "execution_count": null,
      "outputs": [
        {
          "output_type": "execute_result",
          "data": {
            "text/plain": [
              "int"
            ]
          },
          "metadata": {
            "tags": []
          },
          "execution_count": 28
        }
      ]
    },
    {
      "cell_type": "code",
      "metadata": {
        "id": "9KiX5jvz49ij",
        "colab_type": "code",
        "colab": {},
        "outputId": "e1c1b8a5-db8a-44ca-fcbd-12807ed84536"
      },
      "source": [
        "type(3.0)"
      ],
      "execution_count": null,
      "outputs": [
        {
          "output_type": "execute_result",
          "data": {
            "text/plain": [
              "float"
            ]
          },
          "metadata": {
            "tags": []
          },
          "execution_count": 29
        }
      ]
    },
    {
      "cell_type": "code",
      "metadata": {
        "id": "8xnOWXAc49iu",
        "colab_type": "code",
        "colab": {},
        "outputId": "90719b9f-559f-49ee-e9ab-d8d23628ff90"
      },
      "source": [
        "type(None)"
      ],
      "execution_count": null,
      "outputs": [
        {
          "output_type": "execute_result",
          "data": {
            "text/plain": [
              "NoneType"
            ]
          },
          "metadata": {
            "tags": []
          },
          "execution_count": 30
        }
      ]
    },
    {
      "cell_type": "code",
      "metadata": {
        "id": "3sXptdnJ49i2",
        "colab_type": "code",
        "colab": {},
        "outputId": "9bb132bb-847a-4064-c855-7bc9c1911d17"
      },
      "source": [
        "type(True)"
      ],
      "execution_count": null,
      "outputs": [
        {
          "output_type": "execute_result",
          "data": {
            "text/plain": [
              "bool"
            ]
          },
          "metadata": {
            "tags": []
          },
          "execution_count": 31
        }
      ]
    },
    {
      "cell_type": "code",
      "metadata": {
        "id": "LF3tR6jB49i-",
        "colab_type": "code",
        "colab": {}
      },
      "source": [
        "city='London' # A string variable assignment.\n",
        "money = 100.75 # A floating point number assignment\n",
        "count=4 #An integer assignment"
      ],
      "execution_count": null,
      "outputs": []
    },
    {
      "cell_type": "code",
      "metadata": {
        "id": "5zrZBgRb49jG",
        "colab_type": "code",
        "colab": {},
        "outputId": "249f9f08-899f-4ade-9b1c-17ae25a3ee15"
      },
      "source": [
        "type(city)"
      ],
      "execution_count": null,
      "outputs": [
        {
          "output_type": "execute_result",
          "data": {
            "text/plain": [
              "str"
            ]
          },
          "metadata": {
            "tags": []
          },
          "execution_count": 11
        }
      ]
    },
    {
      "cell_type": "code",
      "metadata": {
        "id": "IbUxlsaY49jL",
        "colab_type": "code",
        "colab": {},
        "outputId": "e9e28fc6-c0a2-4a2b-8196-6e61c6a2c12c"
      },
      "source": [
        "type(money)"
      ],
      "execution_count": null,
      "outputs": [
        {
          "output_type": "execute_result",
          "data": {
            "text/plain": [
              "float"
            ]
          },
          "metadata": {
            "tags": []
          },
          "execution_count": 12
        }
      ]
    },
    {
      "cell_type": "code",
      "metadata": {
        "id": "RdTQCCvV49jR",
        "colab_type": "code",
        "colab": {},
        "outputId": "1355f35f-3861-42cf-892b-0f36cf22eba4"
      },
      "source": [
        "city = 2\n",
        "type(city)"
      ],
      "execution_count": null,
      "outputs": [
        {
          "output_type": "execute_result",
          "data": {
            "text/plain": [
              "int"
            ]
          },
          "metadata": {
            "tags": []
          },
          "execution_count": 8
        }
      ]
    },
    {
      "cell_type": "markdown",
      "metadata": {
        "id": "dByzyVFT49jV",
        "colab_type": "text"
      },
      "source": [
        "## Operaciones aritméticas y lógicas"
      ]
    },
    {
      "cell_type": "markdown",
      "metadata": {
        "id": "Mppe9DNq49jX",
        "colab_type": "text"
      },
      "source": [
        "Los operadores aritméticos principales son:\n"
      ]
    },
    {
      "cell_type": "markdown",
      "metadata": {
        "id": "07-w6RNa49jZ",
        "colab_type": "text"
      },
      "source": [
        "- Suma: +\n",
        "- Resta: -\n",
        "- Multiplicación: *\n",
        "- División entera: //\n",
        "- División real: /\n",
        "- Residuo: %\n",
        "- Potencia: **\n",
        "- Asignación: =\n",
        "- Asignación con suma: +=\n",
        "- Asignación con resta: -=\n",
        "\n",
        "A continuación se muestran algunos ejemplos de operaciones básicas:"
      ]
    },
    {
      "cell_type": "code",
      "metadata": {
        "id": "r-qQHIxB49jb",
        "colab_type": "code",
        "colab": {},
        "outputId": "bfad3809-9526-4c99-fad2-f291993d2884"
      },
      "source": [
        "#división que te va a dar como resultado un número real.\n",
        "7/3\n"
      ],
      "execution_count": null,
      "outputs": [
        {
          "output_type": "execute_result",
          "data": {
            "text/plain": [
              "2.3333333333333335"
            ]
          },
          "metadata": {
            "tags": []
          },
          "execution_count": 13
        }
      ]
    },
    {
      "cell_type": "code",
      "metadata": {
        "id": "WwjqCpTu49jh",
        "colab_type": "code",
        "colab": {},
        "outputId": "61071ad7-64b2-4820-cee0-151c1faeb69d"
      },
      "source": [
        "#División que te va a dar como resultado un número entero\n",
        "7//3\n"
      ],
      "execution_count": null,
      "outputs": [
        {
          "output_type": "execute_result",
          "data": {
            "text/plain": [
              "2"
            ]
          },
          "metadata": {
            "tags": []
          },
          "execution_count": 14
        }
      ]
    },
    {
      "cell_type": "code",
      "metadata": {
        "id": "fg6I6zlj49jl",
        "colab_type": "code",
        "colab": {},
        "outputId": "eb549898-b693-43f2-c68d-4ebe34e4b859"
      },
      "source": [
        "1//4"
      ],
      "execution_count": null,
      "outputs": [
        {
          "output_type": "execute_result",
          "data": {
            "text/plain": [
              "0"
            ]
          },
          "metadata": {
            "tags": []
          },
          "execution_count": 51
        }
      ]
    },
    {
      "cell_type": "code",
      "metadata": {
        "id": "4buv-3Vp49jr",
        "colab_type": "code",
        "colab": {},
        "outputId": "7a08c66e-3eed-4c08-c8f4-41af7bcd2a82"
      },
      "source": [
        "1/4"
      ],
      "execution_count": null,
      "outputs": [
        {
          "output_type": "execute_result",
          "data": {
            "text/plain": [
              "0.25"
            ]
          },
          "metadata": {
            "tags": []
          },
          "execution_count": 52
        }
      ]
    },
    {
      "cell_type": "code",
      "metadata": {
        "id": "NljjNr0l49jw",
        "colab_type": "code",
        "colab": {},
        "outputId": "9958bbcf-c250-416e-a5f6-baefaf2d383c"
      },
      "source": [
        "#Ejemplo de la operación residuo\n",
        "17 % 3"
      ],
      "execution_count": null,
      "outputs": [
        {
          "output_type": "execute_result",
          "data": {
            "text/plain": [
              "2"
            ]
          },
          "metadata": {
            "tags": []
          },
          "execution_count": 15
        }
      ]
    },
    {
      "cell_type": "code",
      "metadata": {
        "id": "4FXmk7Ee49j3",
        "colab_type": "code",
        "colab": {},
        "outputId": "036ca922-abb6-427c-9922-8d5cb5159be7"
      },
      "source": [
        "8*8*8*8*8*8*8"
      ],
      "execution_count": null,
      "outputs": [
        {
          "output_type": "execute_result",
          "data": {
            "text/plain": [
              "2097152"
            ]
          },
          "metadata": {
            "tags": []
          },
          "execution_count": 19
        }
      ]
    },
    {
      "cell_type": "code",
      "metadata": {
        "id": "IxNztR0x49kC",
        "colab_type": "code",
        "colab": {},
        "outputId": "f3bf823b-86ce-407d-a138-8ccf0b08c490"
      },
      "source": [
        "8**7"
      ],
      "execution_count": null,
      "outputs": [
        {
          "output_type": "execute_result",
          "data": {
            "text/plain": [
              "2097152"
            ]
          },
          "metadata": {
            "tags": []
          },
          "execution_count": 20
        }
      ]
    },
    {
      "cell_type": "code",
      "metadata": {
        "id": "urarlxyI49kM",
        "colab_type": "code",
        "colab": {},
        "outputId": "eed42e4c-61c3-415c-9c88-84e30eac31fa"
      },
      "source": [
        "x = 5*3\n",
        "print(x)"
      ],
      "execution_count": null,
      "outputs": [
        {
          "output_type": "stream",
          "text": [
            "15\n"
          ],
          "name": "stdout"
        }
      ]
    },
    {
      "cell_type": "code",
      "metadata": {
        "id": "vnWvPVp749kR",
        "colab_type": "code",
        "colab": {},
        "outputId": "7d19939f-835a-4e14-dbaf-17318758cdd0"
      },
      "source": [
        "x = x + 2\n",
        "print(x)"
      ],
      "execution_count": null,
      "outputs": [
        {
          "output_type": "stream",
          "text": [
            "17\n"
          ],
          "name": "stdout"
        }
      ]
    },
    {
      "cell_type": "code",
      "metadata": {
        "id": "YJMQWWok49kW",
        "colab_type": "code",
        "colab": {},
        "outputId": "67fd4ef1-cd75-460e-f767-35481361f26a"
      },
      "source": [
        "x += 2 # x = x + 2\n",
        "print(x)"
      ],
      "execution_count": null,
      "outputs": [
        {
          "output_type": "stream",
          "text": [
            "19\n"
          ],
          "name": "stdout"
        }
      ]
    },
    {
      "cell_type": "code",
      "metadata": {
        "id": "iStwczlr49ka",
        "colab_type": "code",
        "colab": {},
        "outputId": "92ee6aed-c5a4-4502-c952-9c37d2ec0aee"
      },
      "source": [
        "y =  4 * 6\n",
        "z = 5\n",
        "y += z\n",
        "print(y)"
      ],
      "execution_count": null,
      "outputs": [
        {
          "output_type": "stream",
          "text": [
            "29\n"
          ],
          "name": "stdout"
        }
      ]
    },
    {
      "cell_type": "markdown",
      "metadata": {
        "id": "aHfhNsRP49kh",
        "colab_type": "text"
      },
      "source": [
        "# Operadores lógicos y de Comparación:\n",
        "\n",
        "Python posee los siguientes operadores lógicos básicos:\n",
        "\n",
        "- ```and, or, not``` \n",
        "\n",
        "Y los siguientes operadores de comparación:\n",
        "\n",
        "- ```a == b```: retorna verdadero si los valores de a y b son iguales, falso en otro caso.\n",
        "- ```a != b ```: retorna verdadero si los valores son diferentes, falso en otro caso.\n",
        "- ```a >= b```: retorna verdadero si a es mayor o igual a b. \n",
        "- ```a > b```: retorna verdadero si a es mayor a b. \n",
        "- ```a <= b```: retorna verdadero si a es menor o igual a b.\n",
        "- ```a < b```: retorna verdadero si a es menor a b.\n",
        "\n",
        "A continuación algunos ejemplos:"
      ]
    },
    {
      "cell_type": "code",
      "metadata": {
        "id": "4ZCswPNs49ki",
        "colab_type": "code",
        "colab": {},
        "outputId": "05c73cc8-9a82-49ff-8fff-3fcb3015bbec"
      },
      "source": [
        "a = 3\n",
        "b = 4\n",
        "\n",
        "print(a == b)"
      ],
      "execution_count": null,
      "outputs": [
        {
          "output_type": "stream",
          "text": [
            "False\n"
          ],
          "name": "stdout"
        }
      ]
    },
    {
      "cell_type": "code",
      "metadata": {
        "id": "oVXe8Zw849kl",
        "colab_type": "code",
        "colab": {},
        "outputId": "5f8b5310-1148-4e8c-fbe5-c3fdc6be1e92"
      },
      "source": [
        "x = 3\n",
        "y = 5\n",
        "print(x > y)"
      ],
      "execution_count": null,
      "outputs": [
        {
          "output_type": "stream",
          "text": [
            "False\n"
          ],
          "name": "stdout"
        }
      ]
    },
    {
      "cell_type": "code",
      "metadata": {
        "id": "hOFd1h0B49ks",
        "colab_type": "code",
        "colab": {},
        "outputId": "9fccbafb-bc5a-484b-deec-dc5d161ee143"
      },
      "source": [
        "-4 <= -7"
      ],
      "execution_count": null,
      "outputs": [
        {
          "output_type": "execute_result",
          "data": {
            "text/plain": [
              "False"
            ]
          },
          "metadata": {
            "tags": []
          },
          "execution_count": 44
        }
      ]
    },
    {
      "cell_type": "code",
      "metadata": {
        "id": "R9K2dEwx49kz",
        "colab_type": "code",
        "colab": {},
        "outputId": "a83b606a-c2ef-45fb-ef6f-bbf6d1d33533"
      },
      "source": [
        "x = 5*3\n",
        "y = 15\n",
        "\n",
        "print(x == y)"
      ],
      "execution_count": null,
      "outputs": [
        {
          "output_type": "stream",
          "text": [
            "True\n"
          ],
          "name": "stdout"
        }
      ]
    },
    {
      "cell_type": "code",
      "metadata": {
        "id": "yeVevRoK49k6",
        "colab_type": "code",
        "colab": {},
        "outputId": "a83801f4-3148-4fe4-9cdf-dbdd7fda2d7b"
      },
      "source": [
        "Claudia_pone_metro = False\n",
        "Claudia_es_buena_alcaldesa = False\n",
        "\n",
        "print(Claudia_pone_metro and Claudia_es_buena_alcaldesa)"
      ],
      "execution_count": null,
      "outputs": [
        {
          "output_type": "stream",
          "text": [
            "False\n"
          ],
          "name": "stdout"
        }
      ]
    },
    {
      "cell_type": "code",
      "metadata": {
        "id": "7PgMojNQ49lB",
        "colab_type": "code",
        "colab": {},
        "outputId": "33303560-40d2-4b10-8d44-019bcc8dd555"
      },
      "source": [
        "p = False # hoy es lunes\n",
        "q = False  # dos es impar\n",
        "\n",
        "print(not p or q)"
      ],
      "execution_count": null,
      "outputs": [
        {
          "output_type": "stream",
          "text": [
            "True\n"
          ],
          "name": "stdout"
        }
      ]
    },
    {
      "cell_type": "markdown",
      "metadata": {
        "id": "H-z1G_nh49lH",
        "colab_type": "text"
      },
      "source": [
        "# Operaciones a nivel de bits"
      ]
    },
    {
      "cell_type": "markdown",
      "metadata": {
        "id": "UVL0yxef49lI",
        "colab_type": "text"
      },
      "source": [
        "Python también soporta operaciones a nivel de bits:\n",
        "- ```|``` or lógica\n",
        "- ```&``` and lógico\n",
        "- ```~``` not (unario)\n",
        "- ```^``` xor\n",
        "- ```>>``` corrimiento en bits a derecha\n",
        "- ```<<``` corrimiento en bits a izquierda\n",
        "    "
      ]
    },
    {
      "cell_type": "code",
      "metadata": {
        "id": "BZE7Cz1t49lJ",
        "colab_type": "code",
        "colab": {},
        "outputId": "b98e2f21-ae4f-42b3-ffc6-ca432144674e"
      },
      "source": [
        "24 | 5"
      ],
      "execution_count": null,
      "outputs": [
        {
          "output_type": "execute_result",
          "data": {
            "text/plain": [
              "29"
            ]
          },
          "metadata": {
            "tags": []
          },
          "execution_count": 70
        }
      ]
    },
    {
      "cell_type": "code",
      "metadata": {
        "id": "qIpg7X6g49lO",
        "colab_type": "code",
        "colab": {},
        "outputId": "ebe5b340-5445-498a-f91c-575b8ddcf02b"
      },
      "source": [
        "24 & 5"
      ],
      "execution_count": null,
      "outputs": [
        {
          "output_type": "execute_result",
          "data": {
            "text/plain": [
              "0"
            ]
          },
          "metadata": {
            "tags": []
          },
          "execution_count": 71
        }
      ]
    },
    {
      "cell_type": "code",
      "metadata": {
        "id": "Sxfq8H0i49lV",
        "colab_type": "code",
        "colab": {},
        "outputId": "2f3125d0-b488-4e14-d019-472e730b1b1a"
      },
      "source": [
        "2422 >> 1"
      ],
      "execution_count": null,
      "outputs": [
        {
          "output_type": "execute_result",
          "data": {
            "text/plain": [
              "1211"
            ]
          },
          "metadata": {
            "tags": []
          },
          "execution_count": 72
        }
      ]
    },
    {
      "cell_type": "code",
      "metadata": {
        "id": "Njf6ucbH49la",
        "colab_type": "code",
        "colab": {},
        "outputId": "5f9de10d-bce6-4fd7-da00-52485edcd134"
      },
      "source": [
        "5 & 1 "
      ],
      "execution_count": null,
      "outputs": [
        {
          "output_type": "execute_result",
          "data": {
            "text/plain": [
              "1"
            ]
          },
          "metadata": {
            "tags": []
          },
          "execution_count": 11
        }
      ]
    },
    {
      "cell_type": "code",
      "metadata": {
        "id": "-l0dd4yF49lh",
        "colab_type": "code",
        "colab": {},
        "outputId": "e85ba24a-890c-472b-b37a-42d9cf5cfbac"
      },
      "source": [
        "4 & 1"
      ],
      "execution_count": null,
      "outputs": [
        {
          "output_type": "execute_result",
          "data": {
            "text/plain": [
              "0"
            ]
          },
          "metadata": {
            "tags": []
          },
          "execution_count": 50
        }
      ]
    },
    {
      "cell_type": "code",
      "metadata": {
        "id": "99YdsOlF49lm",
        "colab_type": "code",
        "colab": {},
        "outputId": "bf32c28a-8d03-4ce4-f5d1-375e292ff831"
      },
      "source": [
        "1 << 2"
      ],
      "execution_count": null,
      "outputs": [
        {
          "output_type": "execute_result",
          "data": {
            "text/plain": [
              "4"
            ]
          },
          "metadata": {
            "tags": []
          },
          "execution_count": 51
        }
      ]
    },
    {
      "cell_type": "code",
      "metadata": {
        "id": "Hdh268kb49lt",
        "colab_type": "code",
        "colab": {},
        "outputId": "9b012fff-b524-459f-df8d-733664a2a96b"
      },
      "source": [
        "24^4 #xor"
      ],
      "execution_count": null,
      "outputs": [
        {
          "output_type": "execute_result",
          "data": {
            "text/plain": [
              "28"
            ]
          },
          "metadata": {
            "tags": []
          },
          "execution_count": 86
        }
      ]
    },
    {
      "cell_type": "code",
      "metadata": {
        "id": "ueE4iw4V49lz",
        "colab_type": "code",
        "colab": {},
        "outputId": "e63b164f-4e34-409e-9917-624d38d4114e"
      },
      "source": [
        "~4"
      ],
      "execution_count": null,
      "outputs": [
        {
          "output_type": "execute_result",
          "data": {
            "text/plain": [
              "-5"
            ]
          },
          "metadata": {
            "tags": []
          },
          "execution_count": 87
        }
      ]
    },
    {
      "cell_type": "code",
      "metadata": {
        "id": "nhQGmDTD49l5",
        "colab_type": "code",
        "colab": {},
        "outputId": "4f8a4680-cd0e-4cdd-d951-44531a5cd5de"
      },
      "source": [
        "63 & ~(1 << 3)"
      ],
      "execution_count": null,
      "outputs": [
        {
          "output_type": "execute_result",
          "data": {
            "text/plain": [
              "55"
            ]
          },
          "metadata": {
            "tags": []
          },
          "execution_count": 89
        }
      ]
    },
    {
      "cell_type": "markdown",
      "metadata": {
        "id": "q3-a_VGW49l8",
        "colab_type": "text"
      },
      "source": [
        "## Conversión de tipos (casting)\n",
        "\n",
        "Para realizar la conversión de tipos se utiliza el nombre del tipo de dato y paréntesis:"
      ]
    },
    {
      "cell_type": "code",
      "metadata": {
        "id": "D8s_y3La49l9",
        "colab_type": "code",
        "colab": {},
        "outputId": "a7846dd5-fb7a-4a77-934b-5750138a7d17"
      },
      "source": [
        "int(4.77)"
      ],
      "execution_count": null,
      "outputs": [
        {
          "output_type": "execute_result",
          "data": {
            "text/plain": [
              "4"
            ]
          },
          "metadata": {
            "tags": []
          },
          "execution_count": 91
        }
      ]
    },
    {
      "cell_type": "code",
      "metadata": {
        "id": "NI8M8IJu49mF",
        "colab_type": "code",
        "colab": {},
        "outputId": "ed8618c1-d2ef-4f53-9cb2-a93583b0e9c0"
      },
      "source": [
        "float(65)"
      ],
      "execution_count": null,
      "outputs": [
        {
          "output_type": "execute_result",
          "data": {
            "text/plain": [
              "65.0"
            ]
          },
          "metadata": {
            "tags": []
          },
          "execution_count": 8
        }
      ]
    },
    {
      "cell_type": "code",
      "metadata": {
        "id": "Z6KKLUZS49mL",
        "colab_type": "code",
        "colab": {},
        "outputId": "3257d4c1-ebe3-4b30-d4ee-b846033a38f2"
      },
      "source": [
        "str(98)"
      ],
      "execution_count": null,
      "outputs": [
        {
          "output_type": "execute_result",
          "data": {
            "text/plain": [
              "'98'"
            ]
          },
          "metadata": {
            "tags": []
          },
          "execution_count": 92
        }
      ]
    },
    {
      "cell_type": "code",
      "metadata": {
        "id": "naywx7Th49mV",
        "colab_type": "code",
        "colab": {},
        "outputId": "03fbd3e6-3724-44b9-b71a-1f5cd3aa69d3"
      },
      "source": [
        "var = 98\n",
        "print(var)"
      ],
      "execution_count": null,
      "outputs": [
        {
          "output_type": "stream",
          "text": [
            "98\n"
          ],
          "name": "stdout"
        }
      ]
    },
    {
      "cell_type": "markdown",
      "metadata": {
        "id": "fVEpwO_r49md",
        "colab_type": "text"
      },
      "source": [
        "## Lectura de variables desde la entrada estándar\n",
        "\n",
        "Es posible leer valores digitados por el usuario de la siguiente forma:"
      ]
    },
    {
      "cell_type": "code",
      "metadata": {
        "id": "kHUOKlmS49md",
        "colab_type": "code",
        "colab": {},
        "outputId": "1ffe7c63-6bf0-4563-8d20-cb59a100151e"
      },
      "source": [
        "x = input()\n",
        "print(\"valor leido: \" + x)"
      ],
      "execution_count": null,
      "outputs": [
        {
          "output_type": "stream",
          "text": [
            "solito\n",
            "valor leido: solito\n"
          ],
          "name": "stdout"
        }
      ]
    },
    {
      "cell_type": "code",
      "metadata": {
        "id": "wC7oBsXr49mo",
        "colab_type": "code",
        "colab": {},
        "outputId": "21726b29-7236-4112-c90d-efc3590c32f4"
      },
      "source": [
        "nombre = input('digite su nombre:')\n",
        "print(\"Hola \" + nombre + \"!!!!!\")"
      ],
      "execution_count": null,
      "outputs": [
        {
          "output_type": "stream",
          "text": [
            "digite su nombre:Arles\n",
            "Hola Arles!!!!!\n"
          ],
          "name": "stdout"
        }
      ]
    },
    {
      "cell_type": "code",
      "metadata": {
        "id": "7_FsQzwZ49mt",
        "colab_type": "code",
        "colab": {},
        "outputId": "dd7a620c-d416-40fd-f42a-23f15e191616"
      },
      "source": [
        "valor_compra = float(input(\"digite el valor de la compra: \"))\n",
        "#crear la variable porcentaje descuento y leer el valor\n",
        "descuento = valor_compra*0.1 #hay un descuento del 10%\n",
        "valor_a_pagar = valor_compra - descuento\n",
        "print(\"El valor a pagar es: \" + str(valor_a_pagar))\n",
        "print('Tu ahorro fue de: ' + str(descuento))"
      ],
      "execution_count": null,
      "outputs": [
        {
          "output_type": "stream",
          "text": [
            "digite el valor de la compra: 277276\n",
            "El valor a pagar es: 249548.4\n",
            "Tu ahorro fue de: 27727.600000000002\n"
          ],
          "name": "stdout"
        }
      ]
    },
    {
      "cell_type": "markdown",
      "metadata": {
        "id": "r1V7pdz749my",
        "colab_type": "text"
      },
      "source": [
        "### Ejercicio 1\n",
        "\n",
        "- Ejercicio 1: Utilizando el programa anterior, leer el descuento y calcular valor a pagar y ahorro.\n"
      ]
    },
    {
      "cell_type": "code",
      "metadata": {
        "id": "lyBkkNpb49m1",
        "colab_type": "code",
        "colab": {}
      },
      "source": [
        ""
      ],
      "execution_count": null,
      "outputs": []
    },
    {
      "cell_type": "markdown",
      "metadata": {
        "id": "VMNksFWI49m6",
        "colab_type": "text"
      },
      "source": [
        "### Ejercicio 2\n",
        "\n",
        "Elabore un programa que Calcule el área de un rectángulo.\n"
      ]
    },
    {
      "cell_type": "code",
      "metadata": {
        "id": "VN2sYKdw49m6",
        "colab_type": "code",
        "colab": {}
      },
      "source": [
        ""
      ],
      "execution_count": null,
      "outputs": []
    },
    {
      "cell_type": "markdown",
      "metadata": {
        "id": "oAZTR8cw49nA",
        "colab_type": "text"
      },
      "source": [
        "### Ejercicio 3: \n",
        "\n",
        "Elabore un programa que Calcule el área de un círculo."
      ]
    },
    {
      "cell_type": "code",
      "metadata": {
        "id": "r-9sMfox49nA",
        "colab_type": "code",
        "colab": {},
        "outputId": "6cf2dcb1-6d56-48b5-d934-a61152a746a2"
      },
      "source": [
        "from math import pi\n",
        "print(pi)\n"
      ],
      "execution_count": null,
      "outputs": [
        {
          "output_type": "stream",
          "text": [
            "3.141592653589793\n"
          ],
          "name": "stdout"
        }
      ]
    },
    {
      "cell_type": "markdown",
      "metadata": {
        "id": "vqsUIkv649nI",
        "colab_type": "text"
      },
      "source": [
        "## Ejercicio 4: Cajero Electrónico\n",
        "\n",
        "El banco unaleño requiere su ayuda para la implementación de cajeros electrónicos en ciudad Gótica. Gótica tiene billetes de $10.000, $20.000, $50.000 y $100.000.\n",
        "\n",
        "El banco desea emplear la menor cantidad de billetes posibles cuando un ciudadano realiza un retiro. El banco en otro desarrollo de software ya se aseguró de que la cantidad de dinero a retirar sea múltiplo de 10000.\n",
        "\n",
        "Entrada\n",
        "\n",
        "La entrada es un valor a retirar. Se garantiza que el valor a retirar es múltiplo de 10.000\n",
        "\n",
        "Salida\n",
        "\n",
        "El número de billetes a repartir de cada denominación en el formato mostrado en las ejecuciones de ejemplo:\n",
        "\n",
        "Ejemplo\n",
        "\n",
        "<table>\n",
        "    <tr>\n",
        "        <td>\n",
        "        Input\n",
        "        </td>\n",
        "        <td>\n",
        "        Output\n",
        "        </td>\n",
        "    </tr>\n",
        "    <tr>\n",
        "        <td>\n",
        "        560000\n",
        "        </td>\n",
        "        <td><p>\n",
        "            5 x \\$100000 <br>   \n",
        "            1 x \\$50000<br>\n",
        "            0 x \\$20000<br>\n",
        "            1 x \\$10000<br>\n",
        "           </p>\n",
        "        </td>\n",
        "    </tr>   \n",
        "   \n",
        "</table>\n"
      ]
    },
    {
      "cell_type": "code",
      "metadata": {
        "id": "oEO9FOi449nJ",
        "colab_type": "code",
        "colab": {
          "base_uri": "https://localhost:8080/",
          "height": 105
        },
        "outputId": "2481d790-4d81-4286-a82d-5baac3fe79e0"
      },
      "source": [
        "retiro = input()\n",
        "billete_100 = []\n",
        "billete_50 = []\n",
        "billete_20 = []\n",
        "billete_10 = []\n",
        "\n",
        "# Cantidad de billetes de 100k\n",
        "try:\n",
        "  billete_100.append(int(retiro[:-5]))\n",
        "# Cuando no se deben entregar billetes de 100k\n",
        "except:\n",
        "  billete_100 = [0]\n",
        "\n",
        "# Cantidad de billetes de 10k, 20k y 50k\n",
        "\n",
        "# Si el retiro es número par\n",
        "if not int(retiro[-5]) % 2:\n",
        "  # Si es menor a 5\n",
        "  if int(retiro[-5]) < 5:  \n",
        "    billete_20.append(int(retiro[-5]) // 2)\n",
        "  # Si es mayor o igual a 5\n",
        "  else:  \n",
        "    billete_50.append(int(retiro[-5]) // 5)\n",
        "    billete_20.append((int(retiro[-5])-5) // 2)\n",
        "    billete_10.append((int(retiro[-5])-5) % 2)\n",
        "\n",
        "# Si el retiro es número impar\n",
        "elif int(retiro[-5]) % 2: \n",
        "  # Si es menor a 5\n",
        "  if int(retiro[-5]) < 5:  \n",
        "    billete_20.append(int(retiro[-5]) // 2)\n",
        "    billete_10.append(int(retiro[-5]) % 2)\n",
        "  # Si es mayor o igual a 5\n",
        "  else:  \n",
        "    billete_50.append(int(retiro[-5]) // 5)\n",
        "    billete_20.append((int(retiro[-5])-5) // 2)\n",
        "\n",
        "# Imprimiendo cantidad de billetes a entregar\n",
        "print(f'{sum(billete_100)} x $100000',\n",
        "      f'{sum(billete_50)} x $50000',\n",
        "      f'{sum(billete_20)} x $20000',\n",
        "      f'{sum(billete_10)} x $10000', sep = '\\n')"
      ],
      "execution_count": 45,
      "outputs": [
        {
          "output_type": "stream",
          "text": [
            "30000\n",
            "0 x $100000\n",
            "0 x $50000\n",
            "1 x $20000\n",
            "1 x $10000\n"
          ],
          "name": "stdout"
        }
      ]
    },
    {
      "cell_type": "markdown",
      "metadata": {
        "id": "MUDEO9aQ49nQ",
        "colab_type": "text"
      },
      "source": [
        "## Referencias:\n",
        "\n",
        "https://docs.python.org/3/reference/lexical_analysis.html#identifiers\n",
        "\n",
        "Das, B. N. (2017). Learn Python in 7 Days. Packt Publishing Ltd.\n",
        "\n",
        "\n",
        "Gomez, J, Rodriguez A y Cubides C. La ciencia de Programar. Universidad Nacional de Colombia.\n",
        "\n",
        "Rodríguez, A (2020). Curso de Programación en Python. https://github.com/arleserp/cursopython"
      ]
    },
    {
      "cell_type": "code",
      "metadata": {
        "id": "mCwbUk1N49nS",
        "colab_type": "code",
        "colab": {}
      },
      "source": [
        ""
      ],
      "execution_count": null,
      "outputs": []
    }
  ]
}